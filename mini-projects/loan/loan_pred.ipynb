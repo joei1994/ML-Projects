{
 "cells": [
  {
   "cell_type": "markdown",
   "metadata": {},
   "source": [
    "### Import Data"
   ]
  },
  {
   "cell_type": "code",
   "execution_count": 1,
   "metadata": {},
   "outputs": [],
   "source": [
    "import numpy as np\n",
    "import pandas as pd\n",
    "import matplotlib\n",
    "from matplotlib import pyplot as plt\n",
    "from __future__ import division"
   ]
  },
  {
   "cell_type": "code",
   "execution_count": 2,
   "metadata": {},
   "outputs": [],
   "source": [
    "df = pd.read_csv('./data/loans.csv')"
   ]
  },
  {
   "cell_type": "markdown",
   "metadata": {},
   "source": [
    "### Explore Data"
   ]
  },
  {
   "cell_type": "code",
   "execution_count": 3,
   "metadata": {},
   "outputs": [
    {
     "data": {
      "text/html": [
       "<div>\n",
       "<style scoped>\n",
       "    .dataframe tbody tr th:only-of-type {\n",
       "        vertical-align: middle;\n",
       "    }\n",
       "\n",
       "    .dataframe tbody tr th {\n",
       "        vertical-align: top;\n",
       "    }\n",
       "\n",
       "    .dataframe thead th {\n",
       "        text-align: right;\n",
       "    }\n",
       "</style>\n",
       "<table border=\"1\" class=\"dataframe\">\n",
       "  <thead>\n",
       "    <tr style=\"text-align: right;\">\n",
       "      <th></th>\n",
       "      <th>credit_policy</th>\n",
       "      <th>purpose</th>\n",
       "      <th>int_rate</th>\n",
       "      <th>installment</th>\n",
       "      <th>log_annual_inc</th>\n",
       "      <th>dti</th>\n",
       "      <th>fico</th>\n",
       "      <th>days_with_cr_line</th>\n",
       "      <th>revol_bal</th>\n",
       "      <th>revol_util</th>\n",
       "      <th>inq_last_6mths</th>\n",
       "      <th>delinq_2yrs</th>\n",
       "      <th>pub_rec</th>\n",
       "      <th>not_fully_paid</th>\n",
       "    </tr>\n",
       "  </thead>\n",
       "  <tbody>\n",
       "    <tr>\n",
       "      <th>0</th>\n",
       "      <td>1</td>\n",
       "      <td>debt_consolidation</td>\n",
       "      <td>0.1189</td>\n",
       "      <td>829.10</td>\n",
       "      <td>11.350407</td>\n",
       "      <td>19.48</td>\n",
       "      <td>737</td>\n",
       "      <td>5639.958333</td>\n",
       "      <td>28854</td>\n",
       "      <td>52.1</td>\n",
       "      <td>0.0</td>\n",
       "      <td>0.0</td>\n",
       "      <td>0.0</td>\n",
       "      <td>0</td>\n",
       "    </tr>\n",
       "    <tr>\n",
       "      <th>1</th>\n",
       "      <td>1</td>\n",
       "      <td>credit_card</td>\n",
       "      <td>0.1071</td>\n",
       "      <td>228.22</td>\n",
       "      <td>11.082143</td>\n",
       "      <td>14.29</td>\n",
       "      <td>707</td>\n",
       "      <td>2760.000000</td>\n",
       "      <td>33623</td>\n",
       "      <td>76.7</td>\n",
       "      <td>0.0</td>\n",
       "      <td>0.0</td>\n",
       "      <td>0.0</td>\n",
       "      <td>0</td>\n",
       "    </tr>\n",
       "    <tr>\n",
       "      <th>2</th>\n",
       "      <td>1</td>\n",
       "      <td>debt_consolidation</td>\n",
       "      <td>0.1357</td>\n",
       "      <td>366.86</td>\n",
       "      <td>10.373491</td>\n",
       "      <td>11.63</td>\n",
       "      <td>682</td>\n",
       "      <td>4710.000000</td>\n",
       "      <td>3511</td>\n",
       "      <td>25.6</td>\n",
       "      <td>1.0</td>\n",
       "      <td>0.0</td>\n",
       "      <td>0.0</td>\n",
       "      <td>0</td>\n",
       "    </tr>\n",
       "    <tr>\n",
       "      <th>3</th>\n",
       "      <td>1</td>\n",
       "      <td>debt_consolidation</td>\n",
       "      <td>0.1008</td>\n",
       "      <td>162.34</td>\n",
       "      <td>11.350407</td>\n",
       "      <td>8.10</td>\n",
       "      <td>712</td>\n",
       "      <td>2699.958333</td>\n",
       "      <td>33667</td>\n",
       "      <td>73.2</td>\n",
       "      <td>1.0</td>\n",
       "      <td>0.0</td>\n",
       "      <td>0.0</td>\n",
       "      <td>0</td>\n",
       "    </tr>\n",
       "    <tr>\n",
       "      <th>4</th>\n",
       "      <td>1</td>\n",
       "      <td>credit_card</td>\n",
       "      <td>0.1426</td>\n",
       "      <td>102.92</td>\n",
       "      <td>11.299732</td>\n",
       "      <td>14.97</td>\n",
       "      <td>667</td>\n",
       "      <td>4066.000000</td>\n",
       "      <td>4740</td>\n",
       "      <td>39.5</td>\n",
       "      <td>0.0</td>\n",
       "      <td>1.0</td>\n",
       "      <td>0.0</td>\n",
       "      <td>0</td>\n",
       "    </tr>\n",
       "  </tbody>\n",
       "</table>\n",
       "</div>"
      ],
      "text/plain": [
       "   credit_policy             purpose  int_rate  installment  log_annual_inc  \\\n",
       "0              1  debt_consolidation    0.1189       829.10       11.350407   \n",
       "1              1         credit_card    0.1071       228.22       11.082143   \n",
       "2              1  debt_consolidation    0.1357       366.86       10.373491   \n",
       "3              1  debt_consolidation    0.1008       162.34       11.350407   \n",
       "4              1         credit_card    0.1426       102.92       11.299732   \n",
       "\n",
       "     dti  fico  days_with_cr_line  revol_bal  revol_util  inq_last_6mths  \\\n",
       "0  19.48   737        5639.958333      28854        52.1             0.0   \n",
       "1  14.29   707        2760.000000      33623        76.7             0.0   \n",
       "2  11.63   682        4710.000000       3511        25.6             1.0   \n",
       "3   8.10   712        2699.958333      33667        73.2             1.0   \n",
       "4  14.97   667        4066.000000       4740        39.5             0.0   \n",
       "\n",
       "   delinq_2yrs  pub_rec  not_fully_paid  \n",
       "0          0.0      0.0               0  \n",
       "1          0.0      0.0               0  \n",
       "2          0.0      0.0               0  \n",
       "3          0.0      0.0               0  \n",
       "4          1.0      0.0               0  "
      ]
     },
     "execution_count": 3,
     "metadata": {},
     "output_type": "execute_result"
    }
   ],
   "source": [
    "df.head()"
   ]
  },
  {
   "cell_type": "code",
   "execution_count": 4,
   "metadata": {},
   "outputs": [
    {
     "data": {
      "text/plain": [
       "(9578, 14)"
      ]
     },
     "execution_count": 4,
     "metadata": {},
     "output_type": "execute_result"
    }
   ],
   "source": [
    "df.shape"
   ]
  },
  {
   "cell_type": "markdown",
   "metadata": {},
   "source": [
    "<span style=\"color:green\">There are **9578** instanes, each has **13 features** plus **1 target**</span>"
   ]
  },
  {
   "cell_type": "markdown",
   "metadata": {},
   "source": [
    "### Feature description\n",
    "<br>\n",
    "credit_policy: 1 if borrower matched lender's conditions, 0 otherwise <br>\n",
    "purpose : the purpose of the loan (debt_consolidation, credit_card, home_improvement, small_business, major_purchase, educational, all_others) <br>\n",
    "int_rate : interest rate of the loan <br>\n",
    "installment : money that borrowers has to pay monthly <br>\n",
    "log_annual_inc : log of annual income <br>\n",
    "dti : debt-to-income ratio <br>\n",
    "fico : FICO credit score <br>\n",
    "days_with_cr_line : The number of days the borrowers has credit line <br>\n",
    "revol_bal : The borrower's revoling balance <br>\n",
    "revol_util : The borrower's revoling utilization rate (balance / credit limit) <br>\n",
    "inq_last_6mths : The borrower’s number of inquiries by creditors in the last 6 months. <br>\n",
    "delinq_2yrs : The number of times borrowers has been 30+ exceed the due date in last 2 years <br>\n",
    "pub_rec : The borrower's number of derogatory public records <br>\n",
    "not_fully_paid : 1 if borrower is not paid fully, 0 otherwise"
   ]
  },
  {
   "cell_type": "markdown",
   "metadata": {},
   "source": [
    "### Check for data types"
   ]
  },
  {
   "cell_type": "code",
   "execution_count": 5,
   "metadata": {},
   "outputs": [
    {
     "name": "stdout",
     "output_type": "stream",
     "text": [
      "<class 'pandas.core.frame.DataFrame'>\n",
      "RangeIndex: 9578 entries, 0 to 9577\n",
      "Data columns (total 14 columns):\n",
      "credit_policy        9578 non-null int64\n",
      "purpose              9578 non-null object\n",
      "int_rate             9578 non-null float64\n",
      "installment          9578 non-null float64\n",
      "log_annual_inc       9574 non-null float64\n",
      "dti                  9578 non-null float64\n",
      "fico                 9578 non-null int64\n",
      "days_with_cr_line    9549 non-null float64\n",
      "revol_bal            9578 non-null int64\n",
      "revol_util           9516 non-null float64\n",
      "inq_last_6mths       9549 non-null float64\n",
      "delinq_2yrs          9549 non-null float64\n",
      "pub_rec              9549 non-null float64\n",
      "not_fully_paid       9578 non-null int64\n",
      "dtypes: float64(9), int64(4), object(1)\n",
      "memory usage: 1.0+ MB\n"
     ]
    }
   ],
   "source": [
    "df.info()"
   ]
  },
  {
   "cell_type": "code",
   "execution_count": 6,
   "metadata": {},
   "outputs": [
    {
     "data": {
      "text/plain": [
       "array(['debt_consolidation', 'credit_card', 'all_other',\n",
       "       'home_improvement', 'small_business', 'major_purchase',\n",
       "       'educational'], dtype=object)"
      ]
     },
     "execution_count": 6,
     "metadata": {},
     "output_type": "execute_result"
    }
   ],
   "source": [
    "df['purpose'].unique()"
   ]
  },
  {
   "cell_type": "markdown",
   "metadata": {},
   "source": [
    "<span style=\"color:red\">**purpose is categorical, need one-hot encoding**</span>"
   ]
  },
  {
   "cell_type": "markdown",
   "metadata": {},
   "source": [
    "### Check for missing values"
   ]
  },
  {
   "cell_type": "code",
   "execution_count": 7,
   "metadata": {},
   "outputs": [
    {
     "data": {
      "text/plain": [
       "credit_policy         0\n",
       "purpose               0\n",
       "int_rate              0\n",
       "installment           0\n",
       "log_annual_inc        4\n",
       "dti                   0\n",
       "fico                  0\n",
       "days_with_cr_line    29\n",
       "revol_bal             0\n",
       "revol_util           62\n",
       "inq_last_6mths       29\n",
       "delinq_2yrs          29\n",
       "pub_rec              29\n",
       "not_fully_paid        0\n",
       "dtype: int64"
      ]
     },
     "execution_count": 7,
     "metadata": {},
     "output_type": "execute_result"
    }
   ],
   "source": [
    "df.isnull().sum()"
   ]
  },
  {
   "cell_type": "markdown",
   "metadata": {},
   "source": [
    "<span style=\"color:red\">**There are missing values in following features**</span>\n",
    "<br>\n",
    "<span style=\"color:red\">log_annual_inc | days_with_cr_line | revol_util | inq_last_6mths | delinq_2yrs | pub_rec</span>"
   ]
  },
  {
   "cell_type": "markdown",
   "metadata": {},
   "source": [
    "### Check for overall infomations"
   ]
  },
  {
   "cell_type": "code",
   "execution_count": 8,
   "metadata": {},
   "outputs": [
    {
     "data": {
      "text/html": [
       "<div>\n",
       "<style scoped>\n",
       "    .dataframe tbody tr th:only-of-type {\n",
       "        vertical-align: middle;\n",
       "    }\n",
       "\n",
       "    .dataframe tbody tr th {\n",
       "        vertical-align: top;\n",
       "    }\n",
       "\n",
       "    .dataframe thead th {\n",
       "        text-align: right;\n",
       "    }\n",
       "</style>\n",
       "<table border=\"1\" class=\"dataframe\">\n",
       "  <thead>\n",
       "    <tr style=\"text-align: right;\">\n",
       "      <th></th>\n",
       "      <th>credit_policy</th>\n",
       "      <th>int_rate</th>\n",
       "      <th>installment</th>\n",
       "      <th>log_annual_inc</th>\n",
       "      <th>dti</th>\n",
       "      <th>fico</th>\n",
       "      <th>days_with_cr_line</th>\n",
       "      <th>revol_bal</th>\n",
       "      <th>revol_util</th>\n",
       "      <th>inq_last_6mths</th>\n",
       "      <th>delinq_2yrs</th>\n",
       "      <th>pub_rec</th>\n",
       "      <th>not_fully_paid</th>\n",
       "    </tr>\n",
       "  </thead>\n",
       "  <tbody>\n",
       "    <tr>\n",
       "      <th>count</th>\n",
       "      <td>9578.000000</td>\n",
       "      <td>9578.000000</td>\n",
       "      <td>9578.000000</td>\n",
       "      <td>9574.000000</td>\n",
       "      <td>9578.000000</td>\n",
       "      <td>9578.000000</td>\n",
       "      <td>9549.000000</td>\n",
       "      <td>9.578000e+03</td>\n",
       "      <td>9516.000000</td>\n",
       "      <td>9549.000000</td>\n",
       "      <td>9549.000000</td>\n",
       "      <td>9549.000000</td>\n",
       "      <td>9578.000000</td>\n",
       "    </tr>\n",
       "    <tr>\n",
       "      <th>mean</th>\n",
       "      <td>0.804970</td>\n",
       "      <td>0.122640</td>\n",
       "      <td>319.089413</td>\n",
       "      <td>10.931874</td>\n",
       "      <td>12.606679</td>\n",
       "      <td>710.846314</td>\n",
       "      <td>4562.026085</td>\n",
       "      <td>1.691396e+04</td>\n",
       "      <td>46.865677</td>\n",
       "      <td>1.571578</td>\n",
       "      <td>0.163787</td>\n",
       "      <td>0.062101</td>\n",
       "      <td>0.160054</td>\n",
       "    </tr>\n",
       "    <tr>\n",
       "      <th>std</th>\n",
       "      <td>0.396245</td>\n",
       "      <td>0.026847</td>\n",
       "      <td>207.071301</td>\n",
       "      <td>0.614736</td>\n",
       "      <td>6.883970</td>\n",
       "      <td>37.970537</td>\n",
       "      <td>2497.985733</td>\n",
       "      <td>3.375619e+04</td>\n",
       "      <td>29.018642</td>\n",
       "      <td>2.198095</td>\n",
       "      <td>0.546712</td>\n",
       "      <td>0.262152</td>\n",
       "      <td>0.366676</td>\n",
       "    </tr>\n",
       "    <tr>\n",
       "      <th>min</th>\n",
       "      <td>0.000000</td>\n",
       "      <td>0.060000</td>\n",
       "      <td>15.670000</td>\n",
       "      <td>7.547502</td>\n",
       "      <td>0.000000</td>\n",
       "      <td>612.000000</td>\n",
       "      <td>178.958333</td>\n",
       "      <td>0.000000e+00</td>\n",
       "      <td>0.000000</td>\n",
       "      <td>0.000000</td>\n",
       "      <td>0.000000</td>\n",
       "      <td>0.000000</td>\n",
       "      <td>0.000000</td>\n",
       "    </tr>\n",
       "    <tr>\n",
       "      <th>25%</th>\n",
       "      <td>1.000000</td>\n",
       "      <td>0.103900</td>\n",
       "      <td>163.770000</td>\n",
       "      <td>10.558414</td>\n",
       "      <td>7.212500</td>\n",
       "      <td>682.000000</td>\n",
       "      <td>2820.000000</td>\n",
       "      <td>3.187000e+03</td>\n",
       "      <td>22.700000</td>\n",
       "      <td>0.000000</td>\n",
       "      <td>0.000000</td>\n",
       "      <td>0.000000</td>\n",
       "      <td>0.000000</td>\n",
       "    </tr>\n",
       "    <tr>\n",
       "      <th>50%</th>\n",
       "      <td>1.000000</td>\n",
       "      <td>0.122100</td>\n",
       "      <td>268.950000</td>\n",
       "      <td>10.927987</td>\n",
       "      <td>12.665000</td>\n",
       "      <td>707.000000</td>\n",
       "      <td>4139.958333</td>\n",
       "      <td>8.596000e+03</td>\n",
       "      <td>46.400000</td>\n",
       "      <td>1.000000</td>\n",
       "      <td>0.000000</td>\n",
       "      <td>0.000000</td>\n",
       "      <td>0.000000</td>\n",
       "    </tr>\n",
       "    <tr>\n",
       "      <th>75%</th>\n",
       "      <td>1.000000</td>\n",
       "      <td>0.140700</td>\n",
       "      <td>432.762500</td>\n",
       "      <td>11.289832</td>\n",
       "      <td>17.950000</td>\n",
       "      <td>737.000000</td>\n",
       "      <td>5730.000000</td>\n",
       "      <td>1.824950e+04</td>\n",
       "      <td>71.000000</td>\n",
       "      <td>2.000000</td>\n",
       "      <td>0.000000</td>\n",
       "      <td>0.000000</td>\n",
       "      <td>0.000000</td>\n",
       "    </tr>\n",
       "    <tr>\n",
       "      <th>max</th>\n",
       "      <td>1.000000</td>\n",
       "      <td>0.216400</td>\n",
       "      <td>940.140000</td>\n",
       "      <td>14.528354</td>\n",
       "      <td>29.960000</td>\n",
       "      <td>827.000000</td>\n",
       "      <td>17639.958330</td>\n",
       "      <td>1.207359e+06</td>\n",
       "      <td>119.000000</td>\n",
       "      <td>33.000000</td>\n",
       "      <td>13.000000</td>\n",
       "      <td>5.000000</td>\n",
       "      <td>1.000000</td>\n",
       "    </tr>\n",
       "  </tbody>\n",
       "</table>\n",
       "</div>"
      ],
      "text/plain": [
       "       credit_policy     int_rate  installment  log_annual_inc          dti  \\\n",
       "count    9578.000000  9578.000000  9578.000000     9574.000000  9578.000000   \n",
       "mean        0.804970     0.122640   319.089413       10.931874    12.606679   \n",
       "std         0.396245     0.026847   207.071301        0.614736     6.883970   \n",
       "min         0.000000     0.060000    15.670000        7.547502     0.000000   \n",
       "25%         1.000000     0.103900   163.770000       10.558414     7.212500   \n",
       "50%         1.000000     0.122100   268.950000       10.927987    12.665000   \n",
       "75%         1.000000     0.140700   432.762500       11.289832    17.950000   \n",
       "max         1.000000     0.216400   940.140000       14.528354    29.960000   \n",
       "\n",
       "              fico  days_with_cr_line     revol_bal   revol_util  \\\n",
       "count  9578.000000        9549.000000  9.578000e+03  9516.000000   \n",
       "mean    710.846314        4562.026085  1.691396e+04    46.865677   \n",
       "std      37.970537        2497.985733  3.375619e+04    29.018642   \n",
       "min     612.000000         178.958333  0.000000e+00     0.000000   \n",
       "25%     682.000000        2820.000000  3.187000e+03    22.700000   \n",
       "50%     707.000000        4139.958333  8.596000e+03    46.400000   \n",
       "75%     737.000000        5730.000000  1.824950e+04    71.000000   \n",
       "max     827.000000       17639.958330  1.207359e+06   119.000000   \n",
       "\n",
       "       inq_last_6mths  delinq_2yrs      pub_rec  not_fully_paid  \n",
       "count     9549.000000  9549.000000  9549.000000     9578.000000  \n",
       "mean         1.571578     0.163787     0.062101        0.160054  \n",
       "std          2.198095     0.546712     0.262152        0.366676  \n",
       "min          0.000000     0.000000     0.000000        0.000000  \n",
       "25%          0.000000     0.000000     0.000000        0.000000  \n",
       "50%          1.000000     0.000000     0.000000        0.000000  \n",
       "75%          2.000000     0.000000     0.000000        0.000000  \n",
       "max         33.000000    13.000000     5.000000        1.000000  "
      ]
     },
     "execution_count": 8,
     "metadata": {},
     "output_type": "execute_result"
    }
   ],
   "source": [
    "df.describe()"
   ]
  },
  {
   "cell_type": "markdown",
   "metadata": {},
   "source": [
    "<span style=\"color:green\">**80% have credit_policy**</span>\n"
   ]
  },
  {
   "cell_type": "markdown",
   "metadata": {},
   "source": [
    "### Check for the ratio of class in target variable"
   ]
  },
  {
   "cell_type": "code",
   "execution_count": 9,
   "metadata": {},
   "outputs": [
    {
     "data": {
      "text/plain": [
       "array([0, 1])"
      ]
     },
     "execution_count": 9,
     "metadata": {},
     "output_type": "execute_result"
    }
   ],
   "source": [
    "df['not_fully_paid'].unique()"
   ]
  },
  {
   "cell_type": "markdown",
   "metadata": {},
   "source": [
    "\n",
    "<span style=\"color:green\">**There are 2 classes in target variable (Binary Classification)**</span>\n"
   ]
  },
  {
   "cell_type": "code",
   "execution_count": 10,
   "metadata": {},
   "outputs": [
    {
     "name": "stdout",
     "output_type": "stream",
     "text": [
      "Number of Positive:  1533\n",
      "Number of Negative:  8045\n",
      "Number of Positive rate:  0.16005429108373356\n",
      "Number of Negative rate:  0.8399457089162664\n"
     ]
    }
   ],
   "source": [
    "n_samples = df.shape[0]\n",
    "n_pos = df[df['not_fully_paid'] == 1].shape[0]\n",
    "n_neg = df[df['not_fully_paid'] == 0].shape[0]\n",
    "n_pos_rate = n_pos / n_samples\n",
    "n_neg_rate = n_neg / n_samples\n",
    "\n",
    "print(\"Number of Positive: \", n_pos)\n",
    "print(\"Number of Negative: \", n_neg)\n",
    "print(\"Number of Positive rate: \", n_pos_rate)\n",
    "print(\"Number of Negative rate: \", n_neg_rate)"
   ]
  },
  {
   "cell_type": "code",
   "execution_count": 11,
   "metadata": {},
   "outputs": [
    {
     "name": "stdout",
     "output_type": "stream",
     "text": [
      "Negative-to-Positive ratio:  5.247879973907371\n"
     ]
    }
   ],
   "source": [
    "neg_to_pos_rate = (n_neg / n_pos)\n",
    "print(\"Negative-to-Positive ratio: \", neg_to_pos_rate)"
   ]
  },
  {
   "cell_type": "code",
   "execution_count": 12,
   "metadata": {},
   "outputs": [
    {
     "data": {
      "image/png": "[encoded data removed]",
      "text/plain": [
       "<Figure size 432x288 with 1 Axes>"
      ]
     },
     "metadata": {},
     "output_type": "display_data"
    }
   ],
   "source": [
    "plt.bar(['Fully Paid', 'No Fully Paid'], [n_neg, n_pos], color=['orange', 'blue'])\n",
    "plt.title(\"Target variable Frequency\")\n",
    "plt.show()"
   ]
  },
  {
   "cell_type": "markdown",
   "metadata": {},
   "source": [
    "### Handle missing values\n",
    "<span>**Evaluate the following strategies:**</span><br>\n",
    "1. Delete instance containing missing values <br>\n",
    "2. Impute with Mean <br>\n",
    "3. Impute with Median <br>\n",
    "4. Impute with MICE algorithm\n",
    "\n",
    "we'll train servaral RandomForest models with predefined parameters on different strategies and compare their AUC score"
   ]
  },
  {
   "cell_type": "code",
   "execution_count": 13,
   "metadata": {},
   "outputs": [
    {
     "name": "stderr",
     "output_type": "stream",
     "text": [
      "/Users/80151/anaconda3/lib/python3.6/site-packages/sklearn/preprocessing/_function_transformer.py:98: FutureWarning: The default validate=True will be replaced by validate=False in 0.22.\n",
      "  \"validate=False in 0.22.\", FutureWarning)\n",
      "/Users/80151/anaconda3/lib/python3.6/site-packages/sklearn/preprocessing/_function_transformer.py:98: FutureWarning: The default validate=True will be replaced by validate=False in 0.22.\n",
      "  \"validate=False in 0.22.\", FutureWarning)\n"
     ]
    }
   ],
   "source": [
    "from sklearn.model_selection import train_test_split\n",
    "from sklearn.ensemble import RandomForestClassifier\n",
    "from sklearn.base import BaseEstimator, TransformerMixin\n",
    "from sklearn.preprocessing import (LabelBinarizer, RobustScaler, FunctionTransformer)\n",
    "from sklearn.pipeline import (make_pipeline, make_union)\n",
    "from sklearn.model_selection import cross_val_score\n",
    "\n",
    "rf_clf = RandomForestClassifier(n_estimators=500, max_features=0.25, criterion='entropy', class_weight='balanced', random_state=42)\n",
    "\n",
    "class FeaturesSelector(BaseEstimator, TransformerMixin):\n",
    "    def __init__(self, attributes):\n",
    "        self.attributes = attributes\n",
    "    \n",
    "    def fit(self, X, y=None):\n",
    "        return self\n",
    "    \n",
    "    def transform(self, X, y=None):\n",
    "        return X[self.attributes]\n",
    "    \n",
    "class LabelBinarizerPipelineFriendly(LabelBinarizer):\n",
    "    def fit(self, X, y=None):\n",
    "        \"\"\"this would allow us to fit the model based on the X input.\"\"\"\n",
    "        super(LabelBinarizerPipelineFriendly, self).fit(X)\n",
    "    def transform(self, X, y=None):\n",
    "        return super(LabelBinarizerPipelineFriendly, self).transform(X)\n",
    "    def fit_transform(self, X, y=None):\n",
    "        return super(LabelBinarizerPipelineFriendly, self).fit(X).transform(X)\n",
    "\n",
    "class DropFirst(BaseEstimator, TransformerMixin):  \n",
    "    def __init__(self):\n",
    "        pass\n",
    "    \n",
    "    def fit(self, X, y=None):\n",
    "        pass\n",
    "    \n",
    "    def transform(self, X, y=None):\n",
    "        return X[:, 1:]\n",
    "            \n",
    "#original data\n",
    "X = df.drop(columns=['not_fully_paid'], axis=1)\n",
    "Y = df['not_fully_paid']\n",
    "\n",
    "num_cols = X.drop(['purpose'], axis=1).columns\n",
    "cate_cols = ['purpose']\n",
    "\n",
    "#build pipelinne\n",
    "num_pipeline = make_pipeline(\n",
    "    FeaturesSelector(num_cols), \n",
    "    RobustScaler(),\n",
    ")\n",
    "cate_pipeline = make_pipeline(\n",
    "    FeaturesSelector(cate_cols),\n",
    "    LabelBinarizerPipelineFriendly(),\n",
    "    FunctionTransformer(lambda x: x[:, 1:])\n",
    ")\n",
    "full_pipeline = make_union(num_pipeline, cate_pipeline)\n",
    "\n",
    "#tranforms data\n",
    "X_prepared = full_pipeline.fit_transform(X)\n",
    "\n",
    "#train test split\n",
    "X_train, X_test, Y_train, Y_test = train_test_split(X_prepared, Y, test_size=0.2, shuffle=True, random_state=123, stratify=Y)"
   ]
  },
  {
   "cell_type": "code",
   "execution_count": 14,
   "metadata": {},
   "outputs": [
    {
     "name": "stdout",
     "output_type": "stream",
     "text": [
      "original data shape: (9578, 18)\n",
      "After dropping NAs: (7611, 18)\n",
      "Baseline model's score  0.6528580921371218\n"
     ]
    }
   ],
   "source": [
    "#Base model -- drops NA\n",
    "train_indices_na = np.max(np.isnan(X_train), axis=1)\n",
    "test_indices_na = np.max(np.isnan(X_train), axis=1)\n",
    "\n",
    "X_train_drop_na = X_train[~train_indices_na]\n",
    "Y_train_drop_na = Y_train[~train_indices_na]\n",
    "\n",
    "base_scores = cross_val_score(rf_clf, X_train_drop_na, Y_train_drop_na, cv=5, scoring='roc_auc')\n",
    "print(\"original data shape:\", X_prepared.shape)\n",
    "print(\"After dropping NAs:\", X_train_drop_na.shape)\n",
    "print(\"Baseline model's score \", base_scores.mean())"
   ]
  },
  {
   "cell_type": "code",
   "execution_count": 15,
   "metadata": {},
   "outputs": [
    {
     "name": "stderr",
     "output_type": "stream",
     "text": [
      "/Users/80151/anaconda3/lib/python3.6/site-packages/sklearn/utils/deprecation.py:58: DeprecationWarning: Class Imputer is deprecated; Imputer was deprecated in version 0.20 and will be removed in 0.22. Import impute.SimpleImputer from sklearn instead.\n",
      "  warnings.warn(msg, category=DeprecationWarning)\n"
     ]
    },
    {
     "name": "stdout",
     "output_type": "stream",
     "text": [
      "Median Imputation scores:  0.6491289746796488\n"
     ]
    }
   ],
   "source": [
    "#Median imputation model\n",
    "from sklearn.preprocessing import Imputer\n",
    "imputer = Imputer(strategy='median')\n",
    "X_train_impute_median = imputer.fit_transform(X_train)\n",
    "Y_train_impute_median = Y_train\n",
    "\n",
    "impute_median_scores = cross_val_score(rf_clf, X_train_impute_median, Y_train_impute_median, cv=5, scoring='roc_auc')\n",
    "print(\"Median Imputation scores: \", impute_median_scores.mean())"
   ]
  },
  {
   "cell_type": "code",
   "execution_count": 16,
   "metadata": {},
   "outputs": [
    {
     "name": "stderr",
     "output_type": "stream",
     "text": [
      "/Users/80151/anaconda3/lib/python3.6/site-packages/sklearn/utils/deprecation.py:58: DeprecationWarning: Class Imputer is deprecated; Imputer was deprecated in version 0.20 and will be removed in 0.22. Import impute.SimpleImputer from sklearn instead.\n",
      "  warnings.warn(msg, category=DeprecationWarning)\n"
     ]
    },
    {
     "name": "stdout",
     "output_type": "stream",
     "text": [
      "Mean Imputation scores: 0.6516588672945665\n"
     ]
    }
   ],
   "source": [
    "#Mean imputation model\n",
    "imputer = Imputer(strategy='mean')\n",
    "X_train_impute_mean = imputer.fit_transform(X_train)\n",
    "Y_train_impute_mean = Y_train\n",
    "\n",
    "impute_mean_scores = cross_val_score(rf_clf, X_train_impute_mean, Y_train_impute_mean, cv=5, scoring='roc_auc')\n",
    "print(\"Mean Imputation scores:\", impute_mean_scores.mean())"
   ]
  },
  {
   "cell_type": "markdown",
   "metadata": {},
   "source": [
    "<span style='color:red'>It seems like any imputation strategy yied quite the same results</span> <br>\n",
    "<span style='color:red'>So we'll **choose Median imputation**</span> "
   ]
  },
  {
   "cell_type": "markdown",
   "metadata": {},
   "source": [
    "### Select the most important features "
   ]
  },
  {
   "cell_type": "code",
   "execution_count": 17,
   "metadata": {},
   "outputs": [
    {
     "name": "stderr",
     "output_type": "stream",
     "text": [
      "/Users/80151/anaconda3/lib/python3.6/site-packages/sklearn/utils/deprecation.py:58: DeprecationWarning: Class Imputer is deprecated; Imputer was deprecated in version 0.20 and will be removed in 0.22. Import impute.SimpleImputer from sklearn instead.\n",
      "  warnings.warn(msg, category=DeprecationWarning)\n"
     ]
    },
    {
     "data": {
      "text/plain": [
       "RandomForestClassifier(bootstrap=True, class_weight='balanced',\n",
       "            criterion='entropy', max_depth=None, max_features=0.25,\n",
       "            max_leaf_nodes=None, min_impurity_decrease=0.0,\n",
       "            min_impurity_split=None, min_samples_leaf=1,\n",
       "            min_samples_split=2, min_weight_fraction_leaf=0.0,\n",
       "            n_estimators=500, n_jobs=None, oob_score=False,\n",
       "            random_state=42, verbose=0, warm_start=False)"
      ]
     },
     "execution_count": 17,
     "metadata": {},
     "output_type": "execute_result"
    }
   ],
   "source": [
    "X = df.drop(columns=['not_fully_paid'])\n",
    "Y = df['not_fully_paid']\n",
    "\n",
    "cate_features = X.dtypes[X.dtypes == 'object'].keys()\n",
    "num_features = X.dtypes[X.dtypes != 'object'].keys()\n",
    "\n",
    "#add NA dummies\n",
    "na_dummies = X.copy()\n",
    "for feature in X.columns:\n",
    "    if(np.any(pd.isnull(X[feature]))):\n",
    "        na_dummies['is_' + feature + '_missing'] = pd.isnull(X[feature]) * 1\n",
    "\n",
    "#missing dummies variables\n",
    "na_dummies.drop(columns=X.columns, axis=1, inplace=True)\n",
    "\n",
    "#categorical dummy variables\n",
    "X_dummies = pd.get_dummies(X, columns=cate_features, drop_first=True)\n",
    "X_dummies.drop(columns=list(num_features), axis=1, inplace=True)\n",
    "\n",
    "\n",
    "#numerical prepared variables\n",
    "num_pipeline = make_pipeline(\n",
    "    Imputer(strategy='median'),\n",
    "    RobustScaler()\n",
    ")\n",
    "X_num_prepared = num_pipeline.fit_transform(X[num_features])\n",
    "X_num_prepared = pd.DataFrame(columns=num_features, data=X_num_prepared)\n",
    "\n",
    "X_prepared = pd.concat([X_num_prepared, X_dummies, na_dummies], axis=1)\n",
    "\n",
    "rf_clf.fit(X_prepared, Y)"
   ]
  },
  {
   "cell_type": "code",
   "execution_count": 18,
   "metadata": {},
   "outputs": [
    {
     "data": {
      "image/png": "[encoded data removed]",
      "text/plain": [
       "<Figure size 864x432 with 1 Axes>"
      ]
     },
     "metadata": {},
     "output_type": "display_data"
    }
   ],
   "source": [
    "indices = np.argsort(rf_clf.feature_importances_)[::-1]\n",
    "all_cols = X_prepared.columns\n",
    "\n",
    "plt.figure(figsize=(12, 6))\n",
    "plt.bar(all_cols[indices], rf_clf.feature_importances_[indices], align='center')\n",
    "plt.xticks(rotation=90)\n",
    "plt.title('feature important')\n",
    "plt.show()"
   ]
  },
  {
   "cell_type": "markdown",
   "metadata": {},
   "source": [
    "<span style='color:red'>**NA dummies have no effect, so drop them out**</span>"
   ]
  },
  {
   "cell_type": "code",
   "execution_count": 19,
   "metadata": {},
   "outputs": [],
   "source": [
    "#drop out NA dummies features\n",
    "X_prepared.drop(columns=na_dummies, axis=1, inplace=True)"
   ]
  },
  {
   "cell_type": "markdown",
   "metadata": {},
   "source": [
    "### Deal with imbalanced data\n",
    "Choose the best strategy from the following strategies:\n",
    "    1. Under sampling\n",
    "    2. Over sampling\n",
    "    3. Easy Ensemble\n",
    "    4. SMOTE algorithm"
   ]
  },
  {
   "cell_type": "code",
   "execution_count": 20,
   "metadata": {},
   "outputs": [
    {
     "name": "stdout",
     "output_type": "stream",
     "text": [
      "Base model's score:  0.600879028421845\n"
     ]
    }
   ],
   "source": [
    "#Base model -- trains on Unbalanced data\n",
    "base_scores = cross_val_score(rf_clf, X=X_prepared, y=Y, cv=5, scoring='roc_auc')\n",
    "print(\"Base model's score: \", base_scores.mean())"
   ]
  },
  {
   "cell_type": "code",
   "execution_count": 21,
   "metadata": {},
   "outputs": [
    {
     "name": "stdout",
     "output_type": "stream",
     "text": [
      "Under sampling score:  0.5196905988060442\n"
     ]
    }
   ],
   "source": [
    "#Unsampling \n",
    "from imblearn.under_sampling import RandomUnderSampler\n",
    "X_under, Y_under = RandomUnderSampler(random_state=42).fit_resample(X_prepared, Y)\n",
    "under_scores = cross_val_score(rf_clf, X_under, Y_under, cv=5, scoring='roc_auc')\n",
    "print(\"Under sampling score: \", under_scores.mean())"
   ]
  },
  {
   "cell_type": "code",
   "execution_count": 22,
   "metadata": {},
   "outputs": [
    {
     "name": "stdout",
     "output_type": "stream",
     "text": [
      "Over sampling score:  0.9105516244276967\n"
     ]
    }
   ],
   "source": [
    "#Oversampling\n",
    "from imblearn.over_sampling import RandomOverSampler\n",
    "X_over, Y_over = RandomOverSampler(random_state=42).fit_resample(X_prepared, Y)\n",
    "over_scores = cross_val_score(rf_clf, X_over, Y_over, cv=5, scoring='roc_auc')\n",
    "print(\"Over sampling score: \", over_scores.mean())"
   ]
  },
  {
   "cell_type": "code",
   "execution_count": null,
   "metadata": {},
   "outputs": [],
   "source": [
    "#Easy Ensemble\n",
    "from imblearn.ensemble import BalancedBaggingClassifier\n",
    "bagging_rf_clf = BalancedBaggingClassifier(n_estimators=500, base_estimator=rf_clf, random_state=123)\n",
    "easy_ensemble_scores = cross_val_score(bagging_rf_clf, X_prepared, Y, cv=5, scoring='roc_auc')\n",
    "print(\"Easy ensemble score:\", easy_ensemble_scores.mean())"
   ]
  },
  {
   "cell_type": "code",
   "execution_count": null,
   "metadata": {},
   "outputs": [],
   "source": []
  }
 ],
 "metadata": {
  "kernelspec": {
   "display_name": "Python 3",
   "language": "python",
   "name": "python3"
  },
  "language_info": {
   "codemirror_mode": {
    "name": "ipython",
    "version": 3
   },
   "file_extension": ".py",
   "mimetype": "text/x-python",
   "name": "python",
   "nbconvert_exporter": "python",
   "pygments_lexer": "ipython3",
   "version": "3.6.6"
  }
 },
 "nbformat": 4,
 "nbformat_minor": 2
}
