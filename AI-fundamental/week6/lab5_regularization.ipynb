{
 "cells": [
  {
   "cell_type": "code",
   "execution_count": 1,
   "metadata": {},
   "outputs": [],
   "source": [
    "import numpy as np\n",
    "import pandas as pd\n",
    "import tensorflow as tf\n",
    "import matplotlib \n",
    "from matplotlib import pyplot as plt\n",
    "import seaborn as sns\n",
    "from __future__ import division\n",
    "from IPython.core.debugger import set_trace"
   ]
  },
  {
   "cell_type": "markdown",
   "metadata": {},
   "source": [
    "### Regularizaed Logistic Regression"
   ]
  },
  {
   "cell_type": "code",
   "execution_count": 2,
   "metadata": {},
   "outputs": [],
   "source": [
    "data = pd.read_csv('./data/problem1data.txt', header=None)\n",
    "data.columns = ['x1', 'x2', 'y']"
   ]
  },
  {
   "cell_type": "code",
   "execution_count": 3,
   "metadata": {},
   "outputs": [
    {
     "data": {
      "text/html": [
       "<div>\n",
       "<style scoped>\n",
       "    .dataframe tbody tr th:only-of-type {\n",
       "        vertical-align: middle;\n",
       "    }\n",
       "\n",
       "    .dataframe tbody tr th {\n",
       "        vertical-align: top;\n",
       "    }\n",
       "\n",
       "    .dataframe thead th {\n",
       "        text-align: right;\n",
       "    }\n",
       "</style>\n",
       "<table border=\"1\" class=\"dataframe\">\n",
       "  <thead>\n",
       "    <tr style=\"text-align: right;\">\n",
       "      <th></th>\n",
       "      <th>x1</th>\n",
       "      <th>x2</th>\n",
       "      <th>y</th>\n",
       "    </tr>\n",
       "  </thead>\n",
       "  <tbody>\n",
       "    <tr>\n",
       "      <th>0</th>\n",
       "      <td>0.051267</td>\n",
       "      <td>0.69956</td>\n",
       "      <td>1</td>\n",
       "    </tr>\n",
       "    <tr>\n",
       "      <th>1</th>\n",
       "      <td>-0.092742</td>\n",
       "      <td>0.68494</td>\n",
       "      <td>1</td>\n",
       "    </tr>\n",
       "    <tr>\n",
       "      <th>2</th>\n",
       "      <td>-0.213710</td>\n",
       "      <td>0.69225</td>\n",
       "      <td>1</td>\n",
       "    </tr>\n",
       "    <tr>\n",
       "      <th>3</th>\n",
       "      <td>-0.375000</td>\n",
       "      <td>0.50219</td>\n",
       "      <td>1</td>\n",
       "    </tr>\n",
       "    <tr>\n",
       "      <th>4</th>\n",
       "      <td>-0.513250</td>\n",
       "      <td>0.46564</td>\n",
       "      <td>1</td>\n",
       "    </tr>\n",
       "  </tbody>\n",
       "</table>\n",
       "</div>"
      ],
      "text/plain": [
       "         x1       x2  y\n",
       "0  0.051267  0.69956  1\n",
       "1 -0.092742  0.68494  1\n",
       "2 -0.213710  0.69225  1\n",
       "3 -0.375000  0.50219  1\n",
       "4 -0.513250  0.46564  1"
      ]
     },
     "execution_count": 3,
     "metadata": {},
     "output_type": "execute_result"
    }
   ],
   "source": [
    "data.head()"
   ]
  },
  {
   "cell_type": "code",
   "execution_count": 4,
   "metadata": {},
   "outputs": [
    {
     "data": {
      "image/png": "[encoded data removed]",
      "text/plain": [
       "<Figure size 432x432 with 1 Axes>"
      ]
     },
     "metadata": {},
     "output_type": "display_data"
    }
   ],
   "source": [
    "plt.figure(figsize=(6,6))\n",
    "sns.scatterplot(data=data, x='x1', y='x2', style='y', hue='y')\n",
    "plt.show()"
   ]
  },
  {
   "cell_type": "code",
   "execution_count": 5,
   "metadata": {},
   "outputs": [],
   "source": [
    "X = data[['x1', 'x2']].values\n",
    "Y = data['y'].values.reshape(-1, 1)"
   ]
  },
  {
   "cell_type": "code",
   "execution_count": 6,
   "metadata": {},
   "outputs": [],
   "source": [
    "from sklearn.preprocessing import PolynomialFeatures\n",
    "def mapFeatures(X, degree):\n",
    "    poly_feature = PolynomialFeatures(degree=degree)\n",
    "    return poly_feature, poly_feature.fit_transform(X)\n",
    "\n",
    "def weighted_sum(X, thetas):\n",
    "    return np.matmul(X, thetas)\n",
    "\n",
    "def sigmoid(Z):\n",
    "    return 1.0 / (1.0 + np.exp(Z))\n",
    "\n",
    "def regularized_cost_function(thetas, lambda_param, X, Y):\n",
    "    m = X.shape[0]\n",
    "    Y_pred = sigmoid(weighted_sum(X, thetas)).flatten()\n",
    "    Y = Y.flatten()\n",
    "    cost = (-1.0 / m) * (Y.dot(np.log(Y_pred)) + (1-Y).dot(np.log(1-Y_pred))) + (lambda_param / (2.0*m) * sum(np.square(thetas[1:])))\n",
    "    if np.isnan(cost):\n",
    "        cost = np.inf\n",
    "    return cost\n",
    "        \n",
    "\n",
    "def gradient_regularized_cost_function(thetas, lambda_param, X, Y):\n",
    "    m = X.shape[0]\n",
    "    Y_pred = sigmoid(weighted_sum(X, thetas)).reshape(-1, 1)\n",
    "    Y = Y.reshape(-1, 1)\n",
    "    w_diff = (1.0 / m) * (np.matmul(X.T, Y_pred-Y)) + (lambda_param / m) * thetas\n",
    "    b_diff = (1.0 / m) *  sum(Y_pred-Y)\n",
    "\n",
    "    return np.array([b_diff] + list(w_diff.flatten()))"
   ]
  },
  {
   "cell_type": "code",
   "execution_count": 7,
   "metadata": {},
   "outputs": [],
   "source": [
    "poly_X = mapFeatures(X, 6)[1]\n",
    "\n",
    "n_features = poly_X.shape[1]\n",
    "n_samples = poly_X.shape[0]\n",
    "\n",
    "thetas = np.zeros(shape=(n_features, 1))\n",
    "theta0 = 0.0"
   ]
  },
  {
   "cell_type": "code",
   "execution_count": 8,
   "metadata": {},
   "outputs": [
    {
     "name": "stdout",
     "output_type": "stream",
     "text": [
      "poly_X's shape :  (118, 28)\n",
      "Y's shape (118, 1)\n",
      "thetas's shape :  (28, 1)\n"
     ]
    }
   ],
   "source": [
    "print(\"poly_X's shape : \", poly_X.shape)\n",
    "print(\"Y's shape\", Y.shape)\n",
    "print(\"thetas's shape : \", thetas.shape)"
   ]
  },
  {
   "cell_type": "code",
   "execution_count": 9,
   "metadata": {},
   "outputs": [],
   "source": [
    "learning_rate = 0.03\n",
    "for step in range(5000):\n",
    "    gradients = gradient_regularized_cost_function(X=poly_X, Y=Y, lambda_param=0.04, thetas=thetas)\n",
    "    theta0 = theta0 - learning_rate * gradients[0]\n",
    "    thetas = thetas - learning_rate * gradients[1:].reshape(-1, 1).astype(float)"
   ]
  },
  {
   "cell_type": "code",
   "execution_count": 10,
   "metadata": {},
   "outputs": [
    {
     "data": {
      "text/plain": [
       "array([array([0.50847458]), 0.484253442337818, 0.043894635173194654,\n",
       "       0.08719133499595084, 0.16572619706849703, -0.0012038184754212932,\n",
       "       0.17926931985858996, 0.04591121846379433, 0.021560486554748483,\n",
       "       0.015154158485695747, 0.09004959454290036, 0.0957337083514991,\n",
       "       -0.0003753278012909012, 0.0362313935090705, -0.002320468531859928,\n",
       "       0.11879160794702381, 0.04370641631559673, 0.009735874099511101,\n",
       "       0.007707037184781692, 0.01424681639403238, 0.00620066695921511,\n",
       "       0.08452940496514788, 0.06679785654498493, 0.0007062840932773744,\n",
       "       0.015015638155732808, -0.00042466977185875976,\n",
       "       0.017658222850157505, -0.0016930963979812474, 0.0967024188554007],\n",
       "      dtype=object)"
      ]
     },
     "execution_count": 10,
     "metadata": {},
     "output_type": "execute_result"
    }
   ],
   "source": [
    "gradients"
   ]
  },
  {
   "cell_type": "markdown",
   "metadata": {},
   "source": [
    "### Regularized LinearRegression (using TF)"
   ]
  },
  {
   "cell_type": "code",
   "execution_count": 11,
   "metadata": {},
   "outputs": [
    {
     "name": "stdout",
     "output_type": "stream",
     "text": [
      "*** No CODEPAGE record, no encoding_override: will use 'ascii'\n"
     ]
    }
   ],
   "source": [
    "data = pd.read_excel('./data/fire_theft.xls')"
   ]
  },
  {
   "cell_type": "code",
   "execution_count": 12,
   "metadata": {},
   "outputs": [
    {
     "data": {
      "image/png": "[encoded data removed]",
      "text/plain": [
       "<Figure size 432x432 with 1 Axes>"
      ]
     },
     "metadata": {},
     "output_type": "display_data"
    }
   ],
   "source": [
    "plt.figure(figsize=(6,6))\n",
    "sns.scatterplot(data['X'], data['Y'])\n",
    "plt.show()"
   ]
  },
  {
   "cell_type": "code",
   "execution_count": 13,
   "metadata": {},
   "outputs": [
    {
     "data": {
      "text/html": [
       "<div>\n",
       "<style scoped>\n",
       "    .dataframe tbody tr th:only-of-type {\n",
       "        vertical-align: middle;\n",
       "    }\n",
       "\n",
       "    .dataframe tbody tr th {\n",
       "        vertical-align: top;\n",
       "    }\n",
       "\n",
       "    .dataframe thead th {\n",
       "        text-align: right;\n",
       "    }\n",
       "</style>\n",
       "<table border=\"1\" class=\"dataframe\">\n",
       "  <thead>\n",
       "    <tr style=\"text-align: right;\">\n",
       "      <th></th>\n",
       "      <th>X</th>\n",
       "      <th>Y</th>\n",
       "    </tr>\n",
       "  </thead>\n",
       "  <tbody>\n",
       "    <tr>\n",
       "      <th>0</th>\n",
       "      <td>6.2</td>\n",
       "      <td>29</td>\n",
       "    </tr>\n",
       "    <tr>\n",
       "      <th>1</th>\n",
       "      <td>9.5</td>\n",
       "      <td>44</td>\n",
       "    </tr>\n",
       "    <tr>\n",
       "      <th>2</th>\n",
       "      <td>10.5</td>\n",
       "      <td>36</td>\n",
       "    </tr>\n",
       "    <tr>\n",
       "      <th>3</th>\n",
       "      <td>7.7</td>\n",
       "      <td>37</td>\n",
       "    </tr>\n",
       "    <tr>\n",
       "      <th>4</th>\n",
       "      <td>8.6</td>\n",
       "      <td>53</td>\n",
       "    </tr>\n",
       "  </tbody>\n",
       "</table>\n",
       "</div>"
      ],
      "text/plain": [
       "      X   Y\n",
       "0   6.2  29\n",
       "1   9.5  44\n",
       "2  10.5  36\n",
       "3   7.7  37\n",
       "4   8.6  53"
      ]
     },
     "execution_count": 13,
     "metadata": {},
     "output_type": "execute_result"
    }
   ],
   "source": [
    "data.head()"
   ]
  },
  {
   "cell_type": "code",
   "execution_count": 14,
   "metadata": {},
   "outputs": [],
   "source": [
    "X_train = data['X'].values\n",
    "Y_train = data['Y'].values\n",
    "\n",
    "n_samples = X_train.shape[0]"
   ]
  },
  {
   "cell_type": "code",
   "execution_count": 15,
   "metadata": {},
   "outputs": [
    {
     "name": "stdout",
     "output_type": "stream",
     "text": [
      "step:0, theta0=0.034, theta1=0.547, cost=598.962\n",
      "step:1000, theta0=14.228, theta1=0.748, cost=311.053\n",
      "step:2000, theta0=21.474, theta1=0.560, cost=256.568\n",
      "step:3000, theta0=25.177, theta1=0.464, cost=242.338\n",
      "step:4000, theta0=27.070, theta1=0.415, cost=238.622\n",
      "step:5000, theta0=28.037, theta1=0.390, cost=237.651\n",
      "step:6000, theta0=28.531, theta1=0.377, cost=237.397\n",
      "step:7000, theta0=28.784, theta1=0.371, cost=237.331\n",
      "step:8000, theta0=28.913, theta1=0.367, cost=237.314\n",
      "step:9000, theta0=28.979, theta1=0.366, cost=237.309\n",
      "step:10000, theta0=29.013, theta1=0.365, cost=237.308\n",
      "step:11000, theta0=29.030, theta1=0.364, cost=237.308\n",
      "step:12000, theta0=29.039, theta1=0.364, cost=237.308\n",
      "step:13000, theta0=29.043, theta1=0.364, cost=237.308\n",
      "step:14000, theta0=29.045, theta1=0.364, cost=237.308\n",
      "step:15000, theta0=29.047, theta1=0.364, cost=237.308\n",
      "step:16000, theta0=29.047, theta1=0.364, cost=237.308\n",
      "step:17000, theta0=29.047, theta1=0.364, cost=237.308\n",
      "step:18000, theta0=29.047, theta1=0.364, cost=237.308\n",
      "step:19000, theta0=29.047, theta1=0.364, cost=237.308\n",
      "step:20000, theta0=29.047, theta1=0.364, cost=237.308\n",
      "step:21000, theta0=29.047, theta1=0.364, cost=237.308\n",
      "step:22000, theta0=29.047, theta1=0.364, cost=237.308\n",
      "step:23000, theta0=29.047, theta1=0.364, cost=237.308\n",
      "step:24000, theta0=29.047, theta1=0.364, cost=237.308\n",
      "step:25000, theta0=29.047, theta1=0.364, cost=237.308\n",
      "step:26000, theta0=29.047, theta1=0.364, cost=237.308\n",
      "step:27000, theta0=29.047, theta1=0.364, cost=237.308\n",
      "step:28000, theta0=29.047, theta1=0.364, cost=237.308\n",
      "step:29000, theta0=29.047, theta1=0.364, cost=237.308\n"
     ]
    },
    {
     "name": "stderr",
     "output_type": "stream",
     "text": [
      "/Users/80151/anaconda3/lib/python3.6/site-packages/matplotlib/cbook/__init__.py:2446: UserWarning: Saw kwargs ['c', 'color'] which are all aliases for 'color'.  Kept value from 'color'\n",
      "  seen=seen, canon=canonical, used=seen[-1]))\n",
      "/Users/80151/anaconda3/lib/python3.6/site-packages/matplotlib/cbook/__init__.py:2446: UserWarning: Saw kwargs ['c', 'color'] which are all aliases for 'color'.  Kept value from 'color'\n",
      "  seen=seen, canon=canonical, used=seen[-1]))\n"
     ]
    },
    {
     "data": {
      "image/png": "[encoded data removed]",
      "text/plain": [
       "<Figure size 432x432 with 1 Axes>"
      ]
     },
     "metadata": {},
     "output_type": "display_data"
    }
   ],
   "source": [
    "X = tf.placeholder(name='X', dtype=tf.float32)\n",
    "Y = tf.placeholder(name='Y', dtype=tf.float32)\n",
    "\n",
    "theta0 = tf.Variable(0.0, name='theta0')\n",
    "theta1 = tf.Variable(0.0, name='theta1')\n",
    "\n",
    "lambda_param = tf.constant(10000, name='lambda', dtype=tf.float32)\n",
    "\n",
    "y_pred = theta0 + theta1*X\n",
    "\n",
    "cost_function = (1.0/(2.0*n_samples)) * tf.reduce_sum(tf.pow((y_pred - Y), 2)) + (lambda_param / (2.0 * n_samples)) * tf.pow(theta1, 2)\n",
    "\n",
    "optimizer = tf.train.GradientDescentOptimizer(learning_rate=0.001).minimize(cost_function)\n",
    "\n",
    "feed_dict = {\n",
    "    X : X_train,\n",
    "    Y : Y_train\n",
    "}\n",
    "with tf.Session() as sess:\n",
    "    sess.run(tf.global_variables_initializer())\n",
    "    \n",
    "    for step in range(30000):\n",
    "        sess.run(optimizer, feed_dict)\n",
    "        \n",
    "        if(step % 1000 == 0):\n",
    "            tt0 = sess.run(theta0)\n",
    "            tt1 = sess.run(theta1)\n",
    "            cost = sess.run(cost_function, feed_dict)\n",
    "            \n",
    "            print(f\"step:{step}, theta0={tt0:.3f}, theta1={tt1:.3f}, cost={cost:.3f}\")\n",
    "\n",
    "    y_pred = sess.run(y_pred, { X : X_train })\n",
    "    plt.figure(figsize=(6,6))\n",
    "    sns.scatterplot(X_train, Y_train, label='actual')\n",
    "    sns.lineplot(X_train, y_pred, c='r', label='prediction')\n",
    "    plt.show()\n"
   ]
  },
  {
   "cell_type": "markdown",
   "metadata": {},
   "source": [
    "### Same problem as above but change the way to implement"
   ]
  },
  {
   "cell_type": "code",
   "execution_count": 16,
   "metadata": {},
   "outputs": [],
   "source": [
    "data['X0'] = 1\n",
    "X_train = data[['X0', 'X']].values\n",
    "Y_train = data['Y'].values.reshape(-1, 1)\n",
    "\n",
    "n_features = X_train.shape[1]\n",
    "n_samples = X_train.shape[0]"
   ]
  },
  {
   "cell_type": "code",
   "execution_count": 20,
   "metadata": {},
   "outputs": [
    {
     "name": "stdout",
     "output_type": "stream",
     "text": [
      "step:0, theta0=0.034, theta1=0.547, cost=598.962\n",
      "step:1000, theta0=14.228, theta1=0.748, cost=311.053\n",
      "step:2000, theta0=21.474, theta1=0.560, cost=256.568\n",
      "step:3000, theta0=25.177, theta1=0.464, cost=242.338\n",
      "step:4000, theta0=27.070, theta1=0.415, cost=238.622\n",
      "step:5000, theta0=28.037, theta1=0.390, cost=237.651\n",
      "step:6000, theta0=28.531, theta1=0.377, cost=237.397\n",
      "step:7000, theta0=28.784, theta1=0.371, cost=237.331\n",
      "step:8000, theta0=28.913, theta1=0.367, cost=237.314\n",
      "step:9000, theta0=28.979, theta1=0.366, cost=237.309\n",
      "step:10000, theta0=29.013, theta1=0.365, cost=237.308\n",
      "step:11000, theta0=29.030, theta1=0.364, cost=237.308\n",
      "step:12000, theta0=29.039, theta1=0.364, cost=237.308\n",
      "step:13000, theta0=29.043, theta1=0.364, cost=237.308\n",
      "step:14000, theta0=29.045, theta1=0.364, cost=237.308\n",
      "step:15000, theta0=29.047, theta1=0.364, cost=237.308\n",
      "step:16000, theta0=29.047, theta1=0.364, cost=237.308\n",
      "step:17000, theta0=29.047, theta1=0.364, cost=237.308\n",
      "step:18000, theta0=29.047, theta1=0.364, cost=237.308\n",
      "step:19000, theta0=29.047, theta1=0.364, cost=237.308\n",
      "step:20000, theta0=29.047, theta1=0.364, cost=237.308\n",
      "step:21000, theta0=29.047, theta1=0.364, cost=237.308\n",
      "step:22000, theta0=29.047, theta1=0.364, cost=237.308\n",
      "step:23000, theta0=29.047, theta1=0.364, cost=237.308\n",
      "step:24000, theta0=29.047, theta1=0.364, cost=237.308\n",
      "step:25000, theta0=29.047, theta1=0.364, cost=237.308\n",
      "step:26000, theta0=29.047, theta1=0.364, cost=237.308\n",
      "step:27000, theta0=29.047, theta1=0.364, cost=237.308\n",
      "step:28000, theta0=29.047, theta1=0.364, cost=237.308\n",
      "step:29000, theta0=29.047, theta1=0.364, cost=237.308\n"
     ]
    },
    {
     "name": "stderr",
     "output_type": "stream",
     "text": [
      "/Users/80151/anaconda3/lib/python3.6/site-packages/matplotlib/cbook/__init__.py:2446: UserWarning: Saw kwargs ['c', 'color'] which are all aliases for 'color'.  Kept value from 'color'\n",
      "  seen=seen, canon=canonical, used=seen[-1]))\n",
      "/Users/80151/anaconda3/lib/python3.6/site-packages/matplotlib/cbook/__init__.py:2446: UserWarning: Saw kwargs ['c', 'color'] which are all aliases for 'color'.  Kept value from 'color'\n",
      "  seen=seen, canon=canonical, used=seen[-1]))\n"
     ]
    },
    {
     "data": {
      "image/png": "[encoded data removed]",
      "text/plain": [
       "<Figure size 432x432 with 1 Axes>"
      ]
     },
     "metadata": {},
     "output_type": "display_data"
    }
   ],
   "source": [
    "X = tf.placeholder(name='X', shape=[None, n_features], dtype=tf.float32)\n",
    "Y = tf.placeholder(name='Y', shape=[None, 1], dtype=tf.float32)\n",
    "\n",
    "thetas = tf.Variable(tf.zeros(shape=[n_features, 1], dtype=tf.float32), name='thetas')\n",
    "\n",
    "lambda_param = tf.constant(10000, name='lambda', dtype=np.float32)\n",
    "\n",
    "y_pred = tf.matmul(X, thetas)\n",
    "\n",
    "cost_function = (1.0 / (2.0*n_samples)) * tf.reduce_sum(tf.pow(y_pred - Y, 2)) + (lambda_param / (2.0*n_samples)) * tf.reduce_sum(tf.pow(thetas[1], 2))\n",
    "\n",
    "optimizer = tf.train.GradientDescentOptimizer(learning_rate=0.001).minimize(cost_function)\n",
    "\n",
    "feed_dict = {\n",
    "    X : X_train,\n",
    "    Y : Y_train\n",
    "}\n",
    "\n",
    "with tf.Session() as sess:\n",
    "    sess.run(tf.global_variables_initializer())\n",
    "    for step in range(30000):\n",
    "        sess.run(optimizer, feed_dict)\n",
    "        \n",
    "        if(step % 1000 == 0):\n",
    "            tts = sess.run(thetas)\n",
    "            tt0 = tts[0][0]\n",
    "            tt1 = tts[1][0]\n",
    "            cost = sess.run(cost_function, feed_dict)\n",
    "            \n",
    "            print(f\"step:{step}, theta0={tt0:.3f}, theta1={tt1:.3f}, cost={cost:.3f}\")\n",
    "    y_preds = sess.run(y_pred, { X : X_train })\n",
    "    plt.figure(figsize=(6,6))\n",
    "    sns.scatterplot(data['X'], data['Y'])\n",
    "    sns.lineplot(data['X'], y_preds.flatten(), c='r')\n",
    "    plt.show()"
   ]
  },
  {
   "cell_type": "code",
   "execution_count": null,
   "metadata": {},
   "outputs": [],
   "source": []
  }
 ],
 "metadata": {
  "kernelspec": {
   "display_name": "Python 3",
   "language": "python",
   "name": "python3"
  },
  "language_info": {
   "codemirror_mode": {
    "name": "ipython",
    "version": 3
   },
   "file_extension": ".py",
   "mimetype": "text/x-python",
   "name": "python",
   "nbconvert_exporter": "python",
   "pygments_lexer": "ipython3",
   "version": "3.6.6"
  }
 },
 "nbformat": 4,
 "nbformat_minor": 2
}
