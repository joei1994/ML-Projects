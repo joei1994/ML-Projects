{
 "cells": [
  {
   "cell_type": "code",
   "execution_count": 1,
   "metadata": {},
   "outputs": [],
   "source": [
    "import tensorflow as tf\n",
    "import numpy as np \n",
    "import pandas as pd\n",
    "import matplotlib\n",
    "from matplotlib import pyplot as plt\n",
    "from __future__ import division\n",
    "from scipy.io import loadmat\n",
    "from collections import defaultdict\n",
    "from IPython.core.debugger import set_trace\n"
   ]
  },
  {
   "cell_type": "code",
   "execution_count": 2,
   "metadata": {},
   "outputs": [],
   "source": [
    "digits = loadmat('../data/digits.mat')\n",
    "X_train = digits['X']\n",
    "y_train = np.squeeze(digits['y'])\n",
    "y_train = np.where(y_train == 10, 0, y_train)"
   ]
  },
  {
   "cell_type": "code",
   "execution_count": 3,
   "metadata": {},
   "outputs": [
    {
     "data": {
      "text/plain": [
       "(5000, 400)"
      ]
     },
     "execution_count": 3,
     "metadata": {},
     "output_type": "execute_result"
    }
   ],
   "source": [
    "X_train.shape"
   ]
  },
  {
   "cell_type": "code",
   "execution_count": 4,
   "metadata": {},
   "outputs": [
    {
     "data": {
      "text/plain": [
       "(5000,)"
      ]
     },
     "execution_count": 4,
     "metadata": {},
     "output_type": "execute_result"
    }
   ],
   "source": [
    "y_train.shape"
   ]
  },
  {
   "cell_type": "code",
   "execution_count": 5,
   "metadata": {},
   "outputs": [
    {
     "data": {
      "text/plain": [
       "array([0, 1, 2, 3, 4, 5, 6, 7, 8, 9], dtype=uint8)"
      ]
     },
     "execution_count": 5,
     "metadata": {},
     "output_type": "execute_result"
    }
   ],
   "source": [
    "np.unique(y_train)"
   ]
  },
  {
   "cell_type": "code",
   "execution_count": 6,
   "metadata": {},
   "outputs": [],
   "source": [
    "n_samples = X_train.shape[0]\n",
    "n_features = X_train.shape[1]\n",
    "n_labels = len(np.unique(y_train))\n",
    "labels = np.unique(y_train)"
   ]
  },
  {
   "cell_type": "code",
   "execution_count": 7,
   "metadata": {},
   "outputs": [],
   "source": [
    "X = tf.placeholder(name='X', dtype=tf.float32, shape=(None, n_features))\n",
    "Y = tf.placeholder(name='Y', dtype=tf.float32, shape=(None, 1))\n",
    "\n",
    "thetas = tf.Variable(tf.zeros(shape=(n_features, 1), dtype=tf.float32), name='thetas')\n",
    "theta0 = tf.Variable(0.0, dtype=tf.float32, name='theta0')\n",
    "\n",
    "z = tf.matmul(X, thetas) + theta0\n",
    "sigmoid = 1.0 / (1.0 + tf.exp(-z))\n",
    "\n",
    "cost_function = tf.reduce_mean(-((Y * tf.log(sigmoid)) + (1 - Y) * tf.log(1 - sigmoid)))\n",
    "\n",
    "optimizer = tf.train.GradientDescentOptimizer(learning_rate=0.03).minimize(cost_function)\n",
    "\n",
    "classifiers = np.zeros(shape=(n_labels, n_features+1))\n",
    "class_probabilities = np.zeros(shape=(n_samples, n_labels))\n",
    "\n",
    "with tf.Session() as sess:\n",
    "    for i, label in enumerate(labels):\n",
    "        sess.run(tf.global_variables_initializer())\n",
    "        \n",
    "        feed_dict = {\n",
    "            X : X_train,\n",
    "            Y : (y_train.reshape(-1, 1) == label).astype(int)\n",
    "        }\n",
    "        \n",
    "        for step in range(5000):\n",
    "            sess.run(optimizer, feed_dict)\n",
    "            \n",
    "        tt0 = sess.run(theta0)\n",
    "        tts = sess.run(thetas)\n",
    "        \n",
    "        classifiers[i, :] = [tt0] + list(tts)\n",
    "        class_probabilities[:, i] = sess.run(sigmoid, { X: X_train }).T"
   ]
  },
  {
   "cell_type": "code",
   "execution_count": 15,
   "metadata": {},
   "outputs": [],
   "source": [
    "y_pred = np.argmax(class_probabilities, axis=1)"
   ]
  },
  {
   "cell_type": "code",
   "execution_count": 16,
   "metadata": {},
   "outputs": [],
   "source": [
    "accuracy = sum(y_pred == y_train) / n_samples"
   ]
  },
  {
   "cell_type": "code",
   "execution_count": 17,
   "metadata": {},
   "outputs": [
    {
     "data": {
      "text/plain": [
       "0.906"
      ]
     },
     "execution_count": 17,
     "metadata": {},
     "output_type": "execute_result"
    }
   ],
   "source": [
    "accuracy"
   ]
  },
  {
   "cell_type": "code",
   "execution_count": null,
   "metadata": {},
   "outputs": [],
   "source": []
  }
 ],
 "metadata": {
  "kernelspec": {
   "display_name": "Python 3",
   "language": "python",
   "name": "python3"
  },
  "language_info": {
   "codemirror_mode": {
    "name": "ipython",
    "version": 3
   },
   "file_extension": ".py",
   "mimetype": "text/x-python",
   "name": "python",
   "nbconvert_exporter": "python",
   "pygments_lexer": "ipython3",
   "version": "3.6.6"
  }
 },
 "nbformat": 4,
 "nbformat_minor": 2
}
