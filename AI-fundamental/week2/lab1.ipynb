{
 "cells": [
  {
   "cell_type": "code",
   "execution_count": 1,
   "metadata": {},
   "outputs": [],
   "source": [
    "import numpy as np\n",
    "import tensorflow as tf\n",
    "import matplotlib\n",
    "from matplotlib import pyplot as plt\n",
    "import seaborn as sns"
   ]
  },
  {
   "cell_type": "markdown",
   "metadata": {},
   "source": [
    "### Add 2 scalars"
   ]
  },
  {
   "cell_type": "code",
   "execution_count": 2,
   "metadata": {},
   "outputs": [
    {
     "name": "stdout",
     "output_type": "stream",
     "text": [
      "a + b =  8\n"
     ]
    }
   ],
   "source": [
    "a = tf.constant(5)\n",
    "b = tf.constant(3)\n",
    "c = tf.add(a, b)\n",
    "with tf.Session() as sess:\n",
    "    writer = tf.summary.FileWriter('./graphs/add_constants', sess.graph)\n",
    "    r = sess.run(c)\n",
    "    print('a + b = ', r)\n",
    "writer.close()"
   ]
  },
  {
   "cell_type": "markdown",
   "metadata": {},
   "source": [
    "### Add name to tf ops"
   ]
  },
  {
   "cell_type": "code",
   "execution_count": 3,
   "metadata": {},
   "outputs": [
    {
     "name": "stdout",
     "output_type": "stream",
     "text": [
      "a + b =  [5 8]\n"
     ]
    }
   ],
   "source": [
    "a = tf.constant([2, 2], name='a')\n",
    "b = tf.constant([3, 6], name='b')\n",
    "c = tf.add(a, b, name='add')\n",
    "with tf.Session() as sess:\n",
    "    writer = tf.summary.FileWriter('./graphs/add_named_constants', sess.graph)\n",
    "    r = sess.run(c)\n",
    "    print(\"a + b = \", sess.run(c))\n",
    "writer.close()"
   ]
  },
  {
   "cell_type": "markdown",
   "metadata": {},
   "source": [
    "### Basic"
   ]
  },
  {
   "cell_type": "code",
   "execution_count": 4,
   "metadata": {},
   "outputs": [
    {
     "name": "stdout",
     "output_type": "stream",
     "text": [
      "a :  [3 5]\n",
      "b :  Tensor(\"matrix:0\", shape=(2, 3), dtype=int32)\n"
     ]
    }
   ],
   "source": [
    "a = tf.constant([3, 5], name='vector')\n",
    "b = tf.constant([[2, 3, 1],\n",
    "                 [4, 6, 2]], name='matrix')\n",
    "with tf.Session() as sess:\n",
    "    print(\"a : \", sess.run(a))\n",
    "    print(\"b : \", b)"
   ]
  },
  {
   "cell_type": "code",
   "execution_count": 5,
   "metadata": {},
   "outputs": [
    {
     "name": "stdout",
     "output_type": "stream",
     "text": [
      "Tensor(\"zeros:0\", shape=(3, 2), dtype=int32)\n",
      "[[0 0]\n",
      " [0 0]\n",
      " [0 0]]\n"
     ]
    }
   ],
   "source": [
    "zeros = tf.zeros(shape=[3, 2], dtype=tf.int32)\n",
    "with tf.Session() as sess:\n",
    "    print(zeros)\n",
    "    print(sess.run(zeros))"
   ]
  },
  {
   "cell_type": "code",
   "execution_count": 6,
   "metadata": {},
   "outputs": [
    {
     "name": "stdout",
     "output_type": "stream",
     "text": [
      "Tensor(\"zeros_like:0\", shape=(2, 3), dtype=int32)\n",
      "[[0 0 0]\n",
      " [0 0 0]]\n"
     ]
    }
   ],
   "source": [
    "a = [[1, 2, 4], \n",
    "     [3, 4, 5]]\n",
    "zeros = tf.zeros_like(a, dtype=tf.int32)\n",
    "with tf.Session() as sess:\n",
    "    print(zeros)\n",
    "    print(sess.run(zeros))"
   ]
  },
  {
   "cell_type": "code",
   "execution_count": 7,
   "metadata": {},
   "outputs": [
    {
     "name": "stdout",
     "output_type": "stream",
     "text": [
      "Tensor(\"Fill:0\", shape=(4, 5), dtype=float32)\n",
      "[[3.2 3.2 3.2 3.2 3.2]\n",
      " [3.2 3.2 3.2 3.2 3.2]\n",
      " [3.2 3.2 3.2 3.2 3.2]\n",
      " [3.2 3.2 3.2 3.2 3.2]]\n"
     ]
    }
   ],
   "source": [
    "a = tf.fill([4, 5], 3.2)\n",
    "with tf.Session() as sess:\n",
    "    print(a)\n",
    "    print(sess.run(a))"
   ]
  },
  {
   "cell_type": "code",
   "execution_count": 8,
   "metadata": {},
   "outputs": [
    {
     "name": "stdout",
     "output_type": "stream",
     "text": [
      "Tensor(\"LinSpace:0\", shape=(4,), dtype=float32)\n",
      "[3.4 4.1 4.8 5.5]\n"
     ]
    }
   ],
   "source": [
    "x = tf.linspace(3.4, 5.5, 4)\n",
    "with tf.Session() as sess:\n",
    "    print(x)\n",
    "    print (sess.run(x))"
   ]
  },
  {
   "cell_type": "code",
   "execution_count": 9,
   "metadata": {},
   "outputs": [
    {
     "name": "stdout",
     "output_type": "stream",
     "text": [
      "x\n",
      "Tensor(\"range:0\", shape=(6,), dtype=int32)\n",
      "[ 3  6  9 12 15 18]\n",
      "y\n",
      "Tensor(\"Reshape:0\", shape=(3, 2), dtype=int32)\n",
      "[[ 3  6]\n",
      " [ 9 12]\n",
      " [15 18]]\n"
     ]
    }
   ],
   "source": [
    "x = tf.range(3, 21, 3)\n",
    "y = tf.reshape(tensor=x, shape=[3,2])\n",
    "with tf.Session() as sess:\n",
    "    print(\"x\")\n",
    "    print(x)\n",
    "    print(sess.run(x))\n",
    "    print(\"y\")\n",
    "    print(y)\n",
    "    print(sess.run(y))"
   ]
  },
  {
   "cell_type": "code",
   "execution_count": 10,
   "metadata": {},
   "outputs": [
    {
     "name": "stdout",
     "output_type": "stream",
     "text": [
      "x_normal :  Tensor(\"random_normal:0\", shape=(1000,), dtype=float32)\n",
      "x_truncated :  Tensor(\"truncated_normal:0\", shape=(1000,), dtype=float32)\n"
     ]
    },
    {
     "data": {
      "image/png": "[encoded data removed]",
      "text/plain": [
       "<Figure size 432x288 with 1 Axes>"
      ]
     },
     "metadata": {},
     "output_type": "display_data"
    }
   ],
   "source": [
    "x_normal = tf.random_normal(mean=0, stddev=10, seed=42, shape=(1000,))\n",
    "x_truncated = tf.truncated_normal(mean=0, stddev=10, seed=42, shape=(1000,))\n",
    "with tf.Session() as sess:\n",
    "    print(\"x_normal : \", x_normal)\n",
    "    print(\"x_truncated : \", x_truncated)\n",
    "    xs_normal = sess.run(x_normal)\n",
    "    xs_truncated = sess.run(x_truncated)\n",
    "\n",
    "    \n",
    "    sns.distplot(xs_normal)\n",
    "    sns.distplot(xs_truncated)"
   ]
  },
  {
   "cell_type": "code",
   "execution_count": 11,
   "metadata": {},
   "outputs": [
    {
     "name": "stdout",
     "output_type": "stream",
     "text": [
      "Tensor(\"random_uniform:0\", shape=(100000,), dtype=float32)\n"
     ]
    },
    {
     "data": {
      "image/png": "[encoded data removed]",
      "text/plain": [
       "<Figure size 432x288 with 1 Axes>"
      ]
     },
     "metadata": {},
     "output_type": "display_data"
    }
   ],
   "source": [
    "x_uniform = tf.random_uniform(minval=5, maxval=10, seed=42, shape=(100000,))\n",
    "with tf.Session() as sess:\n",
    "    print(x_uniform)\n",
    "    xs = sess.run(x_uniform)\n",
    "    sns.distplot(xs)"
   ]
  },
  {
   "cell_type": "code",
   "execution_count": 12,
   "metadata": {},
   "outputs": [
    {
     "name": "stdout",
     "output_type": "stream",
     "text": [
      "Tensor(\"random_poisson/RandomPoissonV2:0\", shape=(100000,), dtype=float32)\n"
     ]
    },
    {
     "data": {
      "image/png": "[encoded data removed]",
      "text/plain": [
       "<Figure size 432x288 with 1 Axes>"
      ]
     },
     "metadata": {},
     "output_type": "display_data"
    }
   ],
   "source": [
    "x_uniform = tf.random_poisson(lam=20, seed=42, shape=(100000,))\n",
    "with tf.Session() as sess:\n",
    "    print(x_uniform)\n",
    "    xs = sess.run(x_uniform)\n",
    "    sns.distplot(xs)"
   ]
  },
  {
   "cell_type": "markdown",
   "metadata": {},
   "source": [
    "### Math operators"
   ]
  },
  {
   "cell_type": "code",
   "execution_count": 13,
   "metadata": {},
   "outputs": [
    {
     "name": "stdout",
     "output_type": "stream",
     "text": [
      "a + b =  [5 9]\n",
      "a - b =  [1 1]\n",
      "a * b =  [ 6 20]\n",
      "a · b =  [[26]]\n"
     ]
    }
   ],
   "source": [
    "a = tf.constant([2, 4])\n",
    "b = tf.constant([3, 5])\n",
    "\n",
    "with tf.Session() as sess:\n",
    "    print(\"a + b = \", sess.run(tf.add(a, b)))\n",
    "    print(\"a - b = \", sess.run(tf.subtract(b, a)))\n",
    "    print(\"a * b = \", sess.run(tf.multiply(a, b)))\n",
    "    print(\"a · b = \", sess.run(tf.matmul(tf.reshape(a, [1, 2]), tf.reshape(b, [2,1]))))"
   ]
  },
  {
   "cell_type": "code",
   "execution_count": 14,
   "metadata": {},
   "outputs": [
    {
     "name": "stdout",
     "output_type": "stream",
     "text": [
      "Tensor(\"Const_4:0\", shape=(2, 3), dtype=int32)\n",
      "Tensor(\"Const_5:0\", shape=(1, 3), dtype=int32)\n",
      "Tensor(\"Const_6:0\", shape=(3, 1), dtype=int32)\n",
      "Tensor(\"Const_7:0\", shape=(3,), dtype=int32)\n",
      "Tensor(\"Const_8:0\", shape=(), dtype=int32)\n",
      "[[46]\n",
      " [63]]\n"
     ]
    }
   ],
   "source": [
    "a = tf.constant([[4, 2, 6],\n",
    "                [2, 6, 7]])\n",
    "\n",
    "b = tf.constant([[2, 4, 5]])\n",
    "\n",
    "e = tf.constant([[1], \n",
    "                [4],\n",
    "                 [5]])\n",
    "\n",
    "c = tf.constant([1,2,3])\n",
    "\n",
    "d = tf.constant(5)\n",
    "\n",
    "with tf.Session() as sess:\n",
    "    print(a)\n",
    "    print(b)\n",
    "    print(e)\n",
    "    print(c)\n",
    "    print(d)\n",
    "    print(sess.run(tf.matmul(a, tf.transpose(b))))"
   ]
  },
  {
   "cell_type": "markdown",
   "metadata": {},
   "source": [
    "### Variable"
   ]
  },
  {
   "cell_type": "code",
   "execution_count": 15,
   "metadata": {},
   "outputs": [
    {
     "data": {
      "image/png": "[encoded data removed]",
      "text/plain": [
       "<Figure size 432x288 with 1 Axes>"
      ]
     },
     "metadata": {},
     "output_type": "display_data"
    }
   ],
   "source": [
    "a = tf.Variable(2, name='scalar')\n",
    "b = tf.Variable([3, 4], name='vector')\n",
    "c = tf.Variable([[2,3],\n",
    "                 [1,2]], name='matrix')\n",
    "w = tf.Variable(tf.random_normal(mean=20, stddev=10, seed=42, shape=(10000,)))\n",
    "\n",
    "with tf.Session() as sess:\n",
    "    sess.run(tf.variables_initializer(var_list=[w]))\n",
    "    ws = w.eval()\n",
    "    sns.distplot(ws)"
   ]
  },
  {
   "cell_type": "code",
   "execution_count": 16,
   "metadata": {},
   "outputs": [
    {
     "name": "stdout",
     "output_type": "stream",
     "text": [
      "w before run assign operator :  10\n",
      "w after run assign operator :  100\n"
     ]
    }
   ],
   "source": [
    "w = tf.Variable(10)\n",
    "w_assign = w.assign(100)\n",
    "with tf.Session() as sess:\n",
    "    sess.run(tf.global_variables_initializer())\n",
    "    \n",
    "    print(\"w before run assign operator : \",w.eval())\n",
    "    sess.run(w_assign)\n",
    "    print(\"w after run assign operator : \", w.eval())"
   ]
  },
  {
   "cell_type": "code",
   "execution_count": 17,
   "metadata": {},
   "outputs": [
    {
     "name": "stdout",
     "output_type": "stream",
     "text": [
      "4\n",
      "8\n",
      "16\n"
     ]
    }
   ],
   "source": [
    "a = tf.Variable(2)\n",
    "assign = a.assign(a*2)\n",
    "with tf.Session() as sess:\n",
    "    sess.run(tf.global_variables_initializer())\n",
    "    print(sess.run(assign))\n",
    "    print(sess.run(assign))\n",
    "    print(sess.run(assign))"
   ]
  },
  {
   "cell_type": "code",
   "execution_count": 18,
   "metadata": {},
   "outputs": [
    {
     "name": "stdout",
     "output_type": "stream",
     "text": [
      "w in sess1 :  15\n",
      "w in sess2 :  4\n"
     ]
    }
   ],
   "source": [
    "w = tf.Variable(10)\n",
    "\n",
    "sess1 = tf.Session()\n",
    "sess2 = tf.Session()\n",
    "sess1.run(w.initializer)\n",
    "sess2.run(w.initializer)\n",
    "\n",
    "print(\"w in sess1 : \", sess1.run(w.assign_add(5)))\n",
    "print(\"w in sess2 : \", sess2.run(w.assign_sub(6)))\n",
    "\n",
    "sess1.close()\n",
    "sess2.close()"
   ]
  },
  {
   "cell_type": "markdown",
   "metadata": {},
   "source": [
    "### Placeholder"
   ]
  },
  {
   "cell_type": "code",
   "execution_count": 19,
   "metadata": {},
   "outputs": [
    {
     "name": "stdout",
     "output_type": "stream",
     "text": [
      "X = 5, Y = 2 : Z =  12.0\n",
      "X = 10, Y = -5 : Z =  15.200001\n"
     ]
    }
   ],
   "source": [
    "X = tf.placeholder(tf.float32, shape=())\n",
    "Y = tf.placeholder(tf.float32, shape=())\n",
    "\n",
    "Z = X*2 + Y\n",
    "\n",
    "with tf.Session() as sess:\n",
    "    print(\"X = 5, Y = 2 : Z = \", sess.run(Z, { X:5, Y:2 }))\n",
    "    print(\"X = 10, Y = -5 : Z = \", sess.run(Z, { X:10.1, Y:-5 }))"
   ]
  },
  {
   "cell_type": "code",
   "execution_count": 22,
   "metadata": {},
   "outputs": [
    {
     "name": "stdout",
     "output_type": "stream",
     "text": [
      "[[15.]\n",
      " [18.]\n",
      " [18.]]\n"
     ]
    }
   ],
   "source": [
    "X = tf.placeholder(tf.float32, shape=[3, 2])\n",
    "W = tf.Variable([[3.0], \n",
    "                 [3.0]])\n",
    "Z = tf.matmul(X, W)\n",
    "\n",
    "d = {\n",
    "    X : [[3,2],\n",
    "        [2,4],\n",
    "        [1, 5]]\n",
    "}\n",
    "with tf.Session() as sess:\n",
    "    sess.run(W.initializer)\n",
    "    print(sess.run(Z, d))"
   ]
  },
  {
   "cell_type": "code",
   "execution_count": 53,
   "metadata": {},
   "outputs": [
    {
     "name": "stdout",
     "output_type": "stream",
     "text": [
      "0\n",
      "[[ 4.147319]\n",
      " [16.301615]\n",
      " [16.301615]\n",
      " [16.301615]]\n",
      "1\n",
      "[[21.92457 ]\n",
      " [11.679937]]\n"
     ]
    }
   ],
   "source": [
    "X = tf.placeholder(tf.float32, shape=[None, 3])\n",
    "W = tf.Variable(tf.random_normal(dtype=tf.float32, seed=42, mean=5, stddev=10,shape=[3,1]))\n",
    "Z = tf.matmul(X, W)\n",
    "\n",
    "d = {\n",
    "    X : [[1,2,3],\n",
    "        [4,5,6],\n",
    "        [4,5,6],\n",
    "        [4,5,6],]\n",
    "}\n",
    "\n",
    "d2 = {\n",
    "    X : [[5, 4, 2],\n",
    "        [1, 7, 9]]\n",
    "}\n",
    "\n",
    "d_list = [d, d2]\n",
    "with tf.Session() as sess:\n",
    "    sess.run(W.initializer)\n",
    "    for i, d in enumerate(d_list):\n",
    "        print (i)\n",
    "        print(sess.run(Z, d))"
   ]
  },
  {
   "cell_type": "code",
   "execution_count": 65,
   "metadata": {},
   "outputs": [
    {
     "name": "stdout",
     "output_type": "stream",
     "text": [
      "(2, 3)\n"
     ]
    }
   ],
   "source": [
    "X = tf.placeholder(dtype=tf.float32, shape=[2, 3])\n",
    "d = {\n",
    "    X : [[1,2,3],\n",
    "        [4,5,6]]\n",
    "}\n",
    "with tf.Session() as sess:\n",
    "    print(sess.run(X, d).shape)"
   ]
  },
  {
   "cell_type": "code",
   "execution_count": null,
   "metadata": {},
   "outputs": [],
   "source": []
  },
  {
   "cell_type": "code",
   "execution_count": null,
   "metadata": {},
   "outputs": [],
   "source": []
  }
 ],
 "metadata": {
  "kernelspec": {
   "display_name": "Python 3",
   "language": "python",
   "name": "python3"
  },
  "language_info": {
   "codemirror_mode": {
    "name": "ipython",
    "version": 3
   },
   "file_extension": ".py",
   "mimetype": "text/x-python",
   "name": "python",
   "nbconvert_exporter": "python",
   "pygments_lexer": "ipython3",
   "version": "3.6.6"
  }
 },
 "nbformat": 4,
 "nbformat_minor": 2
}
