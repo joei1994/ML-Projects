{
 "cells": [
  {
   "cell_type": "code",
   "execution_count": 1,
   "metadata": {},
   "outputs": [],
   "source": [
    "import numpy as np\n",
    "import tensorflow as tf"
   ]
  },
  {
   "cell_type": "markdown",
   "metadata": {},
   "source": [
    "# Plot Scalar Summary"
   ]
  },
  {
   "cell_type": "code",
   "execution_count": 2,
   "metadata": {},
   "outputs": [],
   "source": [
    "tf.reset_default_graph()\n",
    "\n",
    "x_scalar = tf.get_variable(name='x_scalar', shape=[], initializer=tf.truncated_normal_initializer(mean=0, stddev=1))\n",
    "\n",
    "scalar_summary = tf.summary.scalar(name='x_scalar_summary', tensor=x_scalar)\n",
    "\n",
    "initializer = tf.global_variables_initializer()\n",
    "\n",
    "with tf.Session() as sess:\n",
    "    writer = tf.summary.FileWriter(logdir='./graphs/scalar_summary', graph=sess.graph)\n",
    "    for i in range(100):\n",
    "        sess.run(initializer)\n",
    "        summary = sess.run(scalar_summary)\n",
    "        writer.add_summary(summary, i)\n",
    "writer.close() "
   ]
  },
  {
   "cell_type": "markdown",
   "metadata": {},
   "source": [
    "# Plot Histogram Summary"
   ]
  },
  {
   "cell_type": "code",
   "execution_count": 3,
   "metadata": {},
   "outputs": [],
   "source": [
    "tf.reset_default_graph()\n",
    "\n",
    "x_matrix = tf.get_variable(shape=[30, 40], name='x_matrix',\n",
    "                           initializer=tf.truncated_normal_initializer(mean=100, stddev=30))\n",
    "x_matrix_summary = tf.summary.histogram(name='x_matrix_summary', values=x_matrix)\n",
    "\n",
    "with tf.Session() as sess:\n",
    "    writer = tf.summary.FileWriter('./graphs/histogram_summary', sess.graph)\n",
    "    for i in range(1000):\n",
    "        sess.run(x_matrix.initializer)\n",
    "        summary = sess.run(x_matrix_summary)\n",
    "        writer.add_summary(summary, i)\n",
    "writer.close()"
   ]
  },
  {
   "cell_type": "code",
   "execution_count": null,
   "metadata": {},
   "outputs": [],
   "source": []
  }
 ],
 "metadata": {
  "kernelspec": {
   "display_name": "Python 3",
   "language": "python",
   "name": "python3"
  },
  "language_info": {
   "codemirror_mode": {
    "name": "ipython",
    "version": 3
   },
   "file_extension": ".py",
   "mimetype": "text/x-python",
   "name": "python",
   "nbconvert_exporter": "python",
   "pygments_lexer": "ipython3",
   "version": "3.6.6"
  }
 },
 "nbformat": 4,
 "nbformat_minor": 2
}
