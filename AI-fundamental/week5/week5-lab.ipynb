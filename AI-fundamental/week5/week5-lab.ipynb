{
 "cells": [
  {
   "cell_type": "code",
   "execution_count": 1,
   "metadata": {},
   "outputs": [],
   "source": [
    "import tensorflow as tf\n",
    "import numpy as np \n",
    "import pandas as pd\n",
    "import matplotlib\n",
    "from matplotlib import pyplot as plt\n",
    "from __future__ import division\n",
    "from scipy.io import loadmat\n",
    "from collections import defaultdict"
   ]
  },
  {
   "cell_type": "code",
   "execution_count": 2,
   "metadata": {},
   "outputs": [],
   "source": [
    "digits = loadmat('./data/digits.mat')\n",
    "X_train = digits['X']\n",
    "y_train = np.squeeze(digits['y'])\n",
    "y_train = np.where(y_train == 10, 0, y_train)"
   ]
  },
  {
   "cell_type": "code",
   "execution_count": 3,
   "metadata": {},
   "outputs": [
    {
     "data": {
      "text/plain": [
       "((5000, 400), (5000,))"
      ]
     },
     "execution_count": 3,
     "metadata": {},
     "output_type": "execute_result"
    }
   ],
   "source": [
    "X_train.shape, y_train.shape"
   ]
  },
  {
   "cell_type": "code",
   "execution_count": 7,
   "metadata": {},
   "outputs": [],
   "source": [
    "n_observations = X_train.shape[0]\n",
    "n_features = X_train.shape[1]\n",
    "n_class = len(np.unique(y_train))"
   ]
  },
  {
   "cell_type": "code",
   "execution_count": 10,
   "metadata": {},
   "outputs": [
    {
     "data": {
      "text/plain": [
       "array([0, 1, 2, 3, 4, 5, 6, 7, 8, 9], dtype=uint8)"
      ]
     },
     "execution_count": 10,
     "metadata": {},
     "output_type": "execute_result"
    }
   ],
   "source": [
    "np.unique(y_train)"
   ]
  },
  {
   "cell_type": "code",
   "execution_count": 11,
   "metadata": {},
   "outputs": [],
   "source": [
    "X = tf.placeholder(dtype='float32', shape=(None, n_features), name='X')\n",
    "Y = tf.placeholder(dtype='float32', shape=(None, 1) name='Y')\n",
    "\n",
    "thetas = tf.Variable(np.zeros(shape=(n_features, n_class)), name='thetas')\n",
    "theta0 = tf.Variable(np.zeros(shape=(1, n_class)), name='theta0')\n",
    "\n",
    "z = tf.matmul(X, thetas) + theta0\n",
    "softmax = tf.nn.softmax(z)\n",
    "cost_function = \n",
    "\n",
    "optimizer = tf.train.GradientDescentOptimizer(learning_rate=0.03).minimize(cost_function)\n",
    "\n"
   ]
  },
  {
   "cell_type": "code",
   "execution_count": null,
   "metadata": {},
   "outputs": [],
   "source": []
  }
 ],
 "metadata": {
  "kernelspec": {
   "display_name": "Python 3",
   "language": "python",
   "name": "python3"
  },
  "language_info": {
   "codemirror_mode": {
    "name": "ipython",
    "version": 3
   },
   "file_extension": ".py",
   "mimetype": "text/x-python",
   "name": "python",
   "nbconvert_exporter": "python",
   "pygments_lexer": "ipython3",
   "version": "3.6.6"
  }
 },
 "nbformat": 4,
 "nbformat_minor": 2
}
