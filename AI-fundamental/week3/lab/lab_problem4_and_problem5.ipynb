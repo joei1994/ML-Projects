{
 "cells": [
  {
   "cell_type": "code",
   "execution_count": 1,
   "metadata": {},
   "outputs": [],
   "source": [
    "import numpy as np\n",
    "import tensorflow as tf\n",
    "import matplotlib \n",
    "from matplotlib import pyplot as plt\n",
    "import seaborn as sns\n",
    "from __future__ import division\n",
    "import pandas as pd"
   ]
  },
  {
   "cell_type": "code",
   "execution_count": 2,
   "metadata": {},
   "outputs": [
    {
     "name": "stdout",
     "output_type": "stream",
     "text": [
      "*** No CODEPAGE record, no encoding_override: will use 'ascii'\n"
     ]
    }
   ],
   "source": [
    "data = pd.read_excel('../data/fire_theft.xls')\n",
    "n_instances = len(data)\n",
    "n_features = 1"
   ]
  },
  {
   "cell_type": "code",
   "execution_count": 3,
   "metadata": {},
   "outputs": [
    {
     "data": {
      "text/html": [
       "<div>\n",
       "<style scoped>\n",
       "    .dataframe tbody tr th:only-of-type {\n",
       "        vertical-align: middle;\n",
       "    }\n",
       "\n",
       "    .dataframe tbody tr th {\n",
       "        vertical-align: top;\n",
       "    }\n",
       "\n",
       "    .dataframe thead th {\n",
       "        text-align: right;\n",
       "    }\n",
       "</style>\n",
       "<table border=\"1\" class=\"dataframe\">\n",
       "  <thead>\n",
       "    <tr style=\"text-align: right;\">\n",
       "      <th></th>\n",
       "      <th>X</th>\n",
       "      <th>Y</th>\n",
       "    </tr>\n",
       "  </thead>\n",
       "  <tbody>\n",
       "    <tr>\n",
       "      <th>0</th>\n",
       "      <td>6.2</td>\n",
       "      <td>29</td>\n",
       "    </tr>\n",
       "    <tr>\n",
       "      <th>1</th>\n",
       "      <td>9.5</td>\n",
       "      <td>44</td>\n",
       "    </tr>\n",
       "    <tr>\n",
       "      <th>2</th>\n",
       "      <td>10.5</td>\n",
       "      <td>36</td>\n",
       "    </tr>\n",
       "    <tr>\n",
       "      <th>3</th>\n",
       "      <td>7.7</td>\n",
       "      <td>37</td>\n",
       "    </tr>\n",
       "    <tr>\n",
       "      <th>4</th>\n",
       "      <td>8.6</td>\n",
       "      <td>53</td>\n",
       "    </tr>\n",
       "  </tbody>\n",
       "</table>\n",
       "</div>"
      ],
      "text/plain": [
       "      X   Y\n",
       "0   6.2  29\n",
       "1   9.5  44\n",
       "2  10.5  36\n",
       "3   7.7  37\n",
       "4   8.6  53"
      ]
     },
     "execution_count": 3,
     "metadata": {},
     "output_type": "execute_result"
    }
   ],
   "source": [
    "data.head()"
   ]
  },
  {
   "cell_type": "markdown",
   "metadata": {},
   "source": [
    "### Problem4: Implement SGD"
   ]
  },
  {
   "cell_type": "code",
   "execution_count": 4,
   "metadata": {
    "scrolled": false
   },
   "outputs": [
    {
     "name": "stdout",
     "output_type": "stream",
     "text": [
      "step:0, theta0=0.012, theta1=0.041, cost=803.056\n",
      "step:2000, theta0=6.832, theta1=1.062, cost=272.521\n",
      "step:4000, theta0=10.972, theta1=2.189, cost=228.357\n",
      "step:6000, theta0=13.191, theta1=3.314, cost=596.073\n",
      "step:8000, theta0=15.709, theta1=1.439, cost=181.173\n",
      "step:10000, theta0=15.988, theta1=3.013, cost=523.599\n",
      "step:12000, theta0=16.022, theta1=0.962, cost=200.780\n",
      "step:14000, theta0=16.210, theta1=0.801, cost=218.942\n",
      "step:16000, theta0=16.780, theta1=0.716, cost=227.119\n",
      "step:18000, theta0=16.369, theta1=0.856, cost=210.628\n",
      "step:20000, theta0=16.535, theta1=1.063, cost=189.908\n",
      "step:22000, theta0=16.856, theta1=1.200, cost=182.240\n",
      "step:24000, theta0=17.012, theta1=1.324, cost=180.427\n",
      "step:26000, theta0=16.472, theta1=1.492, cost=183.398\n",
      "step:28000, theta0=16.460, theta1=0.728, cost=227.845\n"
     ]
    },
    {
     "name": "stderr",
     "output_type": "stream",
     "text": [
      "/Users/80151/anaconda3/lib/python3.6/site-packages/matplotlib/cbook/__init__.py:2446: UserWarning: Saw kwargs ['c', 'color'] which are all aliases for 'color'.  Kept value from 'color'\n",
      "  seen=seen, canon=canonical, used=seen[-1]))\n",
      "/Users/80151/anaconda3/lib/python3.6/site-packages/matplotlib/cbook/__init__.py:2446: UserWarning: Saw kwargs ['c', 'color'] which are all aliases for 'color'.  Kept value from 'color'\n",
      "  seen=seen, canon=canonical, used=seen[-1]))\n"
     ]
    },
    {
     "data": {
      "image/png": "[encoded data removed]",
      "text/plain": [
       "<Figure size 432x432 with 1 Axes>"
      ]
     },
     "metadata": {},
     "output_type": "display_data"
    }
   ],
   "source": [
    "X = tf.placeholder(name='X', dtype=tf.float32)\n",
    "Y = tf.placeholder(name='Y', dtype=tf.float32)\n",
    "\n",
    "theta0 = tf.Variable(0.0, name='theta0')\n",
    "theta1 = tf.Variable(0.0, name='theta1')\n",
    "\n",
    "y_pred = theta0 + theta1*X\n",
    "\n",
    "cost_function = (1.0/ (2.0 * n_instances)) * tf.reduce_sum(tf.pow((y_pred - Y), 2))\n",
    "cost_summary = tf.summary.scalar(tensor=cost_function, name='sgd_cost_summary')\n",
    "\n",
    "optimizer = tf.train.GradientDescentOptimizer(learning_rate=0.03).minimize(cost_function)\n",
    "\n",
    "all_instance_feed_dict = {\n",
    "    X : data['X'].values,\n",
    "    Y : data['Y'].values\n",
    "}\n",
    "\n",
    "with tf.Session() as sess:\n",
    "    writer = tf.summary.FileWriter('graphs/lab_problem4_5/')\n",
    "    sess.run(tf.global_variables_initializer())\n",
    "    \n",
    "    for step in range(30000):\n",
    "        random_index = np.random.choice(n_instances)\n",
    "        random_x = data.iloc[random_index]['X']\n",
    "        random_y = data.iloc[random_index]['Y']\n",
    "\n",
    "        random_instance_feed_dict = {\n",
    "            X : random_x,\n",
    "            Y : random_y\n",
    "        }\n",
    "\n",
    "        sess.run(optimizer, random_instance_feed_dict)\n",
    "        summary = sess.run(cost_summary, all_instance_feed_dict)\n",
    "        writer.add_summary(summary, step)\n",
    "\n",
    "        if(step % 2000 == 0):\n",
    "            tt0 = sess.run(theta0)\n",
    "            tt1 = sess.run(theta1)\n",
    "            cost = sess.run(cost_function, all_instance_feed_dict)\n",
    "            print(f\"step:{step}, theta0={tt0:.3f}, theta1={tt1:.3f}, cost={cost:.3f}\")\n",
    "    plt.figure(figsize=(6,6))\n",
    "    sns.scatterplot(data['X'], data['Y'])\n",
    "    sns.lineplot(data['X'], sess.run(y_pred, all_instance_feed_dict), c='r')\n",
    "    plt.show()\n",
    "    \n",
    "writer.close()"
   ]
  },
  {
   "cell_type": "markdown",
   "metadata": {},
   "source": [
    "### Problem5: Mini-batch Gradient Descent(50 training instances)"
   ]
  },
  {
   "cell_type": "code",
   "execution_count": 5,
   "metadata": {},
   "outputs": [
    {
     "name": "stdout",
     "output_type": "stream",
     "text": [
      "step:0, theta0:0.038, theta1:0.528, cost=571.079\n",
      "step:2000, theta0:9.826, theta1:1.553, cost=191.535\n",
      "step:4000, theta0:13.998, theta1:1.397, cost=182.604\n",
      "step:6000, theta0:15.680, theta1:1.317, cost=181.219\n",
      "step:8000, theta0:16.405, theta1:1.454, cost=182.016\n",
      "step:10000, theta0:16.758, theta1:1.199, cost=182.438\n",
      "step:12000, theta0:17.019, theta1:1.449, cost=182.773\n",
      "step:14000, theta0:17.134, theta1:1.296, cost=180.429\n",
      "step:16000, theta0:17.104, theta1:1.388, cost=181.213\n",
      "step:18000, theta0:16.897, theta1:1.072, cost=188.071\n",
      "step:20000, theta0:16.961, theta1:1.534, cost=186.471\n",
      "step:22000, theta0:17.077, theta1:1.220, cost=181.411\n",
      "step:24000, theta0:17.079, theta1:1.667, cost=196.558\n",
      "step:26000, theta0:17.040, theta1:1.162, cost=183.218\n",
      "step:28000, theta0:17.088, theta1:1.130, cost=184.457\n"
     ]
    },
    {
     "name": "stderr",
     "output_type": "stream",
     "text": [
      "/Users/80151/anaconda3/lib/python3.6/site-packages/matplotlib/cbook/__init__.py:2446: UserWarning: Saw kwargs ['c', 'color'] which are all aliases for 'color'.  Kept value from 'color'\n",
      "  seen=seen, canon=canonical, used=seen[-1]))\n",
      "/Users/80151/anaconda3/lib/python3.6/site-packages/matplotlib/cbook/__init__.py:2446: UserWarning: Saw kwargs ['c', 'color'] which are all aliases for 'color'.  Kept value from 'color'\n",
      "  seen=seen, canon=canonical, used=seen[-1]))\n"
     ]
    },
    {
     "data": {
      "image/png": "[encoded data removed]",
      "text/plain": [
       "<Figure size 432x432 with 1 Axes>"
      ]
     },
     "metadata": {},
     "output_type": "display_data"
    }
   ],
   "source": [
    "X = tf.placeholder(name='X', dtype=tf.float32)\n",
    "Y = tf.placeholder(name='Y', dtype=tf.float32)\n",
    "\n",
    "theta0 = tf.Variable(0.0, name='theta0')\n",
    "theta1 = tf.Variable(0.0, name='theta1')\n",
    "\n",
    "y_pred = theta0 + theta1*X\n",
    "\n",
    "cost_function = (1.0/(2.0*n_instances)) * tf.reduce_sum(tf.pow(y_pred - Y, 2))\n",
    "cost_summary = tf.summary.scalar(tensor=cost_function, name='mini_batch_gd_cost_summary')\n",
    "\n",
    "optimizer = tf.train.GradientDescentOptimizer(learning_rate=0.001).minimize(cost_function)\n",
    "\n",
    "all_instance_feed_dict = {\n",
    "    X : data['X'].values,\n",
    "    Y : data['Y'].values\n",
    "}\n",
    "with tf.Session() as sess:\n",
    "    writer = tf.summary.FileWriter('graphs/lab_problem4_5/')\n",
    "    sess.run(tf.global_variables_initializer())\n",
    "    \n",
    "    for step in range(30000):\n",
    "        random_indices = np.random.choice(n_instances, 50)\n",
    "        train_instances_feed_dict = {\n",
    "            X : data.iloc[random_indices]['X'].values,\n",
    "            Y : data.iloc[random_indices]['Y'].values\n",
    "        }\n",
    "        \n",
    "        sess.run(optimizer, train_instances_feed_dict)\n",
    "        \n",
    "        summary = sess.run(cost_summary, all_instance_feed_dict)\n",
    "        writer.add_summary(summary, step)\n",
    "        \n",
    "        if(step % 2000 == 0):\n",
    "            tt0 = sess.run(theta0)\n",
    "            tt1 = sess.run(theta1)\n",
    "            cost = sess.run(cost_function, all_instance_feed_dict)\n",
    "            print(f\"step:{step}, theta0:{tt0:.3f}, theta1:{tt1:.3f}, cost={cost:.3f}\")\n",
    "            \n",
    "    plt.figure(figsize=(6,6))\n",
    "    sns.scatterplot(data['X'], data['Y'])\n",
    "    sns.lineplot(data['X'], sess.run(y_pred, all_instance_feed_dict), c='r')\n",
    "    plt.show()"
   ]
  },
  {
   "cell_type": "code",
   "execution_count": null,
   "metadata": {},
   "outputs": [],
   "source": []
  }
 ],
 "metadata": {
  "kernelspec": {
   "display_name": "Python 3",
   "language": "python",
   "name": "python3"
  },
  "language_info": {
   "codemirror_mode": {
    "name": "ipython",
    "version": 3
   },
   "file_extension": ".py",
   "mimetype": "text/x-python",
   "name": "python",
   "nbconvert_exporter": "python",
   "pygments_lexer": "ipython3",
   "version": "3.6.6"
  }
 },
 "nbformat": 4,
 "nbformat_minor": 2
}
