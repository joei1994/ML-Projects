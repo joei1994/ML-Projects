{
 "cells": [
  {
   "cell_type": "code",
   "execution_count": 1,
   "metadata": {},
   "outputs": [],
   "source": [
    "import numpy as np\n",
    "import tensorflow as tf\n",
    "import matplotlib \n",
    "from matplotlib import pyplot as plt\n",
    "import seaborn as sns\n",
    "from __future__ import division\n",
    "import pandas as pd"
   ]
  },
  {
   "cell_type": "code",
   "execution_count": 2,
   "metadata": {},
   "outputs": [
    {
     "name": "stdout",
     "output_type": "stream",
     "text": [
      "*** No CODEPAGE record, no encoding_override: will use 'ascii'\n"
     ]
    }
   ],
   "source": [
    "data = pd.read_excel('../data/fire_theft.xls')\n",
    "n_instances = len(data)\n",
    "n_features = 1"
   ]
  },
  {
   "cell_type": "code",
   "execution_count": 3,
   "metadata": {},
   "outputs": [
    {
     "data": {
      "text/html": [
       "<div>\n",
       "<style scoped>\n",
       "    .dataframe tbody tr th:only-of-type {\n",
       "        vertical-align: middle;\n",
       "    }\n",
       "\n",
       "    .dataframe tbody tr th {\n",
       "        vertical-align: top;\n",
       "    }\n",
       "\n",
       "    .dataframe thead th {\n",
       "        text-align: right;\n",
       "    }\n",
       "</style>\n",
       "<table border=\"1\" class=\"dataframe\">\n",
       "  <thead>\n",
       "    <tr style=\"text-align: right;\">\n",
       "      <th></th>\n",
       "      <th>X</th>\n",
       "      <th>Y</th>\n",
       "    </tr>\n",
       "  </thead>\n",
       "  <tbody>\n",
       "    <tr>\n",
       "      <th>0</th>\n",
       "      <td>6.2</td>\n",
       "      <td>29</td>\n",
       "    </tr>\n",
       "    <tr>\n",
       "      <th>1</th>\n",
       "      <td>9.5</td>\n",
       "      <td>44</td>\n",
       "    </tr>\n",
       "    <tr>\n",
       "      <th>2</th>\n",
       "      <td>10.5</td>\n",
       "      <td>36</td>\n",
       "    </tr>\n",
       "    <tr>\n",
       "      <th>3</th>\n",
       "      <td>7.7</td>\n",
       "      <td>37</td>\n",
       "    </tr>\n",
       "    <tr>\n",
       "      <th>4</th>\n",
       "      <td>8.6</td>\n",
       "      <td>53</td>\n",
       "    </tr>\n",
       "  </tbody>\n",
       "</table>\n",
       "</div>"
      ],
      "text/plain": [
       "      X   Y\n",
       "0   6.2  29\n",
       "1   9.5  44\n",
       "2  10.5  36\n",
       "3   7.7  37\n",
       "4   8.6  53"
      ]
     },
     "execution_count": 3,
     "metadata": {},
     "output_type": "execute_result"
    }
   ],
   "source": [
    "data.head()"
   ]
  },
  {
   "cell_type": "markdown",
   "metadata": {},
   "source": [
    "### Problem4: Implement SGD"
   ]
  },
  {
   "cell_type": "code",
   "execution_count": 4,
   "metadata": {
    "scrolled": false
   },
   "outputs": [
    {
     "name": "stdout",
     "output_type": "stream",
     "text": [
      "step:0, theta0=0.105, theta1=4.168, cost=739.449\n",
      "step:2000, theta0=7.045, theta1=1.820, cost=198.312\n",
      "step:4000, theta0=11.026, theta1=0.900, cost=251.147\n",
      "step:6000, theta0=13.828, theta1=1.182, cost=192.880\n",
      "step:8000, theta0=14.908, theta1=1.507, cost=182.197\n",
      "step:10000, theta0=15.355, theta1=1.938, cost=217.995\n",
      "step:12000, theta0=16.129, theta1=3.541, cost=782.135\n",
      "step:14000, theta0=16.637, theta1=1.482, cost=183.310\n",
      "step:16000, theta0=17.136, theta1=0.572, cost=248.473\n",
      "step:18000, theta0=16.689, theta1=1.729, cost=200.675\n",
      "step:20000, theta0=16.926, theta1=0.632, cost=239.584\n",
      "step:22000, theta0=16.557, theta1=1.032, cost=192.087\n",
      "step:24000, theta0=17.038, theta1=0.783, cost=215.614\n",
      "step:26000, theta0=16.514, theta1=0.625, cost=244.528\n",
      "step:28000, theta0=16.148, theta1=0.730, cost=230.067\n"
     ]
    },
    {
     "name": "stderr",
     "output_type": "stream",
     "text": [
      "/Users/80151/anaconda3/lib/python3.6/site-packages/matplotlib/cbook/__init__.py:2446: UserWarning: Saw kwargs ['c', 'color'] which are all aliases for 'color'.  Kept value from 'color'\n",
      "  seen=seen, canon=canonical, used=seen[-1]))\n",
      "/Users/80151/anaconda3/lib/python3.6/site-packages/matplotlib/cbook/__init__.py:2446: UserWarning: Saw kwargs ['c', 'color'] which are all aliases for 'color'.  Kept value from 'color'\n",
      "  seen=seen, canon=canonical, used=seen[-1]))\n"
     ]
    },
    {
     "data": {
      "image/png": "[encoded data removed]",
      "text/plain": [
       "<Figure size 432x432 with 1 Axes>"
      ]
     },
     "metadata": {},
     "output_type": "display_data"
    }
   ],
   "source": [
    "X = tf.placeholder(name='X', dtype=tf.float32)\n",
    "Y = tf.placeholder(name='Y', dtype=tf.float32)\n",
    "\n",
    "theta0 = tf.Variable(0.0, name='theta0')\n",
    "theta1 = tf.Variable(0.0, name='theta1')\n",
    "\n",
    "y_pred = theta0 + theta1*X\n",
    "\n",
    "cost_function = (1.0/ (2.0 * n_instances)) * tf.reduce_sum(tf.pow((y_pred - Y), 2))\n",
    "cost_summary = tf.summary.scalar(tensor=cost_function, name='cost_summary')\n",
    "\n",
    "optimizer = tf.train.GradientDescentOptimizer(learning_rate=0.03).minimize(cost_function)\n",
    "\n",
    "all_instance_feed_dict = {\n",
    "    X : data['X'].values,\n",
    "    Y : data['Y'].values\n",
    "}\n",
    "\n",
    "with tf.Session() as sess:\n",
    "    writer = tf.summary.FileWriter('graphs/lab_problem4_5/')\n",
    "    sess.run(tf.global_variables_initializer())\n",
    "    \n",
    "    for step in range(30000):\n",
    "        random_index = np.random.choice(n_instances)\n",
    "        random_x = data.iloc[random_index]['X']\n",
    "        random_y = data.iloc[random_index]['Y']\n",
    "\n",
    "        random_instance_feed_dict = {\n",
    "            X : random_x,\n",
    "            Y : random_y\n",
    "        }\n",
    "\n",
    "        sess.run(optimizer, random_instance_feed_dict)\n",
    "        summary = sess.run(cost_summary, all_instance_feed_dict)\n",
    "        writer.add_summary(summary, step)\n",
    "\n",
    "        if(step % 2000 == 0):\n",
    "            tt0 = sess.run(theta0)\n",
    "            tt1 = sess.run(theta1)\n",
    "            cost = sess.run(cost_function, all_instance_feed_dict)\n",
    "            print(f\"step:{step}, theta0={tt0:.3f}, theta1={tt1:.3f}, cost={cost:.3f}\")\n",
    "    plt.figure(figsize=(6,6))\n",
    "    sns.scatterplot(data['X'], data['Y'])\n",
    "    sns.lineplot(data['X'], sess.run(y_pred, all_instance_feed_dict), c='r')\n",
    "    plt.show()\n",
    "    \n",
    "writer.close()"
   ]
  },
  {
   "cell_type": "markdown",
   "metadata": {},
   "source": [
    "### Problem5: Mini-batch Gradient Descent(50 training instances)"
   ]
  },
  {
   "cell_type": "code",
   "execution_count": 5,
   "metadata": {},
   "outputs": [
    {
     "name": "stdout",
     "output_type": "stream",
     "text": [
      "step:0, theta0:0.044, theta1:0.801, cost=467.376\n",
      "step:2000, theta0:9.880, theta1:1.517, cost=192.562\n",
      "step:4000, theta0:13.916, theta1:1.356, cost=183.714\n",
      "step:6000, theta0:15.608, theta1:1.422, cost=180.947\n",
      "step:8000, theta0:16.285, theta1:1.353, cost=180.503\n",
      "step:10000, theta0:16.629, theta1:1.478, cost=183.114\n",
      "step:12000, theta0:16.849, theta1:1.309, cost=180.432\n",
      "step:14000, theta0:16.973, theta1:1.413, cost=181.635\n",
      "step:16000, theta0:16.965, theta1:1.396, cost=181.232\n",
      "step:18000, theta0:16.919, theta1:1.214, cost=181.764\n",
      "step:20000, theta0:17.087, theta1:1.254, cost=180.790\n",
      "step:22000, theta0:16.942, theta1:1.087, cost=187.037\n",
      "step:24000, theta0:17.030, theta1:1.282, cost=180.523\n",
      "step:26000, theta0:17.063, theta1:1.244, cost=180.968\n",
      "step:28000, theta0:17.059, theta1:1.268, cost=180.632\n"
     ]
    },
    {
     "name": "stderr",
     "output_type": "stream",
     "text": [
      "/Users/80151/anaconda3/lib/python3.6/site-packages/matplotlib/cbook/__init__.py:2446: UserWarning: Saw kwargs ['c', 'color'] which are all aliases for 'color'.  Kept value from 'color'\n",
      "  seen=seen, canon=canonical, used=seen[-1]))\n",
      "/Users/80151/anaconda3/lib/python3.6/site-packages/matplotlib/cbook/__init__.py:2446: UserWarning: Saw kwargs ['c', 'color'] which are all aliases for 'color'.  Kept value from 'color'\n",
      "  seen=seen, canon=canonical, used=seen[-1]))\n"
     ]
    },
    {
     "data": {
      "image/png": "[encoded data removed]",
      "text/plain": [
       "<Figure size 432x432 with 1 Axes>"
      ]
     },
     "metadata": {},
     "output_type": "display_data"
    }
   ],
   "source": [
    "X = tf.placeholder(name='X', dtype=tf.float32)\n",
    "Y = tf.placeholder(name='Y', dtype=tf.float32)\n",
    "\n",
    "theta0 = tf.Variable(0.0, name='theta0')\n",
    "theta1 = tf.Variable(0.0, name='theta1')\n",
    "\n",
    "y_pred = theta0 + theta1*X\n",
    "\n",
    "cost_function = (1.0/(2.0*n_instances)) * tf.reduce_sum(tf.pow(y_pred - Y, 2))\n",
    "cost_summary = tf.summary.scalar(tensor=cost_function, name='Mini_Bath_GD')\n",
    "\n",
    "optimizer = tf.train.GradientDescentOptimizer(learning_rate=0.001).minimize(cost_function)\n",
    "\n",
    "all_instance_feed_dict = {\n",
    "    X : data['X'].values,\n",
    "    Y : data['Y'].values\n",
    "}\n",
    "with tf.Session() as sess:\n",
    "    writer = tf.summary.FileWriter('graphs/lab_problem4_5/')\n",
    "    sess.run(tf.global_variables_initializer())\n",
    "    \n",
    "    for step in range(30000):\n",
    "        random_indices = np.random.choice(n_instances, 50)\n",
    "        train_instances_feed_dict = {\n",
    "            X : data.iloc[random_indices]['X'].values,\n",
    "            Y : data.iloc[random_indices]['Y'].values\n",
    "        }\n",
    "        \n",
    "        sess.run(optimizer, train_instances_feed_dict)\n",
    "        \n",
    "        summary = sess.run(cost_summary, all_instance_feed_dict)\n",
    "        writer.add_summary(summary, step)\n",
    "        \n",
    "        if(step % 2000 == 0):\n",
    "            tt0 = sess.run(theta0)\n",
    "            tt1 = sess.run(theta1)\n",
    "            cost = sess.run(cost_function, all_instance_feed_dict)\n",
    "            print(f\"step:{step}, theta0:{tt0:.3f}, theta1:{tt1:.3f}, cost={cost:.3f}\")\n",
    "            \n",
    "    plt.figure(figsize=(6,6))\n",
    "    sns.scatterplot(data['X'], data['Y'])\n",
    "    sns.lineplot(data['X'], sess.run(y_pred, all_instance_feed_dict), c='r')\n",
    "    plt.show()"
   ]
  },
  {
   "cell_type": "code",
   "execution_count": null,
   "metadata": {},
   "outputs": [],
   "source": []
  }
 ],
 "metadata": {
  "kernelspec": {
   "display_name": "Python 3",
   "language": "python",
   "name": "python3"
  },
  "language_info": {
   "codemirror_mode": {
    "name": "ipython",
    "version": 3
   },
   "file_extension": ".py",
   "mimetype": "text/x-python",
   "name": "python",
   "nbconvert_exporter": "python",
   "pygments_lexer": "ipython3",
   "version": "3.6.6"
  }
 },
 "nbformat": 4,
 "nbformat_minor": 2
}
