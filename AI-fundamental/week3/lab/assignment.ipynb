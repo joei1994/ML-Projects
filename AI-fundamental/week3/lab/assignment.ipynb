{
 "cells": [
  {
   "cell_type": "code",
   "execution_count": 1,
   "metadata": {},
   "outputs": [],
   "source": [
    "import numpy as np\n",
    "import tensorflow as tf\n",
    "import matplotlib \n",
    "from matplotlib import pyplot as plt\n",
    "import seaborn as sns\n",
    "from __future__ import division\n",
    "import pandas as pd"
   ]
  },
  {
   "cell_type": "code",
   "execution_count": 2,
   "metadata": {},
   "outputs": [
    {
     "name": "stdout",
     "output_type": "stream",
     "text": [
      "*** No CODEPAGE record, no encoding_override: will use 'ascii'\n"
     ]
    }
   ],
   "source": [
    "data = pd.read_excel('../data/fire_theft.xls')"
   ]
  },
  {
   "cell_type": "markdown",
   "metadata": {},
   "source": [
    "### Assignment 2.1 Polynomial Regression"
   ]
  },
  {
   "cell_type": "code",
   "execution_count": 3,
   "metadata": {},
   "outputs": [],
   "source": [
    "data['X_2'] = data['X'] **2\n",
    "\n",
    "X_train = data[['X', 'X_2']]\n",
    "Y_train = data['Y']\n",
    "\n",
    "n_instances = X_train.shape[0]\n",
    "n_features = X_train.shape[1]"
   ]
  },
  {
   "cell_type": "code",
   "execution_count": 4,
   "metadata": {},
   "outputs": [
    {
     "data": {
      "text/html": [
       "<div>\n",
       "<style scoped>\n",
       "    .dataframe tbody tr th:only-of-type {\n",
       "        vertical-align: middle;\n",
       "    }\n",
       "\n",
       "    .dataframe tbody tr th {\n",
       "        vertical-align: top;\n",
       "    }\n",
       "\n",
       "    .dataframe thead th {\n",
       "        text-align: right;\n",
       "    }\n",
       "</style>\n",
       "<table border=\"1\" class=\"dataframe\">\n",
       "  <thead>\n",
       "    <tr style=\"text-align: right;\">\n",
       "      <th></th>\n",
       "      <th>X</th>\n",
       "      <th>X_2</th>\n",
       "    </tr>\n",
       "  </thead>\n",
       "  <tbody>\n",
       "    <tr>\n",
       "      <th>0</th>\n",
       "      <td>6.2</td>\n",
       "      <td>38.44</td>\n",
       "    </tr>\n",
       "    <tr>\n",
       "      <th>1</th>\n",
       "      <td>9.5</td>\n",
       "      <td>90.25</td>\n",
       "    </tr>\n",
       "    <tr>\n",
       "      <th>2</th>\n",
       "      <td>10.5</td>\n",
       "      <td>110.25</td>\n",
       "    </tr>\n",
       "    <tr>\n",
       "      <th>3</th>\n",
       "      <td>7.7</td>\n",
       "      <td>59.29</td>\n",
       "    </tr>\n",
       "    <tr>\n",
       "      <th>4</th>\n",
       "      <td>8.6</td>\n",
       "      <td>73.96</td>\n",
       "    </tr>\n",
       "  </tbody>\n",
       "</table>\n",
       "</div>"
      ],
      "text/plain": [
       "      X     X_2\n",
       "0   6.2   38.44\n",
       "1   9.5   90.25\n",
       "2  10.5  110.25\n",
       "3   7.7   59.29\n",
       "4   8.6   73.96"
      ]
     },
     "execution_count": 4,
     "metadata": {},
     "output_type": "execute_result"
    }
   ],
   "source": [
    "X_train.head()"
   ]
  },
  {
   "cell_type": "code",
   "execution_count": 5,
   "metadata": {
    "scrolled": false
   },
   "outputs": [
    {
     "name": "stdout",
     "output_type": "stream",
     "text": [
      "step:0, theta0:0.000, theta1:0.005, theta2:0.135, cost:814.992\n",
      "step:1000, theta0:0.146, theta1:0.856, theta2:0.039, cost:293.255\n",
      "step:2000, theta0:0.259, theta1:1.453, theta2:0.019, cost:255.916\n",
      "step:3000, theta0:0.350, theta1:1.870, theta2:0.005, cost:237.440\n",
      "step:4000, theta0:0.425, theta1:2.162, theta2:-0.004, cost:228.262\n",
      "step:5000, theta0:0.488, theta1:2.366, theta2:-0.011, cost:223.665\n",
      "step:6000, theta0:0.544, theta1:2.507, theta2:-0.016, cost:221.327\n",
      "step:7000, theta0:0.595, theta1:2.605, theta2:-0.019, cost:220.102\n",
      "step:8000, theta0:0.642, theta1:2.672, theta2:-0.021, cost:219.425\n",
      "step:9000, theta0:0.686, theta1:2.718, theta2:-0.023, cost:219.018\n",
      "step:10000, theta0:0.728, theta1:2.749, theta2:-0.024, cost:218.746\n",
      "step:11000, theta0:0.768, theta1:2.769, theta2:-0.025, cost:218.539\n",
      "step:12000, theta0:0.808, theta1:2.782, theta2:-0.025, cost:218.365\n",
      "step:13000, theta0:0.847, theta1:2.790, theta2:-0.026, cost:218.208\n",
      "step:14000, theta0:0.885, theta1:2.793, theta2:-0.026, cost:218.058\n",
      "step:15000, theta0:0.923, theta1:2.795, theta2:-0.026, cost:217.913\n",
      "step:16000, theta0:0.961, theta1:2.794, theta2:-0.026, cost:217.770\n",
      "step:17000, theta0:0.999, theta1:2.793, theta2:-0.026, cost:217.629\n",
      "step:18000, theta0:1.036, theta1:2.790, theta2:-0.026, cost:217.488\n",
      "step:19000, theta0:1.073, theta1:2.787, theta2:-0.026, cost:217.348\n",
      "step:20000, theta0:1.111, theta1:2.783, theta2:-0.026, cost:217.209\n",
      "step:21000, theta0:1.148, theta1:2.780, theta2:-0.026, cost:217.069\n",
      "step:22000, theta0:1.185, theta1:2.775, theta2:-0.026, cost:216.931\n",
      "step:23000, theta0:1.222, theta1:2.771, theta2:-0.025, cost:216.792\n",
      "step:24000, theta0:1.258, theta1:2.767, theta2:-0.025, cost:216.655\n",
      "step:25000, theta0:1.295, theta1:2.762, theta2:-0.025, cost:216.517\n",
      "step:26000, theta0:1.332, theta1:2.758, theta2:-0.025, cost:216.380\n",
      "step:27000, theta0:1.369, theta1:2.753, theta2:-0.025, cost:216.243\n",
      "step:28000, theta0:1.405, theta1:2.749, theta2:-0.025, cost:216.106\n",
      "step:29000, theta0:1.442, theta1:2.744, theta2:-0.025, cost:215.970\n",
      "step:30000, theta0:1.479, theta1:2.740, theta2:-0.025, cost:215.835\n",
      "step:31000, theta0:1.515, theta1:2.735, theta2:-0.025, cost:215.699\n",
      "step:32000, theta0:1.552, theta1:2.731, theta2:-0.025, cost:215.564\n",
      "step:33000, theta0:1.588, theta1:2.726, theta2:-0.024, cost:215.430\n",
      "step:34000, theta0:1.624, theta1:2.722, theta2:-0.024, cost:215.296\n",
      "step:35000, theta0:1.661, theta1:2.717, theta2:-0.024, cost:215.162\n",
      "step:36000, theta0:1.697, theta1:2.713, theta2:-0.024, cost:215.028\n",
      "step:37000, theta0:1.733, theta1:2.708, theta2:-0.024, cost:214.895\n",
      "step:38000, theta0:1.769, theta1:2.703, theta2:-0.024, cost:214.762\n",
      "step:39000, theta0:1.805, theta1:2.699, theta2:-0.024, cost:214.630\n",
      "step:40000, theta0:1.841, theta1:2.694, theta2:-0.024, cost:214.498\n",
      "step:41000, theta0:1.877, theta1:2.690, theta2:-0.024, cost:214.366\n",
      "step:42000, theta0:1.913, theta1:2.685, theta2:-0.023, cost:214.235\n",
      "step:43000, theta0:1.949, theta1:2.681, theta2:-0.023, cost:214.104\n",
      "step:44000, theta0:1.985, theta1:2.676, theta2:-0.023, cost:213.973\n",
      "step:45000, theta0:2.021, theta1:2.672, theta2:-0.023, cost:213.843\n",
      "step:46000, theta0:2.057, theta1:2.667, theta2:-0.023, cost:213.713\n",
      "step:47000, theta0:2.093, theta1:2.663, theta2:-0.023, cost:213.583\n",
      "step:48000, theta0:2.128, theta1:2.659, theta2:-0.023, cost:213.454\n",
      "step:49000, theta0:2.164, theta1:2.654, theta2:-0.023, cost:213.325\n",
      "step:50000, theta0:2.199, theta1:2.650, theta2:-0.023, cost:213.197\n",
      "step:51000, theta0:2.235, theta1:2.645, theta2:-0.023, cost:213.069\n",
      "step:52000, theta0:2.270, theta1:2.641, theta2:-0.022, cost:212.941\n",
      "step:53000, theta0:2.306, theta1:2.636, theta2:-0.022, cost:212.813\n",
      "step:54000, theta0:2.341, theta1:2.632, theta2:-0.022, cost:212.687\n",
      "step:55000, theta0:2.376, theta1:2.628, theta2:-0.022, cost:212.560\n",
      "step:56000, theta0:2.412, theta1:2.623, theta2:-0.022, cost:212.434\n",
      "step:57000, theta0:2.447, theta1:2.619, theta2:-0.022, cost:212.307\n",
      "step:58000, theta0:2.482, theta1:2.614, theta2:-0.022, cost:212.182\n",
      "step:59000, theta0:2.517, theta1:2.610, theta2:-0.022, cost:212.057\n",
      "step:60000, theta0:2.552, theta1:2.606, theta2:-0.022, cost:211.932\n",
      "step:61000, theta0:2.587, theta1:2.601, theta2:-0.022, cost:211.807\n",
      "step:62000, theta0:2.622, theta1:2.597, theta2:-0.021, cost:211.682\n",
      "step:63000, theta0:2.657, theta1:2.593, theta2:-0.021, cost:211.558\n",
      "step:64000, theta0:2.692, theta1:2.588, theta2:-0.021, cost:211.435\n",
      "step:65000, theta0:2.727, theta1:2.584, theta2:-0.021, cost:211.312\n",
      "step:66000, theta0:2.762, theta1:2.580, theta2:-0.021, cost:211.189\n",
      "step:67000, theta0:2.797, theta1:2.575, theta2:-0.021, cost:211.066\n",
      "step:68000, theta0:2.831, theta1:2.571, theta2:-0.021, cost:210.944\n",
      "step:69000, theta0:2.866, theta1:2.567, theta2:-0.021, cost:210.822\n",
      "step:70000, theta0:2.900, theta1:2.562, theta2:-0.021, cost:210.700\n",
      "step:71000, theta0:2.935, theta1:2.558, theta2:-0.021, cost:210.579\n",
      "step:72000, theta0:2.970, theta1:2.554, theta2:-0.020, cost:210.458\n",
      "step:73000, theta0:3.004, theta1:2.549, theta2:-0.020, cost:210.337\n",
      "step:74000, theta0:3.038, theta1:2.545, theta2:-0.020, cost:210.217\n",
      "step:75000, theta0:3.073, theta1:2.541, theta2:-0.020, cost:210.097\n",
      "step:76000, theta0:3.107, theta1:2.537, theta2:-0.020, cost:209.978\n",
      "step:77000, theta0:3.141, theta1:2.532, theta2:-0.020, cost:209.858\n",
      "step:78000, theta0:3.176, theta1:2.528, theta2:-0.020, cost:209.739\n",
      "step:79000, theta0:3.210, theta1:2.524, theta2:-0.020, cost:209.621\n",
      "step:80000, theta0:3.244, theta1:2.519, theta2:-0.020, cost:209.502\n",
      "step:81000, theta0:3.278, theta1:2.515, theta2:-0.020, cost:209.384\n",
      "step:82000, theta0:3.312, theta1:2.511, theta2:-0.019, cost:209.266\n",
      "step:83000, theta0:3.346, theta1:2.507, theta2:-0.019, cost:209.149\n",
      "step:84000, theta0:3.380, theta1:2.502, theta2:-0.019, cost:209.032\n",
      "step:85000, theta0:3.414, theta1:2.498, theta2:-0.019, cost:208.915\n",
      "step:86000, theta0:3.448, theta1:2.494, theta2:-0.019, cost:208.799\n",
      "step:87000, theta0:3.482, theta1:2.489, theta2:-0.019, cost:208.683\n",
      "step:88000, theta0:3.515, theta1:2.485, theta2:-0.019, cost:208.567\n",
      "step:89000, theta0:3.549, theta1:2.481, theta2:-0.019, cost:208.451\n",
      "step:90000, theta0:3.583, theta1:2.477, theta2:-0.019, cost:208.336\n",
      "step:91000, theta0:3.616, theta1:2.473, theta2:-0.019, cost:208.221\n",
      "step:92000, theta0:3.650, theta1:2.468, theta2:-0.019, cost:208.107\n",
      "step:93000, theta0:3.684, theta1:2.464, theta2:-0.018, cost:207.992\n",
      "step:94000, theta0:3.717, theta1:2.460, theta2:-0.018, cost:207.878\n",
      "step:95000, theta0:3.750, theta1:2.456, theta2:-0.018, cost:207.765\n",
      "step:96000, theta0:3.784, theta1:2.452, theta2:-0.018, cost:207.652\n",
      "step:97000, theta0:3.817, theta1:2.448, theta2:-0.018, cost:207.539\n",
      "step:98000, theta0:3.851, theta1:2.443, theta2:-0.018, cost:207.426\n",
      "step:99000, theta0:3.884, theta1:2.439, theta2:-0.018, cost:207.313\n"
     ]
    },
    {
     "name": "stderr",
     "output_type": "stream",
     "text": [
      "/Users/80151/anaconda3/lib/python3.6/site-packages/matplotlib/cbook/__init__.py:2446: UserWarning: Saw kwargs ['c', 'color'] which are all aliases for 'color'.  Kept value from 'color'\n",
      "  seen=seen, canon=canonical, used=seen[-1]))\n",
      "/Users/80151/anaconda3/lib/python3.6/site-packages/matplotlib/cbook/__init__.py:2446: UserWarning: Saw kwargs ['c', 'color'] which are all aliases for 'color'.  Kept value from 'color'\n",
      "  seen=seen, canon=canonical, used=seen[-1]))\n"
     ]
    },
    {
     "data": {
      "image/png": "[encoded data removed]",
      "text/plain": [
       "<Figure size 432x432 with 1 Axes>"
      ]
     },
     "metadata": {},
     "output_type": "display_data"
    }
   ],
   "source": [
    "X = tf.placeholder(name='X', dtype=tf.float32, shape=[None, n_features])\n",
    "Y = tf.placeholder(name='Y', dtype=tf.float32, shape=[None, 1])\n",
    "\n",
    "thetas = tf.Variable(np.zeros(shape=(n_features, 1)), name='thetas', dtype=tf.float32)\n",
    "theta0 = tf.Variable(0.0, name='theta0', dtype=tf.float32)\n",
    "\n",
    "y_pred = tf.matmul(X,thetas) + theta0\n",
    "\n",
    "cost_function = (1.0/ (2.0 * n_instances)) * tf.reduce_sum(tf.pow((y_pred - Y), 2))\n",
    "\n",
    "optimizer = tf.train.GradientDescentOptimizer(learning_rate=0.00001).minimize(cost_function)\n",
    "\n",
    "all_instances_feed_dict = {\n",
    "    X : data[['X', 'X_2']].values,\n",
    "    Y : data['Y'].values.reshape(-1, 1)\n",
    "}\n",
    "\n",
    "with tf.Session() as sess:\n",
    "    sess.run(tf.global_variables_initializer())\n",
    "    \n",
    "    for step in range(100000):\n",
    "        sess.run(optimizer, all_instances_feed_dict)\n",
    "        \n",
    "        if(step % 1000 == 0):\n",
    "            tts = sess.run(thetas)\n",
    "            tt0 = sess.run(theta0)\n",
    "            cost = sess.run(cost_function, all_instances_feed_dict)\n",
    "            print(f\"step:{step}, theta0:{tt0:.3f}, theta1:{tts[0][0]:.3f}, theta2:{tts[1][0]:.3f}, cost:{cost:.3f}\")\n",
    "    \n",
    "    plt.figure(figsize=(6,6))\n",
    "    sns.scatterplot(X_train['X'], Y_train)\n",
    "    sns.lineplot(X_train['X'], sess.run(y_pred, all_instances_feed_dict).flatten(), c='r')\n",
    "    plt.show()"
   ]
  },
  {
   "cell_type": "markdown",
   "metadata": {},
   "source": [
    "### Problem 2.2 Feature Scaling"
   ]
  },
  {
   "cell_type": "code",
   "execution_count": 9,
   "metadata": {},
   "outputs": [
    {
     "data": {
      "text/html": [
       "<div>\n",
       "<style scoped>\n",
       "    .dataframe tbody tr th:only-of-type {\n",
       "        vertical-align: middle;\n",
       "    }\n",
       "\n",
       "    .dataframe tbody tr th {\n",
       "        vertical-align: top;\n",
       "    }\n",
       "\n",
       "    .dataframe thead th {\n",
       "        text-align: right;\n",
       "    }\n",
       "</style>\n",
       "<table border=\"1\" class=\"dataframe\">\n",
       "  <thead>\n",
       "    <tr style=\"text-align: right;\">\n",
       "      <th></th>\n",
       "      <th>X</th>\n",
       "      <th>X_2</th>\n",
       "    </tr>\n",
       "  </thead>\n",
       "  <tbody>\n",
       "    <tr>\n",
       "      <th>0</th>\n",
       "      <td>6.2</td>\n",
       "      <td>38.44</td>\n",
       "    </tr>\n",
       "    <tr>\n",
       "      <th>1</th>\n",
       "      <td>9.5</td>\n",
       "      <td>90.25</td>\n",
       "    </tr>\n",
       "    <tr>\n",
       "      <th>2</th>\n",
       "      <td>10.5</td>\n",
       "      <td>110.25</td>\n",
       "    </tr>\n",
       "    <tr>\n",
       "      <th>3</th>\n",
       "      <td>7.7</td>\n",
       "      <td>59.29</td>\n",
       "    </tr>\n",
       "    <tr>\n",
       "      <th>4</th>\n",
       "      <td>8.6</td>\n",
       "      <td>73.96</td>\n",
       "    </tr>\n",
       "  </tbody>\n",
       "</table>\n",
       "</div>"
      ],
      "text/plain": [
       "      X     X_2\n",
       "0   6.2   38.44\n",
       "1   9.5   90.25\n",
       "2  10.5  110.25\n",
       "3   7.7   59.29\n",
       "4   8.6   73.96"
      ]
     },
     "execution_count": 9,
     "metadata": {},
     "output_type": "execute_result"
    }
   ],
   "source": [
    "X_train.head()"
   ]
  },
  {
   "cell_type": "code",
   "execution_count": 29,
   "metadata": {},
   "outputs": [
    {
     "name": "stdout",
     "output_type": "stream",
     "text": [
      "step:0, theta0=10.100, theta1=3.719, theta2=4.012, cost=465.647\n",
      "step:1000, theta0=33.667, theta1=-5.848, theta2=19.314, cost=166.208\n",
      "step:2000, theta0=33.667, theta1=-5.848, theta2=19.314, cost=166.208\n",
      "step:3000, theta0=33.667, theta1=-5.848, theta2=19.314, cost=166.208\n",
      "step:4000, theta0=33.667, theta1=-5.848, theta2=19.314, cost=166.208\n",
      "step:5000, theta0=33.667, theta1=-5.848, theta2=19.314, cost=166.208\n",
      "step:6000, theta0=33.667, theta1=-5.848, theta2=19.314, cost=166.208\n",
      "step:7000, theta0=33.667, theta1=-5.848, theta2=19.314, cost=166.208\n",
      "step:8000, theta0=33.667, theta1=-5.848, theta2=19.314, cost=166.208\n",
      "step:9000, theta0=33.667, theta1=-5.848, theta2=19.314, cost=166.208\n",
      "step:10000, theta0=33.667, theta1=-5.848, theta2=19.314, cost=166.208\n",
      "step:11000, theta0=33.667, theta1=-5.848, theta2=19.314, cost=166.208\n",
      "step:12000, theta0=33.667, theta1=-5.848, theta2=19.314, cost=166.208\n",
      "step:13000, theta0=33.667, theta1=-5.848, theta2=19.314, cost=166.208\n",
      "step:14000, theta0=33.667, theta1=-5.848, theta2=19.314, cost=166.208\n",
      "step:15000, theta0=33.667, theta1=-5.848, theta2=19.314, cost=166.208\n",
      "step:16000, theta0=33.667, theta1=-5.848, theta2=19.314, cost=166.208\n",
      "step:17000, theta0=33.667, theta1=-5.848, theta2=19.314, cost=166.208\n",
      "step:18000, theta0=33.667, theta1=-5.848, theta2=19.314, cost=166.208\n",
      "step:19000, theta0=33.667, theta1=-5.848, theta2=19.314, cost=166.208\n",
      "step:20000, theta0=33.667, theta1=-5.848, theta2=19.314, cost=166.208\n",
      "step:21000, theta0=33.667, theta1=-5.848, theta2=19.314, cost=166.208\n",
      "step:22000, theta0=33.667, theta1=-5.848, theta2=19.314, cost=166.208\n",
      "step:23000, theta0=33.667, theta1=-5.848, theta2=19.314, cost=166.208\n",
      "step:24000, theta0=33.667, theta1=-5.848, theta2=19.314, cost=166.208\n",
      "step:25000, theta0=33.667, theta1=-5.848, theta2=19.314, cost=166.208\n",
      "step:26000, theta0=33.667, theta1=-5.848, theta2=19.314, cost=166.208\n",
      "step:27000, theta0=33.667, theta1=-5.848, theta2=19.314, cost=166.208\n",
      "step:28000, theta0=33.667, theta1=-5.848, theta2=19.314, cost=166.208\n",
      "step:29000, theta0=33.667, theta1=-5.848, theta2=19.314, cost=166.208\n"
     ]
    },
    {
     "name": "stderr",
     "output_type": "stream",
     "text": [
      "/Users/80151/anaconda3/lib/python3.6/site-packages/matplotlib/cbook/__init__.py:2446: UserWarning: Saw kwargs ['c', 'color'] which are all aliases for 'color'.  Kept value from 'color'\n",
      "  seen=seen, canon=canonical, used=seen[-1]))\n",
      "/Users/80151/anaconda3/lib/python3.6/site-packages/matplotlib/cbook/__init__.py:2446: UserWarning: Saw kwargs ['c', 'color'] which are all aliases for 'color'.  Kept value from 'color'\n",
      "  seen=seen, canon=canonical, used=seen[-1]))\n"
     ]
    },
    {
     "data": {
      "image/png": "[encoded data removed]",
      "text/plain": [
       "<Figure size 432x432 with 1 Axes>"
      ]
     },
     "metadata": {},
     "output_type": "display_data"
    }
   ],
   "source": [
    "X = tf.placeholder(name='X', dtype=tf.float32, shape=[None, n_features])\n",
    "Y = tf.placeholder(name='Y', dtype=tf.float32, shape=[None, 1])\n",
    "\n",
    "thetas = tf.Variable(np.zeros(shape=(n_features, 1)), dtype=tf.float32, name='thetas')\n",
    "theta0 = tf.Variable(0.0, name='theta0')\n",
    "\n",
    "y_pred = tf.matmul(X, thetas) + theta0\n",
    "\n",
    "cost_function = (1.0 / (2.0*n_instances)) * tf.reduce_sum(tf.pow((y_pred - Y), 2))\n",
    "\n",
    "optimizer = tf.train.GradientDescentOptimizer(learning_rate=0.3).minimize(cost_function)\n",
    "\n",
    "X_train_scaled = (X_train - X_train.mean()) / X_train.std()\n",
    "scaled_X_train_feed_dict = {\n",
    "    X : X_train_scaled.values,\n",
    "    Y : Y_train.values.reshape(-1, 1)\n",
    "}\n",
    "\n",
    "with tf.Session() as sess:\n",
    "    sess.run(tf.global_variables_initializer())\n",
    "    \n",
    "    for step in range(30000):\n",
    "        sess.run(optimizer, scaled_X_train_feed_dict)\n",
    "        \n",
    "        if(step % 1000 == 0):\n",
    "            tts = sess.run(thetas)\n",
    "            tt0 = sess.run(theta0)\n",
    "            cost = sess.run(cost_function, scaled_X_train_feed_dict)\n",
    "            print(f\"step:{step}, theta0={tt0:.3f}, theta1={tts[0][0]:.3f}, theta2={tts[1][0]:.3f}, cost={cost:.3f}\")\n",
    "            \n",
    "    plt.figure(figsize=(6,6))\n",
    "    sns.scatterplot(data['X'], data['Y'])\n",
    "    sns.lineplot(data['X'], sess.run(y_pred, scaled_X_train_feed_dict).flatten(), c='r')\n",
    "    plt.show()"
   ]
  },
  {
   "cell_type": "code",
   "execution_count": null,
   "metadata": {},
   "outputs": [],
   "source": []
  }
 ],
 "metadata": {
  "kernelspec": {
   "display_name": "Python 3",
   "language": "python",
   "name": "python3"
  },
  "language_info": {
   "codemirror_mode": {
    "name": "ipython",
    "version": 3
   },
   "file_extension": ".py",
   "mimetype": "text/x-python",
   "name": "python",
   "nbconvert_exporter": "python",
   "pygments_lexer": "ipython3",
   "version": "3.6.6"
  }
 },
 "nbformat": 4,
 "nbformat_minor": 2
}
