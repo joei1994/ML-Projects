{
 "cells": [
  {
   "cell_type": "code",
   "execution_count": 1,
   "metadata": {},
   "outputs": [],
   "source": [
    "import numpy as np\n",
    "import tensorflow as tf\n",
    "import matplotlib \n",
    "from matplotlib import pyplot as plt\n",
    "from __future__ import division\n",
    "import seaborn as sns\n",
    "import pandas as pd"
   ]
  },
  {
   "cell_type": "code",
   "execution_count": 2,
   "metadata": {},
   "outputs": [
    {
     "name": "stdout",
     "output_type": "stream",
     "text": [
      "*** No CODEPAGE record, no encoding_override: will use 'ascii'\n"
     ]
    }
   ],
   "source": [
    "data = pd.read_excel(\"../data/fire_theft.xls\")\n",
    "m = len(data)\n",
    "n_features = 1"
   ]
  },
  {
   "cell_type": "code",
   "execution_count": 3,
   "metadata": {},
   "outputs": [
    {
     "data": {
      "text/html": [
       "<div>\n",
       "<style scoped>\n",
       "    .dataframe tbody tr th:only-of-type {\n",
       "        vertical-align: middle;\n",
       "    }\n",
       "\n",
       "    .dataframe tbody tr th {\n",
       "        vertical-align: top;\n",
       "    }\n",
       "\n",
       "    .dataframe thead th {\n",
       "        text-align: right;\n",
       "    }\n",
       "</style>\n",
       "<table border=\"1\" class=\"dataframe\">\n",
       "  <thead>\n",
       "    <tr style=\"text-align: right;\">\n",
       "      <th></th>\n",
       "      <th>X</th>\n",
       "      <th>Y</th>\n",
       "    </tr>\n",
       "  </thead>\n",
       "  <tbody>\n",
       "    <tr>\n",
       "      <th>0</th>\n",
       "      <td>6.2</td>\n",
       "      <td>29</td>\n",
       "    </tr>\n",
       "    <tr>\n",
       "      <th>1</th>\n",
       "      <td>9.5</td>\n",
       "      <td>44</td>\n",
       "    </tr>\n",
       "    <tr>\n",
       "      <th>2</th>\n",
       "      <td>10.5</td>\n",
       "      <td>36</td>\n",
       "    </tr>\n",
       "    <tr>\n",
       "      <th>3</th>\n",
       "      <td>7.7</td>\n",
       "      <td>37</td>\n",
       "    </tr>\n",
       "    <tr>\n",
       "      <th>4</th>\n",
       "      <td>8.6</td>\n",
       "      <td>53</td>\n",
       "    </tr>\n",
       "  </tbody>\n",
       "</table>\n",
       "</div>"
      ],
      "text/plain": [
       "      X   Y\n",
       "0   6.2  29\n",
       "1   9.5  44\n",
       "2  10.5  36\n",
       "3   7.7  37\n",
       "4   8.6  53"
      ]
     },
     "execution_count": 3,
     "metadata": {},
     "output_type": "execute_result"
    }
   ],
   "source": [
    "data.head()"
   ]
  },
  {
   "cell_type": "markdown",
   "metadata": {},
   "source": [
    "### Train LinearRegression model using Batch GD"
   ]
  },
  {
   "cell_type": "code",
   "execution_count": 8,
   "metadata": {},
   "outputs": [
    {
     "name": "stdout",
     "output_type": "stream",
     "text": [
      "step0, theta0=0.003, theta1=0.055, cost=796.161\n",
      "step2000, theta0=1.285, theta1=2.105, cost=225.030\n",
      "step4000, theta0=2.378, theta1=2.050, cost=219.036\n",
      "step6000, theta0=3.395, theta1=1.999, cost=213.847\n",
      "step8000, theta0=4.342, theta1=1.951, cost=209.355\n",
      "step10000, theta0=5.222, theta1=1.906, cost=205.467\n",
      "step12000, theta0=6.041, theta1=1.865, cost=202.101\n",
      "step14000, theta0=6.804, theta1=1.827, cost=199.187\n",
      "step16000, theta0=7.513, theta1=1.791, cost=196.664\n",
      "step18000, theta0=8.173, theta1=1.758, cost=194.481\n",
      "step20000, theta0=8.787, theta1=1.727, cost=192.591\n",
      "step22000, theta0=9.358, theta1=1.698, cost=190.954\n",
      "step24000, theta0=9.889, theta1=1.671, cost=189.538\n",
      "step26000, theta0=10.384, theta1=1.646, cost=188.312\n",
      "step28000, theta0=10.844, theta1=1.623, cost=187.250\n",
      "step30000, theta0=11.272, theta1=1.602, cost=186.331\n",
      "step32000, theta0=11.670, theta1=1.582, cost=185.536\n",
      "step34000, theta0=12.041, theta1=1.563, cost=184.847\n",
      "step36000, theta0=12.386, theta1=1.546, cost=184.251\n",
      "step38000, theta0=12.706, theta1=1.529, cost=183.735\n",
      "step40000, theta0=13.005, theta1=1.514, cost=183.289\n",
      "step42000, theta0=13.283, theta1=1.500, cost=182.902\n",
      "step44000, theta0=13.541, theta1=1.487, cost=182.567\n",
      "step46000, theta0=13.781, theta1=1.475, cost=182.277\n",
      "step48000, theta0=14.005, theta1=1.464, cost=182.027\n",
      "step50000, theta0=14.213, theta1=1.454, cost=181.809\n",
      "step52000, theta0=14.407, theta1=1.444, cost=181.621\n",
      "step54000, theta0=14.587, theta1=1.435, cost=181.459\n",
      "step56000, theta0=14.754, theta1=1.426, cost=181.318\n",
      "step58000, theta0=14.910, theta1=1.418, cost=181.196\n",
      "step60000, theta0=15.055, theta1=1.411, cost=181.090\n",
      "step62000, theta0=15.190, theta1=1.404, cost=180.999\n",
      "step64000, theta0=15.316, theta1=1.398, cost=180.920\n",
      "step66000, theta0=15.433, theta1=1.392, cost=180.851\n",
      "step68000, theta0=15.542, theta1=1.387, cost=180.792\n",
      "step70000, theta0=15.643, theta1=1.382, cost=180.741\n",
      "step72000, theta0=15.737, theta1=1.377, cost=180.696\n",
      "step74000, theta0=15.824, theta1=1.372, cost=180.658\n",
      "step76000, theta0=15.906, theta1=1.368, cost=180.625\n",
      "step78000, theta0=15.982, theta1=1.365, cost=180.596\n",
      "step80000, theta0=16.052, theta1=1.361, cost=180.571\n",
      "step82000, theta0=16.118, theta1=1.358, cost=180.549\n",
      "step84000, theta0=16.179, theta1=1.355, cost=180.530\n",
      "step86000, theta0=16.236, theta1=1.352, cost=180.514\n",
      "step88000, theta0=16.289, theta1=1.349, cost=180.500\n",
      "step90000, theta0=16.338, theta1=1.347, cost=180.488\n",
      "step92000, theta0=16.384, theta1=1.344, cost=180.478\n",
      "step94000, theta0=16.426, theta1=1.342, cost=180.469\n",
      "step96000, theta0=16.465, theta1=1.340, cost=180.461\n",
      "step98000, theta0=16.502, theta1=1.338, cost=180.454\n"
     ]
    },
    {
     "name": "stderr",
     "output_type": "stream",
     "text": [
      "/Users/80151/anaconda3/lib/python3.6/site-packages/matplotlib/cbook/__init__.py:2446: UserWarning: Saw kwargs ['c', 'color'] which are all aliases for 'color'.  Kept value from 'color'\n",
      "  seen=seen, canon=canonical, used=seen[-1]))\n",
      "/Users/80151/anaconda3/lib/python3.6/site-packages/matplotlib/cbook/__init__.py:2446: UserWarning: Saw kwargs ['c', 'color'] which are all aliases for 'color'.  Kept value from 'color'\n",
      "  seen=seen, canon=canonical, used=seen[-1]))\n"
     ]
    },
    {
     "data": {
      "image/png": "[encoded data removed]",
      "text/plain": [
       "<Figure size 432x432 with 1 Axes>"
      ]
     },
     "metadata": {},
     "output_type": "display_data"
    }
   ],
   "source": [
    "X = tf.placeholder(name='X', dtype=tf.float32, shape=[None, n_features])\n",
    "Y = tf.placeholder(name='Y', dtype=tf.float32, shape=[None, 1])\n",
    "\n",
    "theta0 = tf.Variable(0.0, name='theta0')\n",
    "theta1 = tf.Variable(0.0, name='theta1')\n",
    "\n",
    "y_pred = theta0 + theta1 * X\n",
    "\n",
    "cost_function = (1.0/(2.0*m))*(tf.reduce_sum(tf.pow(y_pred - Y, 2)))\n",
    "cost_summary = tf.summary.scalar(tensor=cost_function, name='cost_summary')\n",
    "\n",
    "optimizer = tf.train.GradientDescentOptimizer(learning_rate=0.0001).minimize(cost_function)\n",
    "feed_dict = {\n",
    "    X : data['X'].values.reshape(-1, 1),\n",
    "    Y : data['Y'].values.reshape(-1, 1)\n",
    "}\n",
    "\n",
    "with tf.Session() as sess:\n",
    "    writer = tf.summary.FileWriter('./graphs/lab_problem1/cost_summary')\n",
    "    \n",
    "    sess.run(tf.global_variables_initializer())\n",
    "    \n",
    "    total_step = 100000\n",
    "    for step in range(total_step):\n",
    "        sess.run(optimizer, feed_dict)\n",
    "        \n",
    "        summary = sess.run(cost_summary, feed_dict)\n",
    "        writer.add_summary(summary, step)\n",
    "        \n",
    "        if(step % 2000 == 0):\n",
    "            tt0 = sess.run(theta0)\n",
    "            tt1 = sess.run(theta1)\n",
    "            cost = sess.run(cost_function, feed_dict)\n",
    "            print(f\"step{step}, theta0={tt0:.3f}, theta1={tt1:.3f}, cost={cost:.3f}\")\n",
    "    \n",
    "    plt.figure(figsize=(6,6))\n",
    "    sns.scatterplot(data=data, x='X', y='Y')\n",
    "    sns.lineplot(data['X'], y=sess.run(y_pred, feed_dict).flatten(), c='r')"
   ]
  },
  {
   "cell_type": "code",
   "execution_count": null,
   "metadata": {},
   "outputs": [],
   "source": []
  }
 ],
 "metadata": {
  "kernelspec": {
   "display_name": "Python 3",
   "language": "python",
   "name": "python3"
  },
  "language_info": {
   "codemirror_mode": {
    "name": "ipython",
    "version": 3
   },
   "file_extension": ".py",
   "mimetype": "text/x-python",
   "name": "python",
   "nbconvert_exporter": "python",
   "pygments_lexer": "ipython3",
   "version": "3.6.6"
  }
 },
 "nbformat": 4,
 "nbformat_minor": 2
}
