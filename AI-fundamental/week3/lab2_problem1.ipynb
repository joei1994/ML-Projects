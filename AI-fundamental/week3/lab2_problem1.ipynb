{
 "cells": [
  {
   "cell_type": "code",
   "execution_count": 1,
   "metadata": {},
   "outputs": [],
   "source": [
    "#cost = 180.41008, theta0 = 16.9925, theta1 = 1.342\n",
    "import tensorflow as tf\n",
    "import numpy as np\n",
    "import pandas as pd\n",
    "from __future__ import division"
   ]
  },
  {
   "cell_type": "code",
   "execution_count": 2,
   "metadata": {},
   "outputs": [
    {
     "name": "stdout",
     "output_type": "stream",
     "text": [
      "*** No CODEPAGE record, no encoding_override: will use 'ascii'\n"
     ]
    }
   ],
   "source": [
    "df = pd.read_excel('./data/fire_theft.xls')"
   ]
  },
  {
   "cell_type": "code",
   "execution_count": 3,
   "metadata": {},
   "outputs": [
    {
     "data": {
      "text/html": [
       "<div>\n",
       "<style scoped>\n",
       "    .dataframe tbody tr th:only-of-type {\n",
       "        vertical-align: middle;\n",
       "    }\n",
       "\n",
       "    .dataframe tbody tr th {\n",
       "        vertical-align: top;\n",
       "    }\n",
       "\n",
       "    .dataframe thead th {\n",
       "        text-align: right;\n",
       "    }\n",
       "</style>\n",
       "<table border=\"1\" class=\"dataframe\">\n",
       "  <thead>\n",
       "    <tr style=\"text-align: right;\">\n",
       "      <th></th>\n",
       "      <th>X</th>\n",
       "      <th>Y</th>\n",
       "    </tr>\n",
       "  </thead>\n",
       "  <tbody>\n",
       "    <tr>\n",
       "      <th>0</th>\n",
       "      <td>6.2</td>\n",
       "      <td>29</td>\n",
       "    </tr>\n",
       "    <tr>\n",
       "      <th>1</th>\n",
       "      <td>9.5</td>\n",
       "      <td>44</td>\n",
       "    </tr>\n",
       "    <tr>\n",
       "      <th>2</th>\n",
       "      <td>10.5</td>\n",
       "      <td>36</td>\n",
       "    </tr>\n",
       "    <tr>\n",
       "      <th>3</th>\n",
       "      <td>7.7</td>\n",
       "      <td>37</td>\n",
       "    </tr>\n",
       "    <tr>\n",
       "      <th>4</th>\n",
       "      <td>8.6</td>\n",
       "      <td>53</td>\n",
       "    </tr>\n",
       "  </tbody>\n",
       "</table>\n",
       "</div>"
      ],
      "text/plain": [
       "      X   Y\n",
       "0   6.2  29\n",
       "1   9.5  44\n",
       "2  10.5  36\n",
       "3   7.7  37\n",
       "4   8.6  53"
      ]
     },
     "execution_count": 3,
     "metadata": {},
     "output_type": "execute_result"
    }
   ],
   "source": [
    "df.head()"
   ]
  },
  {
   "cell_type": "code",
   "execution_count": 4,
   "metadata": {},
   "outputs": [
    {
     "name": "stdout",
     "output_type": "stream",
     "text": [
      "[-inf -inf -inf -inf -inf -inf -inf -inf -inf -inf -inf -inf -inf -inf\n",
      " -inf -inf -inf -inf -inf -inf -inf -inf -inf -inf -inf -inf -inf -inf\n",
      " -inf -inf -inf -inf -inf -inf -inf -inf -inf -inf -inf -inf -inf -inf]\n"
     ]
    }
   ],
   "source": [
    "fires = df['X'].values\n",
    "thefts = df['Y'].values\n",
    "\n",
    "m = len(fires)\n",
    "\n",
    "X = tf.placeholder(dtype='float32', shape=(42,))\n",
    "Y = tf.placeholder(dtype='float32', shape=(42,))\n",
    "\n",
    "theta0 = tf.Variable(tf.zeros(shape=(42,), dtype='float32'), dtype='float32')\n",
    "theta1 = tf.Variable(tf.zeros(shape=(42,), dtype='float32'), dtype='float32')\n",
    "\n",
    "h = (X * theta1) + theta0\n",
    "\n",
    "loss_function = (1/(2*m)) * tf.reduce_sum((h - Y)**2)\n",
    "##loss_function = tf.multiply(tf.divide(1, 2),  tf.reduce_mean(tf.pow(h - Y, 2))) \n",
    "loss_summary = tf.summary.scalar(name='loss_function', tensor=loss_function)\n",
    "\n",
    "learning_rate = 0.001\n",
    "\n",
    "gradient_theta0 = tf.divide(tf.pow(tf.reduce_sum(h - X), 2), m)\n",
    "gradient_theta1 = tf.divide((tf.reduce_sum((h - X)**2) * X), m)\n",
    "\n",
    "theta0_update = tf.assign(theta0, theta0 - learning_rate*gradient_theta0)\n",
    "theta1_update = tf.assign(theta1, theta1 - learning_rate*gradient_theta1)\n",
    "\n",
    "\n",
    "with tf.Session() as sess:\n",
    "    sess.run(tf.global_variables_initializer())\n",
    "    for step in range(100):\n",
    "        writer = tf.summary.FileWriter('./graphs', sess.graph)   \n",
    "        sess.run(theta0_update, { X: fires.tolist(), Y: thefts.tolist() })\n",
    "        sess.run(theta1_update, { X: fires.tolist(), Y: thefts.tolist() })\n",
    "        summary = sess.run(loss_summary, { X: fires.tolist(), Y: thefts.tolist() })\n",
    "        writer.add_summary(summary, step)\n",
    "    print(theta0.eval())\n",
    "    #print(theta1.eval())"
   ]
  },
  {
   "cell_type": "code",
   "execution_count": null,
   "metadata": {},
   "outputs": [],
   "source": []
  }
 ],
 "metadata": {
  "kernelspec": {
   "display_name": "Python 3",
   "language": "python",
   "name": "python3"
  },
  "language_info": {
   "codemirror_mode": {
    "name": "ipython",
    "version": 3
   },
   "file_extension": ".py",
   "mimetype": "text/x-python",
   "name": "python",
   "nbconvert_exporter": "python",
   "pygments_lexer": "ipython3",
   "version": "3.6.6"
  }
 },
 "nbformat": 4,
 "nbformat_minor": 2
}
