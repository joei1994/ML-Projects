{
 "cells": [
  {
   "cell_type": "code",
   "execution_count": 1,
   "metadata": {},
   "outputs": [],
   "source": [
    "import pandas as pd\n",
    "import numpy as np\n",
    "import matplotlib.pyplot as plt\n",
    "import seaborn as sns\n",
    "%matplotlib inline"
   ]
  },
  {
   "cell_type": "code",
   "execution_count": 3,
   "metadata": {},
   "outputs": [],
   "source": [
    "priceZone = pd.read_csv('dataset/price_zone.csv')"
   ]
  },
  {
   "cell_type": "code",
   "execution_count": 7,
   "metadata": {
    "scrolled": true
   },
   "outputs": [
    {
     "name": "stdout",
     "output_type": "stream",
     "text": [
      "<class 'pandas.core.frame.DataFrame'>\n",
      "RangeIndex: 999 entries, 0 to 998\n",
      "Data columns (total 6 columns):\n",
      "store                      999 non-null object\n",
      "avg_weekly_sales           999 non-null int64\n",
      "price_elasticity           999 non-null float64\n",
      "median_household_income    999 non-null int64\n",
      "avg_weekly_txn             999 non-null float64\n",
      "avg_unit_retail            999 non-null float64\n",
      "dtypes: float64(3), int64(2), object(1)\n",
      "memory usage: 46.9+ KB\n"
     ]
    }
   ],
   "source": [
    "priceZone.info()"
   ]
  },
  {
   "cell_type": "code",
   "execution_count": 4,
   "metadata": {},
   "outputs": [
    {
     "data": {
      "text/html": [
       "<div>\n",
       "<style scoped>\n",
       "    .dataframe tbody tr th:only-of-type {\n",
       "        vertical-align: middle;\n",
       "    }\n",
       "\n",
       "    .dataframe tbody tr th {\n",
       "        vertical-align: top;\n",
       "    }\n",
       "\n",
       "    .dataframe thead th {\n",
       "        text-align: right;\n",
       "    }\n",
       "</style>\n",
       "<table border=\"1\" class=\"dataframe\">\n",
       "  <thead>\n",
       "    <tr style=\"text-align: right;\">\n",
       "      <th></th>\n",
       "      <th>store</th>\n",
       "      <th>avg_weekly_sales</th>\n",
       "      <th>price_elasticity</th>\n",
       "      <th>median_household_income</th>\n",
       "      <th>avg_weekly_txn</th>\n",
       "      <th>avg_unit_retail</th>\n",
       "    </tr>\n",
       "  </thead>\n",
       "  <tbody>\n",
       "    <tr>\n",
       "      <th>0</th>\n",
       "      <td>s1001</td>\n",
       "      <td>12293</td>\n",
       "      <td>-3.25</td>\n",
       "      <td>113848</td>\n",
       "      <td>585.380952</td>\n",
       "      <td>8.74</td>\n",
       "    </tr>\n",
       "    <tr>\n",
       "      <th>1</th>\n",
       "      <td>s1002</td>\n",
       "      <td>24606</td>\n",
       "      <td>-2.04</td>\n",
       "      <td>67687</td>\n",
       "      <td>984.240000</td>\n",
       "      <td>14.75</td>\n",
       "    </tr>\n",
       "    <tr>\n",
       "      <th>2</th>\n",
       "      <td>s1003</td>\n",
       "      <td>66042</td>\n",
       "      <td>-3.68</td>\n",
       "      <td>110448</td>\n",
       "      <td>7338.000000</td>\n",
       "      <td>11.55</td>\n",
       "    </tr>\n",
       "    <tr>\n",
       "      <th>3</th>\n",
       "      <td>s1004</td>\n",
       "      <td>64912</td>\n",
       "      <td>-2.48</td>\n",
       "      <td>39508</td>\n",
       "      <td>2704.666667</td>\n",
       "      <td>5.49</td>\n",
       "    </tr>\n",
       "    <tr>\n",
       "      <th>4</th>\n",
       "      <td>s1005</td>\n",
       "      <td>152239</td>\n",
       "      <td>-1.39</td>\n",
       "      <td>73039</td>\n",
       "      <td>15223.900000</td>\n",
       "      <td>8.93</td>\n",
       "    </tr>\n",
       "  </tbody>\n",
       "</table>\n",
       "</div>"
      ],
      "text/plain": [
       "   store  avg_weekly_sales  price_elasticity  median_household_income  \\\n",
       "0  s1001             12293             -3.25                   113848   \n",
       "1  s1002             24606             -2.04                    67687   \n",
       "2  s1003             66042             -3.68                   110448   \n",
       "3  s1004             64912             -2.48                    39508   \n",
       "4  s1005            152239             -1.39                    73039   \n",
       "\n",
       "   avg_weekly_txn  avg_unit_retail  \n",
       "0      585.380952             8.74  \n",
       "1      984.240000            14.75  \n",
       "2     7338.000000            11.55  \n",
       "3     2704.666667             5.49  \n",
       "4    15223.900000             8.93  "
      ]
     },
     "execution_count": 4,
     "metadata": {},
     "output_type": "execute_result"
    }
   ],
   "source": [
    "priceZone.head()"
   ]
  },
  {
   "cell_type": "code",
   "execution_count": 6,
   "metadata": {},
   "outputs": [
    {
     "data": {
      "text/html": [
       "<div>\n",
       "<style scoped>\n",
       "    .dataframe tbody tr th:only-of-type {\n",
       "        vertical-align: middle;\n",
       "    }\n",
       "\n",
       "    .dataframe tbody tr th {\n",
       "        vertical-align: top;\n",
       "    }\n",
       "\n",
       "    .dataframe thead th {\n",
       "        text-align: right;\n",
       "    }\n",
       "</style>\n",
       "<table border=\"1\" class=\"dataframe\">\n",
       "  <thead>\n",
       "    <tr style=\"text-align: right;\">\n",
       "      <th></th>\n",
       "      <th>avg_weekly_sales</th>\n",
       "      <th>price_elasticity</th>\n",
       "      <th>median_household_income</th>\n",
       "      <th>avg_weekly_txn</th>\n",
       "      <th>avg_unit_retail</th>\n",
       "    </tr>\n",
       "  </thead>\n",
       "  <tbody>\n",
       "    <tr>\n",
       "      <th>count</th>\n",
       "      <td>999.000000</td>\n",
       "      <td>999.000000</td>\n",
       "      <td>999.000000</td>\n",
       "      <td>999.000000</td>\n",
       "      <td>999.000000</td>\n",
       "    </tr>\n",
       "    <tr>\n",
       "      <th>mean</th>\n",
       "      <td>104166.528529</td>\n",
       "      <td>-2.623994</td>\n",
       "      <td>87370.028028</td>\n",
       "      <td>8365.742307</td>\n",
       "      <td>8.921802</td>\n",
       "    </tr>\n",
       "    <tr>\n",
       "      <th>std</th>\n",
       "      <td>55788.861500</td>\n",
       "      <td>0.799776</td>\n",
       "      <td>35578.135917</td>\n",
       "      <td>6702.604205</td>\n",
       "      <td>3.520830</td>\n",
       "    </tr>\n",
       "    <tr>\n",
       "      <th>min</th>\n",
       "      <td>10290.000000</td>\n",
       "      <td>-4.000000</td>\n",
       "      <td>25110.000000</td>\n",
       "      <td>414.720000</td>\n",
       "      <td>3.000000</td>\n",
       "    </tr>\n",
       "    <tr>\n",
       "      <th>25%</th>\n",
       "      <td>54387.500000</td>\n",
       "      <td>-3.300000</td>\n",
       "      <td>56908.500000</td>\n",
       "      <td>3668.365080</td>\n",
       "      <td>5.710000</td>\n",
       "    </tr>\n",
       "    <tr>\n",
       "      <th>50%</th>\n",
       "      <td>104843.000000</td>\n",
       "      <td>-2.620000</td>\n",
       "      <td>85138.000000</td>\n",
       "      <td>6782.380952</td>\n",
       "      <td>8.990000</td>\n",
       "    </tr>\n",
       "    <tr>\n",
       "      <th>75%</th>\n",
       "      <td>152671.500000</td>\n",
       "      <td>-1.960000</td>\n",
       "      <td>117500.000000</td>\n",
       "      <td>10651.753470</td>\n",
       "      <td>11.985000</td>\n",
       "    </tr>\n",
       "    <tr>\n",
       "      <th>max</th>\n",
       "      <td>199970.000000</td>\n",
       "      <td>-1.210000</td>\n",
       "      <td>149965.000000</td>\n",
       "      <td>39291.200000</td>\n",
       "      <td>14.990000</td>\n",
       "    </tr>\n",
       "  </tbody>\n",
       "</table>\n",
       "</div>"
      ],
      "text/plain": [
       "       avg_weekly_sales  price_elasticity  median_household_income  \\\n",
       "count        999.000000        999.000000               999.000000   \n",
       "mean      104166.528529         -2.623994             87370.028028   \n",
       "std        55788.861500          0.799776             35578.135917   \n",
       "min        10290.000000         -4.000000             25110.000000   \n",
       "25%        54387.500000         -3.300000             56908.500000   \n",
       "50%       104843.000000         -2.620000             85138.000000   \n",
       "75%       152671.500000         -1.960000            117500.000000   \n",
       "max       199970.000000         -1.210000            149965.000000   \n",
       "\n",
       "       avg_weekly_txn  avg_unit_retail  \n",
       "count      999.000000       999.000000  \n",
       "mean      8365.742307         8.921802  \n",
       "std       6702.604205         3.520830  \n",
       "min        414.720000         3.000000  \n",
       "25%       3668.365080         5.710000  \n",
       "50%       6782.380952         8.990000  \n",
       "75%      10651.753470        11.985000  \n",
       "max      39291.200000        14.990000  "
      ]
     },
     "execution_count": 6,
     "metadata": {},
     "output_type": "execute_result"
    }
   ],
   "source": [
    "priceZone.describe()"
   ]
  },
  {
   "cell_type": "code",
   "execution_count": 15,
   "metadata": {},
   "outputs": [],
   "source": [
    "from sklearn.cluster import KMeans\n",
    "\n",
    "#select K\n",
    "sse = {}\n",
    "for k in range(1, 21):\n",
    "    kmeans = KMeans(n_clusters = k, max_iter = 1000).fit(priceZone.drop(columns=['store']))\n",
    "    sse[k] = kmeans.inertia_ "
   ]
  },
  {
   "cell_type": "code",
   "execution_count": 16,
   "metadata": {},
   "outputs": [
    {
     "name": "stdout",
     "output_type": "stream",
     "text": [
      "{1: 4414279487443.367, 2: 2029088130470.8276, 3: 1500089091201.636, 4: 1079279655485.1486, 5: 851770528593.8562, 6: 672778782243.1387, 7: 591320045233.5662, 8: 519259851016.5594, 9: 466036369775.7545, 10: 417985083987.0833, 11: 381468265513.47217, 12: 349208443612.62134, 13: 315478182537.07263, 14: 293126273336.2733, 15: 274548077610.29715, 16: 258510723471.00955, 17: 242671775060.1468, 18: 228353692417.5091, 19: 214669263829.11725, 20: 205394942017.40924}\n"
     ]
    }
   ],
   "source": [
    "print(sse)"
   ]
  },
  {
   "cell_type": "code",
   "execution_count": 20,
   "metadata": {
    "scrolled": true
   },
   "outputs": [
    {
     "data": {
      "text/plain": [
       "Text(0,0.5,'SSE')"
      ]
     },
     "execution_count": 20,
     "metadata": {},
     "output_type": "execute_result"
    },
    {
     "data": {
      "image/png": "[encoded data removed]",
      "text/plain": [
       "<Figure size 432x288 with 1 Axes>"
      ]
     },
     "metadata": {},
     "output_type": "display_data"
    }
   ],
   "source": [
    "plt.figure()\n",
    "plt.plot(list(sse.keys()), list(sse.values()))\n",
    "plt.xlabel(\"Number of K\")\n",
    "plt.ylabel(\"SSE\")"
   ]
  },
  {
   "cell_type": "code",
   "execution_count": null,
   "metadata": {},
   "outputs": [],
   "source": []
  }
 ],
 "metadata": {
  "kernelspec": {
   "display_name": "Python 3",
   "language": "python",
   "name": "python3"
  },
  "language_info": {
   "codemirror_mode": {
    "name": "ipython",
    "version": 3
   },
   "file_extension": ".py",
   "mimetype": "text/x-python",
   "name": "python",
   "nbconvert_exporter": "python",
   "pygments_lexer": "ipython3",
   "version": "3.6.6"
  }
 },
 "nbformat": 4,
 "nbformat_minor": 2
}
