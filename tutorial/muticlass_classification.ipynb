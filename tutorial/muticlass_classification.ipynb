{
 "cells": [
  {
   "cell_type": "code",
   "execution_count": 1,
   "metadata": {},
   "outputs": [],
   "source": [
    "#Muticlass Classification\n",
    "\n",
    "#Muticlass Classification is a classification task which has 'one target variable' \n",
    "#and that target variable can be more than 2 classes "
   ]
  },
  {
   "cell_type": "code",
   "execution_count": 2,
   "metadata": {},
   "outputs": [],
   "source": [
    "import warnings\n",
    "warnings.warn = lambda *a, **kw: False\n",
    "\n",
    "\n",
    "from scipy.io import loadmat\n",
    "import matplotlib\n",
    "import matplotlib.pyplot as plt\n",
    "import numpy as np\n",
    "mnist_raw = loadmat(\"mnist-original.mat\")\n",
    "X, Y = mnist_raw['data'].T, mnist_raw['label'].T\n",
    "x_train, y_train, x_test, y_test = X[:60000], Y[:60000], X[60000:], Y[60000:]\n",
    "\n",
    "shuffled_index = np.random.permutation(60000)\n",
    "x_train, y_train = x_train[shuffled_index], y_train[shuffled_index]\n",
    "some_digit = X[36000]"
   ]
  },
  {
   "cell_type": "code",
   "execution_count": 3,
   "metadata": {},
   "outputs": [],
   "source": [
    "#some algorithms are capable of handlingmuticlass classification directly (eg. RandomForest, Bayes classifier)\n",
    "#but some algoritms(e.g. SGDClassification) do not have that capability (they support only binary classification)\n",
    "#So, there are 2 ways to create muticlass classifier\n",
    "#1. OvA: create binary classifiers equal to the number of classes. each clf responsible for classifing each classes\n",
    "#2. OvO: create binary classifiers equal to the number of each pairs of class. each clf responsible for ditinguish between that pair of classes"
   ]
  },
  {
   "cell_type": "code",
   "execution_count": 4,
   "metadata": {},
   "outputs": [
    {
     "name": "stdout",
     "output_type": "stream",
     "text": [
      "prediction of some_digit is [5.]\n",
      "score for each classes are \n",
      "[[-113127.42918324 -500345.07500293 -296767.6902453   -96996.52231522\n",
      "  -619870.34413645  -19161.26819285 -794235.7539054  -381700.26168843\n",
      "  -711143.73098082 -485967.84129898]]\n"
     ]
    }
   ],
   "source": [
    "#create muticlassifier using SGDClassifier\n",
    "from sklearn.linear_model import SGDClassifier\n",
    "sgd_clf = SGDClassifier(random_state=42)\n",
    "sgd_clf.fit(x_train, y_train)\n",
    "\n",
    "print(\"prediction of some_digit is\", sgd_clf.predict([some_digit]))\n",
    "\n",
    "\n",
    "#you can look at the decision score of each classifier\n",
    "#and the highest score is corresponding to class 5\n",
    "print (\"score for each classes are \")\n",
    "print (sgd_clf.decision_function([some_digit]))"
   ]
  },
  {
   "cell_type": "code",
   "execution_count": 9,
   "metadata": {},
   "outputs": [
    {
     "name": "stdout",
     "output_type": "stream",
     "text": [
      "prediction of some_digit\n",
      "number of classifier 45\n",
      "decision scores are\n"
     ]
    },
    {
     "data": {
      "text/plain": [
       "array([[7.26692917, 2.89703187, 3.9651707 , 8.33291076, 4.90291258,\n",
       "        9.5       , 0.61072833, 3.94081462, 1.75760668, 1.82589529]])"
      ]
     },
     "execution_count": 9,
     "metadata": {},
     "output_type": "execute_result"
    }
   ],
   "source": [
    "#try OvO method\n",
    "from sklearn.multiclass import OneVsOneClassifier\n",
    "ovo_clf = OneVsOneClassifier(SGDClassifier(random_state=42))\n",
    "ovo_clf.fit(x_train, y_train)\n",
    "\n",
    "print (\"prediction of some_digit\")\n",
    "ovo_clf.predict([some_digit])\n",
    "print (\"number of classifier\", len(ovo_clf.estimators_))"
   ]
  },
  {
   "cell_type": "code",
   "execution_count": 12,
   "metadata": {},
   "outputs": [
    {
     "data": {
      "text/plain": [
       "array([5.])"
      ]
     },
     "execution_count": 12,
     "metadata": {},
     "output_type": "execute_result"
    }
   ],
   "source": [
    "#try RandomForest which can handle muticlass directly\n",
    "from sklearn.ensemble import RandomForestClassifier\n",
    "forest_clf = RandomForestClassifier(random_state=42)\n",
    "forest_clf.fit(x_train, y_train)\n",
    "\n",
    "forest_clf.predict([some_digit])"
   ]
  },
  {
   "cell_type": "code",
   "execution_count": 13,
   "metadata": {},
   "outputs": [
    {
     "data": {
      "text/plain": [
       "array([[0. , 0. , 0. , 0. , 0. , 0.9, 0. , 0.1, 0. , 0. ]])"
      ]
     },
     "execution_count": 13,
     "metadata": {},
     "output_type": "execute_result"
    }
   ],
   "source": [
    "forest_clf.predict_proba([some_digit])"
   ]
  },
  {
   "cell_type": "code",
   "execution_count": 15,
   "metadata": {},
   "outputs": [
    {
     "data": {
      "text/plain": [
       "array([0.87227554, 0.86719336, 0.88293244])"
      ]
     },
     "execution_count": 15,
     "metadata": {},
     "output_type": "execute_result"
    }
   ],
   "source": [
    "#next, try to evaluate model performance using cross-validation\n",
    "from sklearn.model_selection import cross_val_score\n",
    "sgd_accuracy_scores = cross_val_score(SGDClassifier(random_state=42), x_train, y_train, cv=3, scoring='accuracy')\n",
    "sgd_accuracy_scores\n",
    "#you can use accuracy as measurement metric because the number of instances for each classes are balance"
   ]
  },
  {
   "cell_type": "code",
   "execution_count": 17,
   "metadata": {},
   "outputs": [
    {
     "data": {
      "text/plain": [
       "array([0.90866827, 0.90744537, 0.91038656])"
      ]
     },
     "execution_count": 17,
     "metadata": {},
     "output_type": "execute_result"
    }
   ],
   "source": [
    "#improve SGDClassifer using Feature Scaling\n",
    "from sklearn.preprocessing import StandardScaler\n",
    "scaler = StandardScaler()\n",
    "x_train_scaled = scaler.fit_transform(x_train.astype(np.float64))\n",
    "sgd_scaledfeature_accuracy_scores = cross_val_score(SGDClassifier(random_state=42), x_train_scaled, y_train, cv=3, scoring='accuracy')\n",
    "sgd_scaledfeature_accuracy_scores"
   ]
  },
  {
   "cell_type": "code",
   "execution_count": null,
   "metadata": {},
   "outputs": [],
   "source": [
    "#the results are better because of feature scaling"
   ]
  }
 ],
 "metadata": {
  "kernelspec": {
   "display_name": "Python 3",
   "language": "python",
   "name": "python3"
  },
  "language_info": {
   "codemirror_mode": {
    "name": "ipython",
    "version": 3
   },
   "file_extension": ".py",
   "mimetype": "text/x-python",
   "name": "python",
   "nbconvert_exporter": "python",
   "pygments_lexer": "ipython3",
   "version": "3.6.6"
  }
 },
 "nbformat": 4,
 "nbformat_minor": 2
}
