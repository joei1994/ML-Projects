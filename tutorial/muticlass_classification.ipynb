{
 "cells": [
  {
   "cell_type": "code",
   "execution_count": 1,
   "metadata": {},
   "outputs": [],
   "source": [
    "#Muticlass Classification\n",
    "\n",
    "#Muticlass Classification is a classification task which has 'one target variable' \n",
    "#and that target variable can be more than 2 classes "
   ]
  },
  {
   "cell_type": "code",
   "execution_count": 2,
   "metadata": {},
   "outputs": [],
   "source": [
    "import warnings\n",
    "warnings.warn = lambda *a, **kw: False\n",
    "\n",
    "\n",
    "from scipy.io import loadmat\n",
    "import matplotlib\n",
    "import matplotlib.pyplot as plt\n",
    "import numpy as np\n",
    "mnist_raw = loadmat(\"mnist-original.mat\")\n",
    "X, Y = mnist_raw['data'].T, mnist_raw['label'].T\n",
    "x_train, y_train, x_test, y_test = X[:60000], Y[:60000], X[60000:], Y[60000:]\n",
    "\n",
    "shuffled_index = np.random.permutation(60000)\n",
    "x_train, y_train = x_train[shuffled_index], y_train[shuffled_index]\n",
    "some_digit = X[36000]"
   ]
  },
  {
   "cell_type": "code",
   "execution_count": 3,
   "metadata": {},
   "outputs": [],
   "source": [
    "#some algorithms are capable of handlingmuticlass classification directly (eg. RandomForest, Bayes classifier)\n",
    "#but some algoritms(e.g. SGDClassification) do not have that capability (they support only binary classification)\n",
    "#So, there are 2 ways to create muticlass classifier\n",
    "#1. OvA: create binary classifiers equal to the number of classes. each clf responsible for classifing each classes\n",
    "#2. OvO: create binary classifiers equal to the number of each pairs of class. each clf responsible for ditinguish between that pair of classes"
   ]
  },
  {
   "cell_type": "code",
   "execution_count": 4,
   "metadata": {},
   "outputs": [
    {
     "name": "stdout",
     "output_type": "stream",
     "text": [
      "prediction of some_digit is [5.]\n",
      "score for each classes are \n",
      "[[-153923.52198922 -486644.46688679 -286498.2168477  -340845.58722146\n",
      "  -693257.44696948  125901.14430063 -749653.08619951 -302342.38634504\n",
      "  -751804.14744068 -582870.20328762]]\n"
     ]
    }
   ],
   "source": [
    "#create muticlassifier using SGDClassifier\n",
    "from sklearn.linear_model import SGDClassifier\n",
    "sgd_clf = SGDClassifier(random_state=42)\n",
    "sgd_clf.fit(x_train, y_train)\n",
    "\n",
    "print(\"prediction of some_digit is\", sgd_clf.predict([some_digit]))\n",
    "\n",
    "\n",
    "#you can look at the decision score of each classifier\n",
    "#and the highest score is corresponding to class 5\n",
    "print (\"score for each classes are \")\n",
    "print (sgd_clf.decision_function([some_digit]))"
   ]
  },
  {
   "cell_type": "code",
   "execution_count": 5,
   "metadata": {},
   "outputs": [
    {
     "name": "stdout",
     "output_type": "stream",
     "text": [
      "prediction of some_digit\n",
      "number of classifier 45\n"
     ]
    }
   ],
   "source": [
    "#try OvO method\n",
    "from sklearn.multiclass import OneVsOneClassifier\n",
    "ovo_clf = OneVsOneClassifier(SGDClassifier(random_state=42))\n",
    "ovo_clf.fit(x_train, y_train)\n",
    "\n",
    "print (\"prediction of some_digit\")\n",
    "ovo_clf.predict([some_digit])\n",
    "print (\"number of classifier\", len(ovo_clf.estimators_))"
   ]
  },
  {
   "cell_type": "code",
   "execution_count": 6,
   "metadata": {},
   "outputs": [
    {
     "data": {
      "text/plain": [
       "array([5.])"
      ]
     },
     "execution_count": 6,
     "metadata": {},
     "output_type": "execute_result"
    }
   ],
   "source": [
    "#try RandomForest which can handle muticlass directly\n",
    "from sklearn.ensemble import RandomForestClassifier\n",
    "forest_clf = RandomForestClassifier(random_state=42)\n",
    "forest_clf.fit(x_train, y_train)\n",
    "\n",
    "forest_clf.predict([some_digit])"
   ]
  },
  {
   "cell_type": "code",
   "execution_count": 7,
   "metadata": {},
   "outputs": [
    {
     "data": {
      "text/plain": [
       "array([[0.1, 0. , 0. , 0. , 0. , 0.9, 0. , 0. , 0. , 0. ]])"
      ]
     },
     "execution_count": 7,
     "metadata": {},
     "output_type": "execute_result"
    }
   ],
   "source": [
    "forest_clf.predict_proba([some_digit])"
   ]
  },
  {
   "cell_type": "code",
   "execution_count": 8,
   "metadata": {},
   "outputs": [
    {
     "data": {
      "text/plain": [
       "array([0.83193361, 0.8460923 , 0.84727709])"
      ]
     },
     "execution_count": 8,
     "metadata": {},
     "output_type": "execute_result"
    }
   ],
   "source": [
    "#next, try to evaluate model performance using cross-validation\n",
    "from sklearn.model_selection import cross_val_score\n",
    "sgd_accuracy_scores = cross_val_score(SGDClassifier(random_state=42), x_train, y_train, cv=3, scoring='accuracy')\n",
    "sgd_accuracy_scores\n",
    "#you can use accuracy as measurement metric because the number of instances for each classes are balance"
   ]
  },
  {
   "cell_type": "code",
   "execution_count": 9,
   "metadata": {},
   "outputs": [
    {
     "data": {
      "text/plain": [
       "array([0.91156769, 0.91054553, 0.9093364 ])"
      ]
     },
     "execution_count": 9,
     "metadata": {},
     "output_type": "execute_result"
    }
   ],
   "source": [
    "#improve SGDClassifer using Feature Scaling\n",
    "from sklearn.preprocessing import StandardScaler\n",
    "scaler = StandardScaler()\n",
    "x_train_scaled = scaler.fit_transform(x_train.astype(np.float64))\n",
    "sgd_scaledfeature_accuracy_scores = cross_val_score(SGDClassifier(random_state=42), x_train_scaled, y_train, cv=3, scoring='accuracy')\n",
    "sgd_scaledfeature_accuracy_scores"
   ]
  },
  {
   "cell_type": "code",
   "execution_count": 10,
   "metadata": {},
   "outputs": [],
   "source": [
    "#the results are better because of feature scaling"
   ]
  },
  {
   "cell_type": "code",
   "execution_count": 11,
   "metadata": {},
   "outputs": [
    {
     "data": {
      "text/plain": [
       "array([[5486,    1,   69,   38,   22,   58,  104,    9,  116,   20],\n",
       "       [   1, 6349,   50,   17,   11,    9,   17,   19,  261,    8],\n",
       "       [  32,  103, 4882,  177,  127,   20,  204,  121,  269,   23],\n",
       "       [  19,   46,  272, 5060,   34,  184,   48,  131,  237,  100],\n",
       "       [   6,   27,   35,    6, 5299,   13,   61,   12,  124,  259],\n",
       "       [  47,   38,   74,  263,  203, 4127,  165,   37,  382,   85],\n",
       "       [  16,   24,   40,    6,   59,   76, 5607,    1,   87,    2],\n",
       "       [  28,   39,   95,   55,  112,   15,    7, 5211,   70,  633],\n",
       "       [  19,  194,   99,  188,  268,  257,   84,   68, 4576,   98],\n",
       "       [  25,   56,   20,   70, 1073,   49,    5,  657,   85, 3909]])"
      ]
     },
     "execution_count": 11,
     "metadata": {},
     "output_type": "execute_result"
    }
   ],
   "source": [
    "#Error Analysis\n",
    "#let's look at confusion matrix of the model\n",
    "from sklearn.metrics import confusion_matrix\n",
    "from sklearn.model_selection import cross_val_predict\n",
    "sgd_y_pred = cross_val_predict(SGDClassifier(random_state=42), x_train, y_train, cv=3)\n",
    "sgd_conf_mx = confusion_matrix(y_train, sgd_y_pred)\n",
    "sgd_conf_mx"
   ]
  },
  {
   "cell_type": "code",
   "execution_count": 12,
   "metadata": {},
   "outputs": [
    {
     "data": {
      "image/png": "[encoded data removed]",
      "text/plain": [
       "<Figure size 288x288 with 1 Axes>"
      ]
     },
     "metadata": {},
     "output_type": "display_data"
    }
   ],
   "source": [
    "#it is more convinient to look of an image representing this matrix\n",
    "plt.matshow(sgd_conf_mx, cmap=plt.cm.gray)\n",
    "plt.show()"
   ]
  },
  {
   "cell_type": "code",
   "execution_count": 13,
   "metadata": {},
   "outputs": [],
   "source": [
    "#the square representing the TP of 5 are pretty dark which means the model does not perform well on predicting 5 \n",
    "#or it can means that there fewer 5 in training set"
   ]
  },
  {
   "cell_type": "code",
   "execution_count": 14,
   "metadata": {},
   "outputs": [
    {
     "data": {
      "image/png": "[encoded data removed]",
      "text/plain": [
       "<Figure size 288x288 with 1 Axes>"
      ]
     },
     "metadata": {},
     "output_type": "display_data"
    }
   ],
   "source": [
    "#let's get rid of the diagonal squares and compute error ratios\n",
    "row_sums = sgd_conf_mx.sum(axis=1, keepdims=True)\n",
    "norm_conf_mx = sgd_conf_mx / row_sums\n",
    "np.fill_diagonal(norm_conf_mx, 0)\n",
    "plt.matshow(norm_conf_mx, cmap=plt.cm.gray)\n",
    "plt.show()"
   ]
  },
  {
   "cell_type": "code",
   "execution_count": 15,
   "metadata": {},
   "outputs": [],
   "source": [
    "#it seems like model often wrongly classify 5s as 3s and 8s\n",
    "#and 9s are often wrongly classify as 7"
   ]
  },
  {
   "cell_type": "code",
   "execution_count": 16,
   "metadata": {},
   "outputs": [],
   "source": [
    "#let's look at the images that are wrongly classified\n",
    "# five_as_three = x_train[(y_train == 5) & (sgd_y_pred == 3)]\n",
    "# five_as_eight = x_train[(y_train == 5) & (sgd_y_pred == 8)]\n",
    "# nine_as_seven = x_train[(y_train == 9) & (sgd_y_pred == 7)]\n",
    "\n",
    "# plt.figure(figsize=(8,8))\n",
    "# plt.subplot(221); plot_digit(five_as_three[:25], images_per_row=5)\n",
    "# plt.show()"
   ]
  },
  {
   "cell_type": "code",
   "execution_count": 17,
   "metadata": {},
   "outputs": [
    {
     "data": {
      "text/plain": [
       "array([[False,  True]])"
      ]
     },
     "execution_count": 17,
     "metadata": {},
     "output_type": "execute_result"
    }
   ],
   "source": [
    "#MutiLabel classification \n",
    "#In MutiLabel classification, classifier will output more than 1 label(e.g. [0, 1])\n",
    "\n",
    "#let create model to predict if images are large number and if images are odd\n",
    "y_train_large = (y_train > 7)\n",
    "y_train_odd = (y_train % 2 == 1)\n",
    "y_train_mutilabel = np.c_[y_train_large, y_train_odd]\n",
    "from sklearn.neighbors import KNeighborsClassifier\n",
    "knn_clf = KNeighborsClassifier()\n",
    "knn_clf.fit(x_train, y_train_mutilabel)\n",
    "knn_clf.predict([some_digit])"
   ]
  },
  {
   "cell_type": "code",
   "execution_count": 18,
   "metadata": {},
   "outputs": [],
   "source": [
    "#evaluate mutilabel classifier using F1 score\n",
    "# from sklearn.metrics import f1_score\n",
    "# y_train_pred = cross_val_predict(knn_clf, x_train, y_train_mutilabel, cv=3)\n",
    "# f1_score(y_train_mutilabel, y_train_pred, average='macro')"
   ]
  },
  {
   "cell_type": "code",
   "execution_count": 19,
   "metadata": {},
   "outputs": [],
   "source": [
    "#macro average give weight to each label eqaully \n",
    "#if the number of labels are not balance you may give more weight to that label(using weighted average)"
   ]
  },
  {
   "cell_type": "code",
   "execution_count": 29,
   "metadata": {},
   "outputs": [],
   "source": [
    "#the last type of classification \n",
    "#Mutioutput Classification\n",
    "#mutioutput classification has many target label and each label can be more than 2 classes\n",
    "\n",
    "#try to create classifier that remove noise from image\n",
    "#first, we create noisy image\n",
    "train_noise = np.random.randint(0, 100, (len(x_train), 784))\n",
    "test_noise = np.random.randint(0, 100, (len(x_test), 784))\n",
    "\n",
    "x_train_noisy = x_train + train_noise\n",
    "y_train_clear = x_train\n",
    "\n",
    "x_test_noisy = x_test + test_noise\n",
    "y_test_clear = x_test\n",
    "\n",
    "knn_clf = KNeighborsClassifier()\n",
    "knn_clf.fit(x_train_noisy, y_train_clear)\n",
    "y_train_pred = knn_clf.predict([x_train_noisy[33000]])"
   ]
  },
  {
   "cell_type": "code",
   "execution_count": 30,
   "metadata": {},
   "outputs": [
    {
     "name": "stdout",
     "output_type": "stream",
     "text": [
      "original noisy\n"
     ]
    },
    {
     "data": {
      "image/png": "[encoded data removed]",
      "text/plain": [
       "<Figure size 432x288 with 1 Axes>"
      ]
     },
     "metadata": {},
     "output_type": "display_data"
    }
   ],
   "source": [
    "%matplotlib inline\n",
    "print (\"original noisy\")\n",
    "plt.imshow(x_train_noisy[33000].reshape(28,28), cmap=matplotlib.cm.binary, interpolation='nearest')\n",
    "plt.show()"
   ]
  },
  {
   "cell_type": "code",
   "execution_count": 31,
   "metadata": {},
   "outputs": [
    {
     "data": {
      "image/png": "[encoded data removed]",
      "text/plain": [
       "<Figure size 432x288 with 1 Axes>"
      ]
     },
     "metadata": {},
     "output_type": "display_data"
    }
   ],
   "source": [
    "plt.imshow(y_train_clear[33000].reshape(28,28), cmap=matplotlib.cm.binary, interpolation='nearest')\n",
    "plt.show()"
   ]
  },
  {
   "cell_type": "code",
   "execution_count": 32,
   "metadata": {},
   "outputs": [
    {
     "data": {
      "image/png": "[encoded data removed]",
      "text/plain": [
       "<Figure size 432x288 with 1 Axes>"
      ]
     },
     "metadata": {},
     "output_type": "display_data"
    }
   ],
   "source": [
    "plt.imshow(y_train_pred.reshape(28, 28), cmap=matplotlib.cm.binary, interpolation='nearest')\n",
    "plt.show()"
   ]
  }
 ],
 "metadata": {
  "kernelspec": {
   "display_name": "Python 3",
   "language": "python",
   "name": "python3"
  },
  "language_info": {
   "codemirror_mode": {
    "name": "ipython",
    "version": 3
   },
   "file_extension": ".py",
   "mimetype": "text/x-python",
   "name": "python",
   "nbconvert_exporter": "python",
   "pygments_lexer": "ipython3",
   "version": "3.6.6"
  }
 },
 "nbformat": 4,
 "nbformat_minor": 2
}
