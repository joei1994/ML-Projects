{
 "cells": [
  {
   "cell_type": "code",
   "execution_count": 1,
   "metadata": {},
   "outputs": [],
   "source": [
    "import sklearn \n",
    "import numpy as np\n",
    "import matplotlib\n",
    "from matplotlib import pyplot as plt\n",
    "from sklearn import datasets"
   ]
  },
  {
   "cell_type": "code",
   "execution_count": 2,
   "metadata": {},
   "outputs": [],
   "source": [
    "digits = datasets.load_digits()"
   ]
  },
  {
   "cell_type": "code",
   "execution_count": 3,
   "metadata": {},
   "outputs": [
    {
     "data": {
      "text/plain": [
       "array([[ 0.,  0.,  5., ...,  0.,  0.,  0.],\n",
       "       [ 0.,  0.,  0., ..., 10.,  0.,  0.],\n",
       "       [ 0.,  0.,  0., ..., 16.,  9.,  0.],\n",
       "       ...,\n",
       "       [ 0.,  0.,  1., ...,  6.,  0.,  0.],\n",
       "       [ 0.,  0.,  2., ..., 12.,  0.,  0.],\n",
       "       [ 0.,  0., 10., ..., 12.,  1.,  0.]])"
      ]
     },
     "execution_count": 3,
     "metadata": {},
     "output_type": "execute_result"
    }
   ],
   "source": [
    "digits['data']"
   ]
  },
  {
   "cell_type": "code",
   "execution_count": 4,
   "metadata": {},
   "outputs": [
    {
     "data": {
      "text/plain": [
       "array([0, 1, 2, ..., 8, 9, 8])"
      ]
     },
     "execution_count": 4,
     "metadata": {},
     "output_type": "execute_result"
    }
   ],
   "source": [
    "digits['target']"
   ]
  },
  {
   "cell_type": "code",
   "execution_count": 5,
   "metadata": {},
   "outputs": [],
   "source": [
    "X_digits = digits['data']\n",
    "Y_digits = digits['target']\n",
    "\n",
    "X_digits_train = X_digits[:-100]\n",
    "Y_digits_train = Y_digits[:-100]\n",
    "X_digits_test = X_digits[-100:]\n",
    "Y_digits_test = Y_digits[-100:]"
   ]
  },
  {
   "cell_type": "code",
   "execution_count": 6,
   "metadata": {},
   "outputs": [
    {
     "data": {
      "text/plain": [
       "SVC(C=1, cache_size=200, class_weight=None, coef0=0.0,\n",
       "  decision_function_shape='ovr', degree=3, gamma='auto_deprecated',\n",
       "  kernel='linear', max_iter=-1, probability=False, random_state=None,\n",
       "  shrinking=True, tol=0.001, verbose=False)"
      ]
     },
     "execution_count": 6,
     "metadata": {},
     "output_type": "execute_result"
    }
   ],
   "source": [
    "from sklearn import svm\n",
    "\n",
    "svc = svm.SVC(C=1, kernel='linear')\n",
    "svc.fit(X_digits_train, Y_digits_train)"
   ]
  },
  {
   "cell_type": "code",
   "execution_count": 7,
   "metadata": {},
   "outputs": [
    {
     "data": {
      "text/plain": [
       "0.98"
      ]
     },
     "execution_count": 7,
     "metadata": {},
     "output_type": "execute_result"
    }
   ],
   "source": [
    "svc.score(X_digits_test, Y_digits_test)"
   ]
  },
  {
   "cell_type": "markdown",
   "metadata": {},
   "source": [
    "### Cross-validation from scratch"
   ]
  },
  {
   "cell_type": "code",
   "execution_count": 8,
   "metadata": {},
   "outputs": [],
   "source": [
    "np.random.seed(0)\n",
    "indices = np.random.permutation(X_digits.shape[0])\n",
    "X_digits = X_digits[indices]\n",
    "Y_digits = Y_digits[indices]\n",
    "\n",
    "X_folds = np.array_split(X_digits, 3)\n",
    "Y_folds = np.array_split(Y_digits, 3)"
   ]
  },
  {
   "cell_type": "code",
   "execution_count": 9,
   "metadata": {},
   "outputs": [
    {
     "name": "stdout",
     "output_type": "stream",
     "text": [
      "[0.9716193656093489, 0.9833055091819699, 0.986644407345576]\n"
     ]
    }
   ],
   "source": [
    "scores = list()\n",
    "for k in range(3):\n",
    "    x_train = list(X_folds)\n",
    "    y_train = list(Y_folds)\n",
    "    \n",
    "    x_test = x_train.pop(k)\n",
    "    x_train = np.concatenate(x_train)\n",
    "    y_test = y_train.pop(k)\n",
    "    y_train = np.concatenate(y_train)\n",
    "    \n",
    "    svc.fit(x_train, y_train)\n",
    "    scores.append(svc.score(x_test, y_test))\n",
    "print(scores)"
   ]
  },
  {
   "cell_type": "markdown",
   "metadata": {},
   "source": [
    "## Cross-validation generator"
   ]
  },
  {
   "cell_type": "code",
   "execution_count": 10,
   "metadata": {},
   "outputs": [
    {
     "name": "stdout",
     "output_type": "stream",
     "text": [
      "Train: [2 3 4 5 6 7 8 9] | Test: [0 1]\n",
      "Train: [0 1 4 5 6 7 8 9] | Test: [2 3]\n",
      "Train: [0 1 2 3 6 7 8 9] | Test: [4 5]\n",
      "Train: [0 1 2 3 4 5 8 9] | Test: [6 7]\n",
      "Train: [0 1 2 3 4 5 6 7] | Test: [8 9]\n"
     ]
    }
   ],
   "source": [
    "from sklearn.model_selection import KFold, cross_val_score\n",
    "x = ['a', 'a', 'a', 'b', 'b', 'c', 'c', 'c', 'c', 'c']\n",
    "kfolds = KFold(n_splits=5)\n",
    "for train_index, test_index in kfolds.split(x):\n",
    "    print(\"Train: {0} | Test: {1}\".format(train_index, test_index))"
   ]
  },
  {
   "cell_type": "code",
   "execution_count": 11,
   "metadata": {},
   "outputs": [],
   "source": [
    "scores = [svc\n",
    "          .fit(X_digits[train_indices], Y_digits[train_indices]) \n",
    "          .score(X_digits[test_indices], Y_digits[test_indices])\n",
    "          for train_indices, test_indices in KFold(n_splits=5).split(X_digits)]"
   ]
  },
  {
   "cell_type": "code",
   "execution_count": 12,
   "metadata": {},
   "outputs": [
    {
     "data": {
      "text/plain": [
       "[0.9777777777777777,\n",
       " 0.9833333333333333,\n",
       " 0.9888579387186629,\n",
       " 0.9888579387186629,\n",
       " 0.9832869080779945]"
      ]
     },
     "execution_count": 12,
     "metadata": {},
     "output_type": "execute_result"
    }
   ],
   "source": [
    "scores"
   ]
  },
  {
   "cell_type": "code",
   "execution_count": 13,
   "metadata": {},
   "outputs": [
    {
     "data": {
      "text/plain": [
       "array([0.97802198, 0.97790055, 0.99164345, 0.98319328, 0.98309859])"
      ]
     },
     "execution_count": 13,
     "metadata": {},
     "output_type": "execute_result"
    }
   ],
   "source": [
    "cross_val_score(estimator=svc, cv=5, X = X_digits, y = Y_digits)"
   ]
  },
  {
   "cell_type": "markdown",
   "metadata": {},
   "source": [
    "## Use cross-validation to tune parameters"
   ]
  },
  {
   "cell_type": "code",
   "execution_count": 14,
   "metadata": {},
   "outputs": [],
   "source": [
    "def cross_validation_scores(svc):\n",
    "    scores = [svc\n",
    "              .fit(X_digits[train_indices], Y_digits[train_indices])\n",
    "              .score(X_digits[test_indices], Y_digits[test_indices])\n",
    "              for train_indices, test_indices in KFold(n_splits=5).split(X_digits)]\n",
    "    return np.mean(scores)"
   ]
  },
  {
   "cell_type": "code",
   "execution_count": 15,
   "metadata": {},
   "outputs": [],
   "source": [
    "C_s = np.logspace(-10, 0, 10)\n",
    "cv_scores1 = [cross_validation_scores(svm.SVC(C=C, kernel='linear')) for C in C_s]"
   ]
  },
  {
   "cell_type": "code",
   "execution_count": 16,
   "metadata": {},
   "outputs": [
    {
     "name": "stdout",
     "output_type": "stream",
     "text": [
      "Best param: C= 0.07742636826811278\n"
     ]
    }
   ],
   "source": [
    "print(\"Best param: C= {0}\".format(C_s[np.argmax(cv_scores1)]))"
   ]
  },
  {
   "cell_type": "code",
   "execution_count": null,
   "metadata": {},
   "outputs": [],
   "source": []
  }
 ],
 "metadata": {
  "kernelspec": {
   "display_name": "Python 3",
   "language": "python",
   "name": "python3"
  },
  "language_info": {
   "codemirror_mode": {
    "name": "ipython",
    "version": 3
   },
   "file_extension": ".py",
   "mimetype": "text/x-python",
   "name": "python",
   "nbconvert_exporter": "python",
   "pygments_lexer": "ipython3",
   "version": "3.6.6"
  }
 },
 "nbformat": 4,
 "nbformat_minor": 2
}
