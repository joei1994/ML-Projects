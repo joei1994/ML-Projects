{
 "cells": [
  {
   "cell_type": "code",
   "execution_count": 1,
   "metadata": {},
   "outputs": [],
   "source": [
    "import tensorflow as tf\n",
    "import numpy as np \n",
    "import tqdm\n",
    "import pandas as pd \n",
    "import matplotlib \n",
    "from matplotlib import pyplot as plt\n",
    "from tensorflow.examples.tutorials.mnist import input_data\n",
    "%matplotlib inline\n",
    "import warnings\n",
    "warnings.filterwarnings('ignore')"
   ]
  },
  {
   "cell_type": "code",
   "execution_count": 2,
   "metadata": {},
   "outputs": [
    {
     "name": "stdout",
     "output_type": "stream",
     "text": [
      "WARNING:tensorflow:From <ipython-input-2-71e12f4bac70>:1: read_data_sets (from tensorflow.contrib.learn.python.learn.datasets.mnist) is deprecated and will be removed in a future version.\n",
      "Instructions for updating:\n",
      "Please use alternatives such as official/mnist/dataset.py from tensorflow/models.\n",
      "WARNING:tensorflow:From /home/kobkrit/miniconda3/envs/pg/lib/python3.6/site-packages/tensorflow/contrib/learn/python/learn/datasets/mnist.py:260: maybe_download (from tensorflow.contrib.learn.python.learn.datasets.base) is deprecated and will be removed in a future version.\n",
      "Instructions for updating:\n",
      "Please write your own downloading logic.\n",
      "WARNING:tensorflow:From /home/kobkrit/miniconda3/envs/pg/lib/python3.6/site-packages/tensorflow/contrib/learn/python/learn/datasets/mnist.py:262: extract_images (from tensorflow.contrib.learn.python.learn.datasets.mnist) is deprecated and will be removed in a future version.\n",
      "Instructions for updating:\n",
      "Please use tf.data to implement this functionality.\n",
      "Extracting MNIST_data/train-images-idx3-ubyte.gz\n",
      "WARNING:tensorflow:From /home/kobkrit/miniconda3/envs/pg/lib/python3.6/site-packages/tensorflow/contrib/learn/python/learn/datasets/mnist.py:267: extract_labels (from tensorflow.contrib.learn.python.learn.datasets.mnist) is deprecated and will be removed in a future version.\n",
      "Instructions for updating:\n",
      "Please use tf.data to implement this functionality.\n",
      "Extracting MNIST_data/train-labels-idx1-ubyte.gz\n",
      "WARNING:tensorflow:From /home/kobkrit/miniconda3/envs/pg/lib/python3.6/site-packages/tensorflow/contrib/learn/python/learn/datasets/mnist.py:110: dense_to_one_hot (from tensorflow.contrib.learn.python.learn.datasets.mnist) is deprecated and will be removed in a future version.\n",
      "Instructions for updating:\n",
      "Please use tf.one_hot on tensors.\n",
      "Extracting MNIST_data/t10k-images-idx3-ubyte.gz\n",
      "Extracting MNIST_data/t10k-labels-idx1-ubyte.gz\n",
      "WARNING:tensorflow:From /home/kobkrit/miniconda3/envs/pg/lib/python3.6/site-packages/tensorflow/contrib/learn/python/learn/datasets/mnist.py:290: DataSet.__init__ (from tensorflow.contrib.learn.python.learn.datasets.mnist) is deprecated and will be removed in a future version.\n",
      "Instructions for updating:\n",
      "Please use alternatives such as official/mnist/dataset.py from tensorflow/models.\n"
     ]
    }
   ],
   "source": [
    "mnist = input_data.read_data_sets('MNIST_data', one_hot=True)"
   ]
  },
  {
   "cell_type": "markdown",
   "metadata": {},
   "source": [
    "### No Batch-Norm"
   ]
  },
  {
   "cell_type": "code",
   "execution_count": 8,
   "metadata": {},
   "outputs": [
    {
     "name": "stderr",
     "output_type": "stream",
     "text": [
      "100%|██████████| 100/100 [14:07<00:00,  8.39s/it]\n"
     ]
    }
   ],
   "source": [
    "n_steps = 100\n",
    "batch_size = 60\n",
    "\n",
    "n_inputs = 784\n",
    "n_hidden1 = 300\n",
    "n_hidden2 = 100\n",
    "n_outputs = 10\n",
    "\n",
    "w1_initial = np.random.normal(size=(n_inputs, n_hidden1))\n",
    "w2_initial = np.random.normal(size=(n_hidden1, n_hidden2))\n",
    "w3_initial = np.random.normal(size=(n_hidden2, n_outputs))\n",
    "\n",
    "X = tf.placeholder(tf.float32, shape=[None, n_inputs], name='X')\n",
    "Y = tf.placeholder(tf.float32, shape=[None, n_outputs], name='Y')\n",
    "\n",
    "w1 = tf.Variable(w1_initial, dtype=tf.float32, name='w1')\n",
    "b1 = tf.Variable(tf.ones([n_hidden1]), name='b1')\n",
    "z1 = tf.matmul(X, w1, name='z1') + b1\n",
    "o1 = tf.nn.sigmoid(z1)\n",
    "\n",
    "w2 = tf.Variable(w2_initial, dtype=tf.float32, name='w2')\n",
    "b2 = tf.Variable(tf.ones([n_hidden2]), name='b2')\n",
    "z2 = tf.matmul(o1, w2, name='z2') + b2\n",
    "o2 = tf.nn.sigmoid(z2)\n",
    "\n",
    "w3 = tf.Variable(w3_initial, dtype=tf.float32, name='w3')\n",
    "b3 = tf.Variable(tf.ones([n_outputs]), name='b3')\n",
    "z3 = tf.matmul(o2, w3, name='z3') + b3\n",
    "\n",
    "y_pred = tf.nn.softmax(z3, axis=1)\n",
    "\n",
    "cross_entropy_loss = -tf.reduce_sum(Y * tf.log(y_pred))\n",
    "cross_entropy_loss_summary  = tf.summary.scalar(name='cross_entropy_loss', tensor=cross_entropy_loss)\n",
    "\n",
    "optimizer = tf.train.GradientDescentOptimizer(learning_rate=0.03).minimize(cross_entropy_loss)\n",
    "\n",
    "correct_predictions = tf.equal(tf.argmax(Y, axis=1), tf.argmax(y_pred, axis=1))\n",
    "accuracy = tf.reduce_mean(tf.cast(correct_predictions, tf.float32))\n",
    "\n",
    "accs = []\n",
    "losses = []\n",
    "with tf.Session() as sess:\n",
    "    writer = tf.summary.FileWriter('./batch-normalization/graph')\n",
    "    sess.run(tf.global_variables_initializer())\n",
    "    for epoch in tqdm.tqdm(range(n_steps)):\n",
    "        for i in range(0, mnist.train.images.shape[0], batch_size):\n",
    "            x, y = mnist.train.images[i:i+batch_size], mnist.train.labels[i:i+batch_size]\n",
    "            sess.run(optimizer, {X : x, Y : y})\n",
    "        #if epoch % 50 == 0:\n",
    "            res = sess.run([accuracy, cross_entropy_loss, cross_entropy_loss_summary], {X : mnist.test.images, Y : mnist.test.labels})\n",
    "            losses.append(res[1])\n",
    "            #writer.add_summary(res[2], epoch)"
   ]
  },
  {
   "cell_type": "code",
   "execution_count": 9,
   "metadata": {},
   "outputs": [
    {
     "data": {
      "image/png": "[encoded data removed]",
      "text/plain": [
       "<Figure size 576x504 with 1 Axes>"
      ]
     },
     "metadata": {
      "needs_background": "light"
     },
     "output_type": "display_data"
    }
   ],
   "source": [
    "plt.figure(figsize=(8, 7))\n",
    "plt.plot(range(len(losses)), losses, c='r')\n",
    "plt.show()"
   ]
  },
  {
   "cell_type": "markdown",
   "metadata": {},
   "source": [
    "### Batch-Norm"
   ]
  },
  {
   "cell_type": "code",
   "execution_count": 23,
   "metadata": {},
   "outputs": [],
   "source": [
    "epsilon = 1e-3\n",
    "\n",
    "X = tf.placeholder(tf.float32, shape=[None, n_inputs], name='X')\n",
    "Y = tf.placeholder(tf.float32, shape=[None, n_outputs], name='Y')\n",
    "\n",
    "#layer 1\n",
    "w1 = tf.Variable(w1_initial, dtype=tf.float32, name='w1')\n",
    "b1 = tf.Variable(tf.ones([n_hidden1]), dtype=tf.float32, name='b1')\n",
    "z1 = tf.matmul(X, w1) + b1\n",
    "\n",
    "batch_mean1, batch_var1 = tf.nn.moments(z1, [0])\n",
    "batch_normalized_z1 = (z1 - batch_mean1) / tf.sqrt(batch_var1 + epsilon)\n",
    "scale1 = tf.Variable(tf.ones([n_hidden1]), dtype=tf.float32)\n",
    "beta1 = tf.Variable(tf.zeros([n_hidden1]), dtype=tf.float32)\n",
    "\n",
    "scaled_shifted_z1 = scale1 * batch_normalized_z1 + beta1\n",
    "o1 = tf.nn.sigmoid(scaled_shifted_z1)\n",
    "\n",
    "#layer2\n",
    "w2 = tf.Variable(w2_initial, dtype=tf.float32, name='w2')\n",
    "b2 = tf.Variable(tf.ones([n_hidden2]), dtype=tf.float32, name='b2')\n",
    "z2 = tf.matmul(o1, w2) + b2\n",
    "\n",
    "batch_mean2, batch_var2 = tf.nn.moments(z2, [0])\n",
    "batch_normalized_z2 = (z2 - batch_mean2) / tf.sqrt(batch_var2 + epsilon)\n",
    "scale2 = tf.Variable(tf.ones([n_hidden2]), dtype=tf.float32)\n",
    "beta2 = tf.Variable(tf.zeros([n_hidden2]), dtype=tf.float32)\n",
    "\n",
    "scaled_shifted_z2 = scale2 * batch_normalized_z2 + beta2\n",
    "o2 = tf.nn.sigmoid(scaled_shifted_z2)\n",
    "\n",
    "#layer3 \n",
    "w3 = tf.Variable(w3_initial, dtype=tf.float32, name='w3')\n",
    "b3 = tf.Variable(tf.ones([n_outputs]), dtype=tf.float32, name='b3')\n",
    "z3 = tf.matmul(o2, w3) + b3\n",
    "\n",
    "y_pred = tf.nn.softmax(z3)\n",
    "\n"
   ]
  },
  {
   "cell_type": "code",
   "execution_count": null,
   "metadata": {},
   "outputs": [],
   "source": []
  }
 ],
 "metadata": {
  "kernelspec": {
   "display_name": "pg",
   "language": "python",
   "name": "pg"
  },
  "language_info": {
   "codemirror_mode": {
    "name": "ipython",
    "version": 3
   },
   "file_extension": ".py",
   "mimetype": "text/x-python",
   "name": "python",
   "nbconvert_exporter": "python",
   "pygments_lexer": "ipython3",
   "version": "3.6.0"
  }
 },
 "nbformat": 4,
 "nbformat_minor": 2
}
