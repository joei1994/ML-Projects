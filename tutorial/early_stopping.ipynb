{
 "cells": [
  {
   "cell_type": "code",
   "execution_count": 1,
   "metadata": {},
   "outputs": [],
   "source": [
    "#Early Stopping\n",
    "\n",
    "#It's one of regularization technique used to regularize Linear argorithms (e.g. Linear/Polynomial Regressios)\n",
    "#How it works?\n",
    "#devide training data into training and validation set\n",
    "#it using training set to fit data interatively and measure error on validation set\n",
    "#it fit model until validation error stop decrease and start increase\n",
    "#when validation error stop decrease and start increase. it means your model start overfit training set."
   ]
  },
  {
   "cell_type": "code",
   "execution_count": 5,
   "metadata": {
    "scrolled": true
   },
   "outputs": [],
   "source": [
    "import numpy as np \n",
    "import pandas as pd\n",
    "import matplotlib\n",
    "import matplotlib.pyplot as plt\n",
    "from sklearn.linear_model import SGDRegressor\n",
    "from sklearn.metrics import mean_squared_error\n",
    "\n",
    "%matplotlib inline\n",
    "from matplotlib.pylab import rcParams\n",
    "rcParams['figure.figsize'] = 12, 10\n",
    "\n",
    "x_train, y_train, x_validate, y_validate = None, None, None, None\n",
    "\n",
    "sgd_reg = SGDRegressor(max_iter=1, warm_start=True, penalty=None, learning_rate='constant', eta0=0.01)\n",
    "\n",
    "min_rmse = float('inf')\n",
    "best_model = None\n",
    "best_epoch = None\n",
    "for epoch in range(1000):\n",
    "    sgd_reg.fit(x_train, y_train)\n",
    "    y_validate_pred = sgd_reg.predict(x_validate)\n",
    "    rmse = np.sqrt(mean_squared_error(y_validate, y_test_validate))\n",
    "    \n",
    "    if rmse <= min_rmse:\n",
    "        min_rmse = rmse\n",
    "        best_model = clone(sgd_reg)\n",
    "        best_epoch = epoch\n",
    "    else:\n",
    "        return"
   ]
  },
  {
   "cell_type": "code",
   "execution_count": null,
   "metadata": {},
   "outputs": [],
   "source": []
  },
  {
   "cell_type": "code",
   "execution_count": null,
   "metadata": {},
   "outputs": [],
   "source": []
  }
 ],
 "metadata": {
  "kernelspec": {
   "display_name": "Python 3",
   "language": "python",
   "name": "python3"
  },
  "language_info": {
   "codemirror_mode": {
    "name": "ipython",
    "version": 3
   },
   "file_extension": ".py",
   "mimetype": "text/x-python",
   "name": "python",
   "nbconvert_exporter": "python",
   "pygments_lexer": "ipython3",
   "version": "3.6.6"
  }
 },
 "nbformat": 4,
 "nbformat_minor": 2
}
