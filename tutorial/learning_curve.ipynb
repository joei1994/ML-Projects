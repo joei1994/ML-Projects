{
 "cells": [
  {
   "cell_type": "code",
   "execution_count": 1,
   "metadata": {},
   "outputs": [],
   "source": [
    "import warnings\n",
    "warnings.warn = lambda *a, **kw: False"
   ]
  },
  {
   "cell_type": "code",
   "execution_count": 2,
   "metadata": {},
   "outputs": [],
   "source": [
    "#The basic idea\n",
    "#let say you devide you training set into training set and validation set\n",
    "\n",
    "#Learning Curve is the graph ploting the training error and validation error against the number of training instances\n",
    "#at first when the model only train with only one instance the training error will be 0 becuase model can fit one instance perfectly\n",
    "#on the other hand, the validation error will be very large because model trained on single instance can't generalize well on unseen data\n",
    "#but as the number of training instances increase the training error will increase but validation error will decrease"
   ]
  },
  {
   "cell_type": "code",
   "execution_count": 3,
   "metadata": {},
   "outputs": [],
   "source": [
    "import pandas as pd\n",
    "\n",
    "pp_data = pd.read_excel('dataset/pp_dataset.xlsx')"
   ]
  },
  {
   "cell_type": "code",
   "execution_count": 4,
   "metadata": {},
   "outputs": [
    {
     "name": "stdout",
     "output_type": "stream",
     "text": [
      "<class 'pandas.core.frame.DataFrame'>\n",
      "RangeIndex: 9568 entries, 0 to 9567\n",
      "Data columns (total 5 columns):\n",
      "AT    9568 non-null float64\n",
      "V     9568 non-null float64\n",
      "AP    9568 non-null float64\n",
      "RH    9568 non-null float64\n",
      "PE    9568 non-null float64\n",
      "dtypes: float64(5)\n",
      "memory usage: 373.8 KB\n"
     ]
    }
   ],
   "source": [
    "pp_data.info()"
   ]
  },
  {
   "cell_type": "code",
   "execution_count": 5,
   "metadata": {},
   "outputs": [],
   "source": [
    "#PE is our target variable "
   ]
  },
  {
   "cell_type": "code",
   "execution_count": 6,
   "metadata": {},
   "outputs": [],
   "source": [
    "#Compute Training set size\n",
    "\n",
    "#To plot learning curve, you have to devide the dataset into training set and validation set\n",
    "#In this tutorial I decide to use 80:20 ratio, so our traning set will have 7654 instances\n",
    "training_sizes = [1, 100, 500, 2000, 5000, 7654]"
   ]
  },
  {
   "cell_type": "code",
   "execution_count": 7,
   "metadata": {},
   "outputs": [],
   "source": [
    "#let's plot the learning curve\n",
    "from sklearn.linear_model import LinearRegression\n",
    "from sklearn.model_selection import learning_curve\n",
    "\n",
    "features = ['AT', 'V', 'AP', 'RH']\n",
    "target = ['PE']\n",
    "training_sizes, training_errors, validation_errors = learning_curve(LinearRegression(),\n",
    "                                                                   pp_data[features], \n",
    "                                                                   pp_data[target],\n",
    "                                                                   train_sizes=training_sizes,\n",
    "                                                                   cv=5, \n",
    "                                                                   scoring='neg_mean_squared_error')\n",
    "###how learning_curve() works?\n",
    "#1. it split data into training set and validation set\n",
    "#2. it train model for each trainig size using instance from training set and compute training errors and validation errors for each \n",
    "#3. it repeat step 1,2 but using different split"
   ]
  },
  {
   "cell_type": "code",
   "execution_count": 8,
   "metadata": {},
   "outputs": [
    {
     "name": "stdout",
     "output_type": "stream",
     "text": [
      "Training Errors \n",
      " [[ -0.          -0.          -0.          -0.          -0.        ]\n",
      " [-19.71230701 -18.31492642 -18.31492642 -18.31492642 -18.31492642]\n",
      " [-18.14420459 -19.63885072 -19.63885072 -19.63885072 -19.63885072]\n",
      " [-21.53603444 -20.18568787 -19.98317419 -19.98317419 -19.98317419]\n",
      " [-20.47708899 -19.93364211 -20.56091569 -20.4150839  -20.4150839 ]\n",
      " [-20.98565335 -20.63006094 -21.04384703 -20.63526811 -20.52955609]]\n"
     ]
    }
   ],
   "source": [
    "print (\"Training Errors \\n\", training_errors)"
   ]
  },
  {
   "cell_type": "code",
   "execution_count": 9,
   "metadata": {},
   "outputs": [
    {
     "name": "stdout",
     "output_type": "stream",
     "text": [
      "Validation Error \n",
      " [[-619.30514723 -379.81090366 -374.4107861  -370.03037109 -373.30597982]\n",
      " [ -21.80224219  -23.01103419  -20.81350389  -22.88459236  -23.44955492]\n",
      " [ -19.96005238  -21.2771561   -19.75136596  -21.4325615   -21.89067652]\n",
      " [ -19.92863783  -21.35440062  -19.62974239  -21.38631648  -21.811031  ]\n",
      " [ -19.88806264  -21.3183303   -19.68228562  -21.35019525  -21.75949097]\n",
      " [ -19.9046791   -21.33448781  -19.67831137  -21.31935146  -21.73778949]]\n"
     ]
    }
   ],
   "source": [
    "print(\"Validation Error \\n\", validation_errors)"
   ]
  },
  {
   "cell_type": "code",
   "execution_count": 10,
   "metadata": {},
   "outputs": [],
   "source": [
    "#let's look at the training error and validation errors\n",
    "#notice the values of training errors when training size = 100 from 2nd split onward are identical (-18.31492642)\n",
    "#this is because when it devide dataset into 5 fold\n",
    "#for the 1st split, 1st fold is validation fold and 2nd-5th fold are training fold. so first 100 training instance are from 2nd fold\n",
    "#but from from  the 2nd split onward the 1st fold becomes training fold, So the first 100 training instances are always taken from that fold\n",
    "#that's why values of 100 training instance are identical from 2nd for onward\n",
    "\n",
    "#you can fix this behavior by set suffle parameter to True \n",
    "\n"
   ]
  },
  {
   "cell_type": "code",
   "execution_count": 11,
   "metadata": {},
   "outputs": [],
   "source": [
    "#columns represent cv-splits\n",
    "#rows represent training sizes"
   ]
  },
  {
   "cell_type": "code",
   "execution_count": 12,
   "metadata": {},
   "outputs": [
    {
     "name": "stdout",
     "output_type": "stream",
     "text": [
      "training error for each trainig size \n",
      " 1       -0.000000\n",
      "100     18.594403\n",
      "500     19.339921\n",
      "2000    20.334249\n",
      "5000    20.360363\n",
      "7654    20.764877\n",
      "dtype: float64\n",
      "\n",
      "\n",
      "validation error for each training size \n",
      " 1       423.372638\n",
      "100      22.392186\n",
      "500      20.862362\n",
      "2000     20.822026\n",
      "5000     20.799673\n",
      "7654     20.794924\n",
      "dtype: float64\n"
     ]
    }
   ],
   "source": [
    "#compute training error and validation error mean\n",
    "training_error_means = -training_errors.mean(axis=1)\n",
    "validation_error_means = -validation_errors.mean(axis=1)\n",
    "\n",
    "print(\"training error for each trainig size \\n\", pd.Series(training_error_means, index=training_sizes))\n",
    "print(\"\\n\")\n",
    "print (\"validation error for each training size \\n\", pd.Series(validation_error_means, index=training_sizes))"
   ]
  },
  {
   "cell_type": "code",
   "execution_count": 13,
   "metadata": {},
   "outputs": [
    {
     "data": {
      "text/plain": [
       "(0, 40)"
      ]
     },
     "execution_count": 13,
     "metadata": {},
     "output_type": "execute_result"
    },
    {
     "data": {
      "image/png": "[encoded data removed]",
      "text/plain": [
       "<Figure size 432x288 with 1 Axes>"
      ]
     },
     "metadata": {},
     "output_type": "display_data"
    }
   ],
   "source": [
    "#let's plotting the curve\n",
    "\n",
    "import matplotlib \n",
    "import matplotlib.pyplot as plt\n",
    "%matplotlib inline\n",
    "\n",
    "plt.plot(training_sizes, training_error_means, label='training error')\n",
    "plt.plot(training_sizes, validation_error_means, label='validation error')\n",
    "plt.legend()\n",
    "plt.xlabel(\"Training instances number\")\n",
    "plt.ylabel(\"mse\")\n",
    "plt.ylim(0, 40)"
   ]
  },
  {
   "cell_type": "code",
   "execution_count": 14,
   "metadata": {},
   "outputs": [],
   "source": [
    "#Interpret the graph\n",
    "#it seems like both training error and validation error are converged at 20 MW^2 or 4.5MW which according to domain expert opinion\n",
    "#it's pretty high \n",
    "#so, our model have both problem to fit training set and to predict validation set which is a sign of overfitting\n",
    "#to fix this problem adding more training instances won't import model performance\n",
    "#you can try to add more meaningful feature or try more complex algoritms"
   ]
  },
  {
   "cell_type": "code",
   "execution_count": 15,
   "metadata": {},
   "outputs": [],
   "source": [
    "#let's try different algorithms\n",
    "from sklearn.ensemble import RandomForestRegressor\n",
    "forest_reg = RandomForestRegressor(random_state=42)\n",
    "\n",
    "training_sizes, training_errors, validation_errors = learning_curve(forest_reg, \n",
    "                                                                    pp_data[features],\n",
    "                                                                    pp_data[target],\n",
    "                                                                    train_sizes=training_sizes,\n",
    "                                                                    cv = 5,\n",
    "                                                                    scoring='neg_mean_squared_error')"
   ]
  },
  {
   "cell_type": "code",
   "execution_count": 16,
   "metadata": {},
   "outputs": [
    {
     "name": "stdout",
     "output_type": "stream",
     "text": [
      "training score \n",
      " [[-1.29246971e-26 -1.29246971e-26 -1.29246971e-26 -1.29246971e-26\n",
      "  -1.29246971e-26]\n",
      " [-5.64402763e+00 -5.72223699e+00 -5.72223699e+00 -5.72223699e+00\n",
      "  -5.72223699e+00]\n",
      " [-2.86561581e+00 -3.44353468e+00 -3.44353468e+00 -3.44353468e+00\n",
      "  -3.44353468e+00]\n",
      " [-2.80407472e+00 -3.09173525e+00 -2.80099496e+00 -2.80099496e+00\n",
      "  -2.80099496e+00]\n",
      " [-2.33028067e+00 -2.34664671e+00 -2.37040857e+00 -2.31192738e+00\n",
      "  -2.31192738e+00]\n",
      " [-2.25274010e+00 -2.16719881e+00 -2.26236209e+00 -2.15109344e+00\n",
      "  -2.13964046e+00]]\n"
     ]
    }
   ],
   "source": [
    "print('training score \\n', training_errors)"
   ]
  },
  {
   "cell_type": "code",
   "execution_count": 17,
   "metadata": {},
   "outputs": [
    {
     "name": "stdout",
     "output_type": "stream",
     "text": [
      "validation scores \n",
      " [[-619.30514723 -379.81090366 -374.4107861  -370.03037109 -373.30597982]\n",
      " [ -26.08524918  -25.46148296  -23.24495364  -24.01131088  -25.32924481]\n",
      " [ -18.28054408  -20.56779967  -18.84444542  -20.28148775  -21.81742602]\n",
      " [ -16.26347072  -18.10403908  -15.1291172   -16.25191308  -17.12039752]\n",
      " [ -13.88658551  -14.0914906   -12.96543145  -13.38986427  -14.24415057]\n",
      " [ -12.88810247  -12.72265868  -11.33651814  -11.83452978  -12.27609058]]\n"
     ]
    }
   ],
   "source": [
    "print('validation scores \\n', validation_errors)"
   ]
  },
  {
   "cell_type": "code",
   "execution_count": 18,
   "metadata": {},
   "outputs": [],
   "source": [
    "#compute its training and validation error means\n",
    "forest_training_error_means = -training_errors.mean(axis=1)\n",
    "forest_validation_error_means = -validation_errors.mean(axis=1)"
   ]
  },
  {
   "cell_type": "code",
   "execution_count": 19,
   "metadata": {},
   "outputs": [
    {
     "data": {
      "image/png": "[encoded data removed]",
      "text/plain": [
       "<Figure size 432x288 with 1 Axes>"
      ]
     },
     "metadata": {},
     "output_type": "display_data"
    }
   ],
   "source": [
    "#plot RandomForest learning curve\n",
    "plt.plot(training_sizes, forest_training_error_means, label=\"Training Error\")\n",
    "plt.plot(training_sizes, forest_validation_error_means, label=\"Validation Error\")\n",
    "plt.legend()\n",
    "plt.xlabel(\"Training sizes\")\n",
    "plt.ylabel(\"mean squared error\")\n",
    "plt.ylim(0, 40)\n",
    "plt.show()"
   ]
  },
  {
   "cell_type": "code",
   "execution_count": 20,
   "metadata": {},
   "outputs": [],
   "source": [
    "#the training error are low but the validation error are high. this mean model are overfitting\n",
    "#you can add more training instances (which is not a choice)\n",
    "#or regularize your model"
   ]
  },
  {
   "cell_type": "code",
   "execution_count": 22,
   "metadata": {},
   "outputs": [
    {
     "data": {
      "image/png": "[encoded data removed]",
      "text/plain": [
       "<Figure size 432x288 with 1 Axes>"
      ]
     },
     "metadata": {},
     "output_type": "display_data"
    }
   ],
   "source": [
    "#let's try regularized RandomForest \n",
    "regularized_forest_reg = RandomForestRegressor(max_leaf_nodes=350)\n",
    "training_sizes, training_scores, validation_scores = learning_curve(regularized_forest_reg,\n",
    "                                                                    pp_data[features],\n",
    "                                                                    pp_data[target], \n",
    "                                                                    train_sizes = training_sizes,\n",
    "                                                                    cv=5,\n",
    "                                                                    scoring='neg_mean_squared_error')\n",
    "training_mse_scores = -training_scores.mean(axis=1)\n",
    "validation_mse_scores = -validation_scores.mean(axis=1)\n",
    "\n",
    "#ploting the graph\n",
    "plt.plot(training_sizes, training_mse_scores, label=\"training mse\")\n",
    "plt.plot(training_sizes, validation_mse_scores, label=\"validation mse\")\n",
    "plt.legend()\n",
    "plt.ylim(0, 40)\n",
    "plt.show()"
   ]
  },
  {
   "cell_type": "code",
   "execution_count": 23,
   "metadata": {},
   "outputs": [],
   "source": [
    "#this is better, the training error are increase means model are less overfitting"
   ]
  },
  {
   "cell_type": "code",
   "execution_count": null,
   "metadata": {},
   "outputs": [],
   "source": []
  }
 ],
 "metadata": {
  "kernelspec": {
   "display_name": "Python 3",
   "language": "python",
   "name": "python3"
  },
  "language_info": {
   "codemirror_mode": {
    "name": "ipython",
    "version": 3
   },
   "file_extension": ".py",
   "mimetype": "text/x-python",
   "name": "python",
   "nbconvert_exporter": "python",
   "pygments_lexer": "ipython3",
   "version": "3.6.6"
  }
 },
 "nbformat": 4,
 "nbformat_minor": 2
}
