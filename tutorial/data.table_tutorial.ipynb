{
 "cells": [
  {
   "cell_type": "code",
   "execution_count": 1,
   "metadata": {},
   "outputs": [],
   "source": [
    "library(data.table)"
   ]
  },
  {
   "cell_type": "code",
   "execution_count": 2,
   "metadata": {},
   "outputs": [],
   "source": [
    "mydata = fread(\"https://github.com/arunsrinivasan/satrdays-workshop/raw/master/flights_2014.csv\")\n",
    "mydata = mydata[1: 1000]"
   ]
  },
  {
   "cell_type": "code",
   "execution_count": 6,
   "metadata": {
    "scrolled": true
   },
   "outputs": [],
   "source": [
    "shuffled_index = sample(1000)\n",
    "mydata = mydata[shuffled_index][1: 10]"
   ]
  },
  {
   "cell_type": "code",
   "execution_count": 7,
   "metadata": {},
   "outputs": [
    {
     "data": {
      "text/html": [
       "<table>\n",
       "<thead><tr><th scope=col>year</th><th scope=col>month</th><th scope=col>day</th><th scope=col>dep_time</th><th scope=col>dep_delay</th><th scope=col>arr_time</th><th scope=col>arr_delay</th><th scope=col>cancelled</th><th scope=col>carrier</th><th scope=col>tailnum</th><th scope=col>flight</th><th scope=col>origin</th><th scope=col>dest</th><th scope=col>air_time</th><th scope=col>distance</th><th scope=col>hour</th><th scope=col>min</th></tr></thead>\n",
       "<tbody>\n",
       "\t<tr><td>2014  </td><td>1     </td><td>1     </td><td>1030  </td><td> -5   </td><td>1211  </td><td>-30   </td><td>0     </td><td>EV    </td><td>N604QX</td><td>5210  </td><td>LGA   </td><td>STL   </td><td>148   </td><td> 888  </td><td>10    </td><td>30    </td></tr>\n",
       "\t<tr><td>2014  </td><td>1     </td><td>1     </td><td>1651  </td><td>231   </td><td>1755  </td><td>221   </td><td>0     </td><td>B6    </td><td>N239JB</td><td>  34  </td><td>JFK   </td><td>BTV   </td><td> 48   </td><td> 266  </td><td>16    </td><td>51    </td></tr>\n",
       "\t<tr><td>2014  </td><td>1     </td><td>1     </td><td>1905  </td><td> 18   </td><td>2214  </td><td>  7   </td><td>0     </td><td>B6    </td><td>N593JB</td><td> 263  </td><td>JFK   </td><td>SEA   </td><td>346   </td><td>2422  </td><td>19    </td><td> 5    </td></tr>\n",
       "\t<tr><td>2014  </td><td>1     </td><td>1     </td><td>1607  </td><td>  9   </td><td>1804  </td><td> 33   </td><td>0     </td><td>UA    </td><td>N33284</td><td>1554  </td><td>EWR   </td><td>ORD   </td><td>139   </td><td> 719  </td><td>16    </td><td> 7    </td></tr>\n",
       "\t<tr><td>2014  </td><td>1     </td><td>2     </td><td>2336  </td><td>101   </td><td> 416  </td><td>210   </td><td>0     </td><td>B6    </td><td>N587JB</td><td>2053  </td><td>JFK   </td><td>PBI   </td><td>165   </td><td>1028  </td><td>23    </td><td>36    </td></tr>\n",
       "\t<tr><td>2014  </td><td>1     </td><td>1     </td><td> 755  </td><td> -1   </td><td> 948  </td><td>-11   </td><td>0     </td><td>US    </td><td>N540UW</td><td>1733  </td><td>LGA   </td><td>CLT   </td><td> 88   </td><td> 544  </td><td> 7    </td><td>55    </td></tr>\n",
       "\t<tr><td>2014  </td><td>1     </td><td>1     </td><td>1010  </td><td>  1   </td><td>1307  </td><td>-15   </td><td>0     </td><td>UA    </td><td>N475UA</td><td> 472  </td><td>LGA   </td><td>IAH   </td><td>216   </td><td>1416  </td><td>10    </td><td>10    </td></tr>\n",
       "\t<tr><td>2014  </td><td>1     </td><td>1     </td><td>1242  </td><td> 73   </td><td>1531  </td><td> 45   </td><td>0     </td><td>UA    </td><td>N587UA</td><td> 785  </td><td>JFK   </td><td>LAX   </td><td>324   </td><td>2475  </td><td>12    </td><td>42    </td></tr>\n",
       "\t<tr><td>2014  </td><td>1     </td><td>1     </td><td>1929  </td><td> -1   </td><td>2107  </td><td> -8   </td><td>0     </td><td>MQ    </td><td>N532MQ</td><td>3535  </td><td>JFK   </td><td>CMH   </td><td> 78   </td><td> 483  </td><td>19    </td><td>29    </td></tr>\n",
       "\t<tr><td>2014  </td><td>1     </td><td>2     </td><td> 631  </td><td> 31   </td><td>1007  </td><td> 52   </td><td>0     </td><td>AA    </td><td>N3LBAA</td><td>1103  </td><td>LGA   </td><td>DFW   </td><td>244   </td><td>1389  </td><td> 6    </td><td>31    </td></tr>\n",
       "</tbody>\n",
       "</table>\n"
      ],
      "text/latex": [
       "\\begin{tabular}{r|lllllllllllllllll}\n",
       " year & month & day & dep\\_time & dep\\_delay & arr\\_time & arr\\_delay & cancelled & carrier & tailnum & flight & origin & dest & air\\_time & distance & hour & min\\\\\n",
       "\\hline\n",
       "\t 2014   & 1      & 1      & 1030   &  -5    & 1211   & -30    & 0      & EV     & N604QX & 5210   & LGA    & STL    & 148    &  888   & 10     & 30    \\\\\n",
       "\t 2014   & 1      & 1      & 1651   & 231    & 1755   & 221    & 0      & B6     & N239JB &   34   & JFK    & BTV    &  48    &  266   & 16     & 51    \\\\\n",
       "\t 2014   & 1      & 1      & 1905   &  18    & 2214   &   7    & 0      & B6     & N593JB &  263   & JFK    & SEA    & 346    & 2422   & 19     &  5    \\\\\n",
       "\t 2014   & 1      & 1      & 1607   &   9    & 1804   &  33    & 0      & UA     & N33284 & 1554   & EWR    & ORD    & 139    &  719   & 16     &  7    \\\\\n",
       "\t 2014   & 1      & 2      & 2336   & 101    &  416   & 210    & 0      & B6     & N587JB & 2053   & JFK    & PBI    & 165    & 1028   & 23     & 36    \\\\\n",
       "\t 2014   & 1      & 1      &  755   &  -1    &  948   & -11    & 0      & US     & N540UW & 1733   & LGA    & CLT    &  88    &  544   &  7     & 55    \\\\\n",
       "\t 2014   & 1      & 1      & 1010   &   1    & 1307   & -15    & 0      & UA     & N475UA &  472   & LGA    & IAH    & 216    & 1416   & 10     & 10    \\\\\n",
       "\t 2014   & 1      & 1      & 1242   &  73    & 1531   &  45    & 0      & UA     & N587UA &  785   & JFK    & LAX    & 324    & 2475   & 12     & 42    \\\\\n",
       "\t 2014   & 1      & 1      & 1929   &  -1    & 2107   &  -8    & 0      & MQ     & N532MQ & 3535   & JFK    & CMH    &  78    &  483   & 19     & 29    \\\\\n",
       "\t 2014   & 1      & 2      &  631   &  31    & 1007   &  52    & 0      & AA     & N3LBAA & 1103   & LGA    & DFW    & 244    & 1389   &  6     & 31    \\\\\n",
       "\\end{tabular}\n"
      ],
      "text/markdown": [
       "\n",
       "year | month | day | dep_time | dep_delay | arr_time | arr_delay | cancelled | carrier | tailnum | flight | origin | dest | air_time | distance | hour | min | \n",
       "|---|---|---|---|---|---|---|---|---|---|\n",
       "| 2014   | 1      | 1      | 1030   |  -5    | 1211   | -30    | 0      | EV     | N604QX | 5210   | LGA    | STL    | 148    |  888   | 10     | 30     | \n",
       "| 2014   | 1      | 1      | 1651   | 231    | 1755   | 221    | 0      | B6     | N239JB |   34   | JFK    | BTV    |  48    |  266   | 16     | 51     | \n",
       "| 2014   | 1      | 1      | 1905   |  18    | 2214   |   7    | 0      | B6     | N593JB |  263   | JFK    | SEA    | 346    | 2422   | 19     |  5     | \n",
       "| 2014   | 1      | 1      | 1607   |   9    | 1804   |  33    | 0      | UA     | N33284 | 1554   | EWR    | ORD    | 139    |  719   | 16     |  7     | \n",
       "| 2014   | 1      | 2      | 2336   | 101    |  416   | 210    | 0      | B6     | N587JB | 2053   | JFK    | PBI    | 165    | 1028   | 23     | 36     | \n",
       "| 2014   | 1      | 1      |  755   |  -1    |  948   | -11    | 0      | US     | N540UW | 1733   | LGA    | CLT    |  88    |  544   |  7     | 55     | \n",
       "| 2014   | 1      | 1      | 1010   |   1    | 1307   | -15    | 0      | UA     | N475UA |  472   | LGA    | IAH    | 216    | 1416   | 10     | 10     | \n",
       "| 2014   | 1      | 1      | 1242   |  73    | 1531   |  45    | 0      | UA     | N587UA |  785   | JFK    | LAX    | 324    | 2475   | 12     | 42     | \n",
       "| 2014   | 1      | 1      | 1929   |  -1    | 2107   |  -8    | 0      | MQ     | N532MQ | 3535   | JFK    | CMH    |  78    |  483   | 19     | 29     | \n",
       "| 2014   | 1      | 2      |  631   |  31    | 1007   |  52    | 0      | AA     | N3LBAA | 1103   | LGA    | DFW    | 244    | 1389   |  6     | 31     | \n",
       "\n",
       "\n"
      ],
      "text/plain": [
       "   year month day dep_time dep_delay arr_time arr_delay cancelled carrier\n",
       "1  2014 1     1   1030      -5       1211     -30       0         EV     \n",
       "2  2014 1     1   1651     231       1755     221       0         B6     \n",
       "3  2014 1     1   1905      18       2214       7       0         B6     \n",
       "4  2014 1     1   1607       9       1804      33       0         UA     \n",
       "5  2014 1     2   2336     101        416     210       0         B6     \n",
       "6  2014 1     1    755      -1        948     -11       0         US     \n",
       "7  2014 1     1   1010       1       1307     -15       0         UA     \n",
       "8  2014 1     1   1242      73       1531      45       0         UA     \n",
       "9  2014 1     1   1929      -1       2107      -8       0         MQ     \n",
       "10 2014 1     2    631      31       1007      52       0         AA     \n",
       "   tailnum flight origin dest air_time distance hour min\n",
       "1  N604QX  5210   LGA    STL  148       888     10   30 \n",
       "2  N239JB    34   JFK    BTV   48       266     16   51 \n",
       "3  N593JB   263   JFK    SEA  346      2422     19    5 \n",
       "4  N33284  1554   EWR    ORD  139       719     16    7 \n",
       "5  N587JB  2053   JFK    PBI  165      1028     23   36 \n",
       "6  N540UW  1733   LGA    CLT   88       544      7   55 \n",
       "7  N475UA   472   LGA    IAH  216      1416     10   10 \n",
       "8  N587UA   785   JFK    LAX  324      2475     12   42 \n",
       "9  N532MQ  3535   JFK    CMH   78       483     19   29 \n",
       "10 N3LBAA  1103   LGA    DFW  244      1389      6   31 "
      ]
     },
     "metadata": {},
     "output_type": "display_data"
    }
   ],
   "source": [
    "mydata"
   ]
  },
  {
   "cell_type": "code",
   "execution_count": 8,
   "metadata": {},
   "outputs": [
    {
     "data": {
      "text/html": [
       "<ol class=list-inline>\n",
       "\t<li>'year'</li>\n",
       "\t<li>'month'</li>\n",
       "\t<li>'day'</li>\n",
       "\t<li>'dep_time'</li>\n",
       "\t<li>'dep_delay'</li>\n",
       "\t<li>'arr_time'</li>\n",
       "\t<li>'arr_delay'</li>\n",
       "\t<li>'cancelled'</li>\n",
       "\t<li>'carrier'</li>\n",
       "\t<li>'tailnum'</li>\n",
       "\t<li>'flight'</li>\n",
       "\t<li>'origin'</li>\n",
       "\t<li>'dest'</li>\n",
       "\t<li>'air_time'</li>\n",
       "\t<li>'distance'</li>\n",
       "\t<li>'hour'</li>\n",
       "\t<li>'min'</li>\n",
       "</ol>\n"
      ],
      "text/latex": [
       "\\begin{enumerate*}\n",
       "\\item 'year'\n",
       "\\item 'month'\n",
       "\\item 'day'\n",
       "\\item 'dep\\_time'\n",
       "\\item 'dep\\_delay'\n",
       "\\item 'arr\\_time'\n",
       "\\item 'arr\\_delay'\n",
       "\\item 'cancelled'\n",
       "\\item 'carrier'\n",
       "\\item 'tailnum'\n",
       "\\item 'flight'\n",
       "\\item 'origin'\n",
       "\\item 'dest'\n",
       "\\item 'air\\_time'\n",
       "\\item 'distance'\n",
       "\\item 'hour'\n",
       "\\item 'min'\n",
       "\\end{enumerate*}\n"
      ],
      "text/markdown": [
       "1. 'year'\n",
       "2. 'month'\n",
       "3. 'day'\n",
       "4. 'dep_time'\n",
       "5. 'dep_delay'\n",
       "6. 'arr_time'\n",
       "7. 'arr_delay'\n",
       "8. 'cancelled'\n",
       "9. 'carrier'\n",
       "10. 'tailnum'\n",
       "11. 'flight'\n",
       "12. 'origin'\n",
       "13. 'dest'\n",
       "14. 'air_time'\n",
       "15. 'distance'\n",
       "16. 'hour'\n",
       "17. 'min'\n",
       "\n",
       "\n"
      ],
      "text/plain": [
       " [1] \"year\"      \"month\"     \"day\"       \"dep_time\"  \"dep_delay\" \"arr_time\" \n",
       " [7] \"arr_delay\" \"cancelled\" \"carrier\"   \"tailnum\"   \"flight\"    \"origin\"   \n",
       "[13] \"dest\"      \"air_time\"  \"distance\"  \"hour\"      \"min\"      "
      ]
     },
     "metadata": {},
     "output_type": "display_data"
    }
   ],
   "source": [
    "names(mydata)"
   ]
  },
  {
   "cell_type": "code",
   "execution_count": 11,
   "metadata": {},
   "outputs": [
    {
     "data": {
      "text/html": [
       "<ol class=list-inline>\n",
       "\t<li>'LGA'</li>\n",
       "\t<li>'JFK'</li>\n",
       "\t<li>'JFK'</li>\n",
       "\t<li>'EWR'</li>\n",
       "\t<li>'JFK'</li>\n",
       "\t<li>'LGA'</li>\n",
       "\t<li>'LGA'</li>\n",
       "\t<li>'JFK'</li>\n",
       "\t<li>'JFK'</li>\n",
       "\t<li>'LGA'</li>\n",
       "</ol>\n"
      ],
      "text/latex": [
       "\\begin{enumerate*}\n",
       "\\item 'LGA'\n",
       "\\item 'JFK'\n",
       "\\item 'JFK'\n",
       "\\item 'EWR'\n",
       "\\item 'JFK'\n",
       "\\item 'LGA'\n",
       "\\item 'LGA'\n",
       "\\item 'JFK'\n",
       "\\item 'JFK'\n",
       "\\item 'LGA'\n",
       "\\end{enumerate*}\n"
      ],
      "text/markdown": [
       "1. 'LGA'\n",
       "2. 'JFK'\n",
       "3. 'JFK'\n",
       "4. 'EWR'\n",
       "5. 'JFK'\n",
       "6. 'LGA'\n",
       "7. 'LGA'\n",
       "8. 'JFK'\n",
       "9. 'JFK'\n",
       "10. 'LGA'\n",
       "\n",
       "\n"
      ],
      "text/plain": [
       " [1] \"LGA\" \"JFK\" \"JFK\" \"EWR\" \"JFK\" \"LGA\" \"LGA\" \"JFK\" \"JFK\" \"LGA\""
      ]
     },
     "metadata": {},
     "output_type": "display_data"
    }
   ],
   "source": [
    "#select single column by name\n",
    "mydata[, origin] #return vector"
   ]
  },
  {
   "cell_type": "code",
   "execution_count": 16,
   "metadata": {},
   "outputs": [
    {
     "data": {
      "text/html": [
       "<table>\n",
       "<thead><tr><th scope=col>dep_time</th></tr></thead>\n",
       "<tbody>\n",
       "\t<tr><td>1030</td></tr>\n",
       "\t<tr><td>1651</td></tr>\n",
       "\t<tr><td>1905</td></tr>\n",
       "\t<tr><td>1607</td></tr>\n",
       "\t<tr><td>2336</td></tr>\n",
       "\t<tr><td> 755</td></tr>\n",
       "\t<tr><td>1010</td></tr>\n",
       "\t<tr><td>1242</td></tr>\n",
       "\t<tr><td>1929</td></tr>\n",
       "\t<tr><td> 631</td></tr>\n",
       "</tbody>\n",
       "</table>\n"
      ],
      "text/latex": [
       "\\begin{tabular}{r|l}\n",
       " dep\\_time\\\\\n",
       "\\hline\n",
       "\t 1030\\\\\n",
       "\t 1651\\\\\n",
       "\t 1905\\\\\n",
       "\t 1607\\\\\n",
       "\t 2336\\\\\n",
       "\t  755\\\\\n",
       "\t 1010\\\\\n",
       "\t 1242\\\\\n",
       "\t 1929\\\\\n",
       "\t  631\\\\\n",
       "\\end{tabular}\n"
      ],
      "text/markdown": [
       "\n",
       "dep_time | \n",
       "|---|---|---|---|---|---|---|---|---|---|\n",
       "| 1030 | \n",
       "| 1651 | \n",
       "| 1905 | \n",
       "| 1607 | \n",
       "| 2336 | \n",
       "|  755 | \n",
       "| 1010 | \n",
       "| 1242 | \n",
       "| 1929 | \n",
       "|  631 | \n",
       "\n",
       "\n"
      ],
      "text/plain": [
       "   dep_time\n",
       "1  1030    \n",
       "2  1651    \n",
       "3  1905    \n",
       "4  1607    \n",
       "5  2336    \n",
       "6   755    \n",
       "7  1010    \n",
       "8  1242    \n",
       "9  1929    \n",
       "10  631    "
      ]
     },
     "metadata": {},
     "output_type": "display_data"
    }
   ],
   "source": [
    "#select single column by column position\n",
    "mydata[, 4]"
   ]
  },
  {
   "cell_type": "code",
   "execution_count": 18,
   "metadata": {},
   "outputs": [
    {
     "data": {
      "text/html": [
       "<table>\n",
       "<thead><tr><th scope=col>origin</th><th scope=col>year</th><th scope=col>month</th><th scope=col>hour</th></tr></thead>\n",
       "<tbody>\n",
       "\t<tr><td>LGA </td><td>2014</td><td>1   </td><td>10  </td></tr>\n",
       "\t<tr><td>JFK </td><td>2014</td><td>1   </td><td>16  </td></tr>\n",
       "\t<tr><td>JFK </td><td>2014</td><td>1   </td><td>19  </td></tr>\n",
       "\t<tr><td>EWR </td><td>2014</td><td>1   </td><td>16  </td></tr>\n",
       "\t<tr><td>JFK </td><td>2014</td><td>1   </td><td>23  </td></tr>\n",
       "\t<tr><td>LGA </td><td>2014</td><td>1   </td><td> 7  </td></tr>\n",
       "\t<tr><td>LGA </td><td>2014</td><td>1   </td><td>10  </td></tr>\n",
       "\t<tr><td>JFK </td><td>2014</td><td>1   </td><td>12  </td></tr>\n",
       "\t<tr><td>JFK </td><td>2014</td><td>1   </td><td>19  </td></tr>\n",
       "\t<tr><td>LGA </td><td>2014</td><td>1   </td><td> 6  </td></tr>\n",
       "</tbody>\n",
       "</table>\n"
      ],
      "text/latex": [
       "\\begin{tabular}{r|llll}\n",
       " origin & year & month & hour\\\\\n",
       "\\hline\n",
       "\t LGA  & 2014 & 1    & 10  \\\\\n",
       "\t JFK  & 2014 & 1    & 16  \\\\\n",
       "\t JFK  & 2014 & 1    & 19  \\\\\n",
       "\t EWR  & 2014 & 1    & 16  \\\\\n",
       "\t JFK  & 2014 & 1    & 23  \\\\\n",
       "\t LGA  & 2014 & 1    &  7  \\\\\n",
       "\t LGA  & 2014 & 1    & 10  \\\\\n",
       "\t JFK  & 2014 & 1    & 12  \\\\\n",
       "\t JFK  & 2014 & 1    & 19  \\\\\n",
       "\t LGA  & 2014 & 1    &  6  \\\\\n",
       "\\end{tabular}\n"
      ],
      "text/markdown": [
       "\n",
       "origin | year | month | hour | \n",
       "|---|---|---|---|---|---|---|---|---|---|\n",
       "| LGA  | 2014 | 1    | 10   | \n",
       "| JFK  | 2014 | 1    | 16   | \n",
       "| JFK  | 2014 | 1    | 19   | \n",
       "| EWR  | 2014 | 1    | 16   | \n",
       "| JFK  | 2014 | 1    | 23   | \n",
       "| LGA  | 2014 | 1    |  7   | \n",
       "| LGA  | 2014 | 1    | 10   | \n",
       "| JFK  | 2014 | 1    | 12   | \n",
       "| JFK  | 2014 | 1    | 19   | \n",
       "| LGA  | 2014 | 1    |  6   | \n",
       "\n",
       "\n"
      ],
      "text/plain": [
       "   origin year month hour\n",
       "1  LGA    2014 1     10  \n",
       "2  JFK    2014 1     16  \n",
       "3  JFK    2014 1     19  \n",
       "4  EWR    2014 1     16  \n",
       "5  JFK    2014 1     23  \n",
       "6  LGA    2014 1      7  \n",
       "7  LGA    2014 1     10  \n",
       "8  JFK    2014 1     12  \n",
       "9  JFK    2014 1     19  \n",
       "10 LGA    2014 1      6  "
      ]
     },
     "metadata": {},
     "output_type": "display_data"
    }
   ],
   "source": [
    "#select mutiple columns by columns name\n",
    "mydata[, .(origin, year, month, hour)]"
   ]
  },
  {
   "cell_type": "code",
   "execution_count": 20,
   "metadata": {},
   "outputs": [
    {
     "data": {
      "text/html": [
       "<table>\n",
       "<thead><tr><th scope=col>month</th><th scope=col>day</th><th scope=col>dep_time</th></tr></thead>\n",
       "<tbody>\n",
       "\t<tr><td>1   </td><td>1   </td><td>1030</td></tr>\n",
       "\t<tr><td>1   </td><td>1   </td><td>1651</td></tr>\n",
       "\t<tr><td>1   </td><td>1   </td><td>1905</td></tr>\n",
       "\t<tr><td>1   </td><td>1   </td><td>1607</td></tr>\n",
       "\t<tr><td>1   </td><td>2   </td><td>2336</td></tr>\n",
       "\t<tr><td>1   </td><td>1   </td><td> 755</td></tr>\n",
       "\t<tr><td>1   </td><td>1   </td><td>1010</td></tr>\n",
       "\t<tr><td>1   </td><td>1   </td><td>1242</td></tr>\n",
       "\t<tr><td>1   </td><td>1   </td><td>1929</td></tr>\n",
       "\t<tr><td>1   </td><td>2   </td><td> 631</td></tr>\n",
       "</tbody>\n",
       "</table>\n"
      ],
      "text/latex": [
       "\\begin{tabular}{r|lll}\n",
       " month & day & dep\\_time\\\\\n",
       "\\hline\n",
       "\t 1    & 1    & 1030\\\\\n",
       "\t 1    & 1    & 1651\\\\\n",
       "\t 1    & 1    & 1905\\\\\n",
       "\t 1    & 1    & 1607\\\\\n",
       "\t 1    & 2    & 2336\\\\\n",
       "\t 1    & 1    &  755\\\\\n",
       "\t 1    & 1    & 1010\\\\\n",
       "\t 1    & 1    & 1242\\\\\n",
       "\t 1    & 1    & 1929\\\\\n",
       "\t 1    & 2    &  631\\\\\n",
       "\\end{tabular}\n"
      ],
      "text/markdown": [
       "\n",
       "month | day | dep_time | \n",
       "|---|---|---|---|---|---|---|---|---|---|\n",
       "| 1    | 1    | 1030 | \n",
       "| 1    | 1    | 1651 | \n",
       "| 1    | 1    | 1905 | \n",
       "| 1    | 1    | 1607 | \n",
       "| 1    | 2    | 2336 | \n",
       "| 1    | 1    |  755 | \n",
       "| 1    | 1    | 1010 | \n",
       "| 1    | 1    | 1242 | \n",
       "| 1    | 1    | 1929 | \n",
       "| 1    | 2    |  631 | \n",
       "\n",
       "\n"
      ],
      "text/plain": [
       "   month day dep_time\n",
       "1  1     1   1030    \n",
       "2  1     1   1651    \n",
       "3  1     1   1905    \n",
       "4  1     1   1607    \n",
       "5  1     2   2336    \n",
       "6  1     1    755    \n",
       "7  1     1   1010    \n",
       "8  1     1   1242    \n",
       "9  1     1   1929    \n",
       "10 1     2    631    "
      ]
     },
     "metadata": {},
     "output_type": "display_data"
    }
   ],
   "source": [
    "mydata[, 2:4]"
   ]
  },
  {
   "cell_type": "code",
   "execution_count": 22,
   "metadata": {},
   "outputs": [
    {
     "data": {
      "text/html": [
       "<table>\n",
       "<thead><tr><th scope=col>year</th><th scope=col>month</th><th scope=col>day</th><th scope=col>cancelled</th><th scope=col>carrier</th><th scope=col>tailnum</th><th scope=col>flight</th><th scope=col>dest</th><th scope=col>air_time</th><th scope=col>distance</th><th scope=col>hour</th><th scope=col>min</th></tr></thead>\n",
       "<tbody>\n",
       "\t<tr><td>2014  </td><td>1     </td><td>1     </td><td>0     </td><td>EV    </td><td>N604QX</td><td>5210  </td><td>STL   </td><td>148   </td><td> 888  </td><td>10    </td><td>30    </td></tr>\n",
       "\t<tr><td>2014  </td><td>1     </td><td>1     </td><td>0     </td><td>B6    </td><td>N239JB</td><td>  34  </td><td>BTV   </td><td> 48   </td><td> 266  </td><td>16    </td><td>51    </td></tr>\n",
       "\t<tr><td>2014  </td><td>1     </td><td>1     </td><td>0     </td><td>B6    </td><td>N593JB</td><td> 263  </td><td>SEA   </td><td>346   </td><td>2422  </td><td>19    </td><td> 5    </td></tr>\n",
       "\t<tr><td>2014  </td><td>1     </td><td>1     </td><td>0     </td><td>UA    </td><td>N33284</td><td>1554  </td><td>ORD   </td><td>139   </td><td> 719  </td><td>16    </td><td> 7    </td></tr>\n",
       "\t<tr><td>2014  </td><td>1     </td><td>2     </td><td>0     </td><td>B6    </td><td>N587JB</td><td>2053  </td><td>PBI   </td><td>165   </td><td>1028  </td><td>23    </td><td>36    </td></tr>\n",
       "\t<tr><td>2014  </td><td>1     </td><td>1     </td><td>0     </td><td>US    </td><td>N540UW</td><td>1733  </td><td>CLT   </td><td> 88   </td><td> 544  </td><td> 7    </td><td>55    </td></tr>\n",
       "\t<tr><td>2014  </td><td>1     </td><td>1     </td><td>0     </td><td>UA    </td><td>N475UA</td><td> 472  </td><td>IAH   </td><td>216   </td><td>1416  </td><td>10    </td><td>10    </td></tr>\n",
       "\t<tr><td>2014  </td><td>1     </td><td>1     </td><td>0     </td><td>UA    </td><td>N587UA</td><td> 785  </td><td>LAX   </td><td>324   </td><td>2475  </td><td>12    </td><td>42    </td></tr>\n",
       "\t<tr><td>2014  </td><td>1     </td><td>1     </td><td>0     </td><td>MQ    </td><td>N532MQ</td><td>3535  </td><td>CMH   </td><td> 78   </td><td> 483  </td><td>19    </td><td>29    </td></tr>\n",
       "\t<tr><td>2014  </td><td>1     </td><td>2     </td><td>0     </td><td>AA    </td><td>N3LBAA</td><td>1103  </td><td>DFW   </td><td>244   </td><td>1389  </td><td> 6    </td><td>31    </td></tr>\n",
       "</tbody>\n",
       "</table>\n"
      ],
      "text/latex": [
       "\\begin{tabular}{r|llllllllllll}\n",
       " year & month & day & cancelled & carrier & tailnum & flight & dest & air\\_time & distance & hour & min\\\\\n",
       "\\hline\n",
       "\t 2014   & 1      & 1      & 0      & EV     & N604QX & 5210   & STL    & 148    &  888   & 10     & 30    \\\\\n",
       "\t 2014   & 1      & 1      & 0      & B6     & N239JB &   34   & BTV    &  48    &  266   & 16     & 51    \\\\\n",
       "\t 2014   & 1      & 1      & 0      & B6     & N593JB &  263   & SEA    & 346    & 2422   & 19     &  5    \\\\\n",
       "\t 2014   & 1      & 1      & 0      & UA     & N33284 & 1554   & ORD    & 139    &  719   & 16     &  7    \\\\\n",
       "\t 2014   & 1      & 2      & 0      & B6     & N587JB & 2053   & PBI    & 165    & 1028   & 23     & 36    \\\\\n",
       "\t 2014   & 1      & 1      & 0      & US     & N540UW & 1733   & CLT    &  88    &  544   &  7     & 55    \\\\\n",
       "\t 2014   & 1      & 1      & 0      & UA     & N475UA &  472   & IAH    & 216    & 1416   & 10     & 10    \\\\\n",
       "\t 2014   & 1      & 1      & 0      & UA     & N587UA &  785   & LAX    & 324    & 2475   & 12     & 42    \\\\\n",
       "\t 2014   & 1      & 1      & 0      & MQ     & N532MQ & 3535   & CMH    &  78    &  483   & 19     & 29    \\\\\n",
       "\t 2014   & 1      & 2      & 0      & AA     & N3LBAA & 1103   & DFW    & 244    & 1389   &  6     & 31    \\\\\n",
       "\\end{tabular}\n"
      ],
      "text/markdown": [
       "\n",
       "year | month | day | cancelled | carrier | tailnum | flight | dest | air_time | distance | hour | min | \n",
       "|---|---|---|---|---|---|---|---|---|---|\n",
       "| 2014   | 1      | 1      | 0      | EV     | N604QX | 5210   | STL    | 148    |  888   | 10     | 30     | \n",
       "| 2014   | 1      | 1      | 0      | B6     | N239JB |   34   | BTV    |  48    |  266   | 16     | 51     | \n",
       "| 2014   | 1      | 1      | 0      | B6     | N593JB |  263   | SEA    | 346    | 2422   | 19     |  5     | \n",
       "| 2014   | 1      | 1      | 0      | UA     | N33284 | 1554   | ORD    | 139    |  719   | 16     |  7     | \n",
       "| 2014   | 1      | 2      | 0      | B6     | N587JB | 2053   | PBI    | 165    | 1028   | 23     | 36     | \n",
       "| 2014   | 1      | 1      | 0      | US     | N540UW | 1733   | CLT    |  88    |  544   |  7     | 55     | \n",
       "| 2014   | 1      | 1      | 0      | UA     | N475UA |  472   | IAH    | 216    | 1416   | 10     | 10     | \n",
       "| 2014   | 1      | 1      | 0      | UA     | N587UA |  785   | LAX    | 324    | 2475   | 12     | 42     | \n",
       "| 2014   | 1      | 1      | 0      | MQ     | N532MQ | 3535   | CMH    |  78    |  483   | 19     | 29     | \n",
       "| 2014   | 1      | 2      | 0      | AA     | N3LBAA | 1103   | DFW    | 244    | 1389   |  6     | 31     | \n",
       "\n",
       "\n"
      ],
      "text/plain": [
       "   year month day cancelled carrier tailnum flight dest air_time distance hour\n",
       "1  2014 1     1   0         EV      N604QX  5210   STL  148       888     10  \n",
       "2  2014 1     1   0         B6      N239JB    34   BTV   48       266     16  \n",
       "3  2014 1     1   0         B6      N593JB   263   SEA  346      2422     19  \n",
       "4  2014 1     1   0         UA      N33284  1554   ORD  139       719     16  \n",
       "5  2014 1     2   0         B6      N587JB  2053   PBI  165      1028     23  \n",
       "6  2014 1     1   0         US      N540UW  1733   CLT   88       544      7  \n",
       "7  2014 1     1   0         UA      N475UA   472   IAH  216      1416     10  \n",
       "8  2014 1     1   0         UA      N587UA   785   LAX  324      2475     12  \n",
       "9  2014 1     1   0         MQ      N532MQ  3535   CMH   78       483     19  \n",
       "10 2014 1     2   0         AA      N3LBAA  1103   DFW  244      1389      6  \n",
       "   min\n",
       "1  30 \n",
       "2  51 \n",
       "3   5 \n",
       "4   7 \n",
       "5  36 \n",
       "6  55 \n",
       "7  10 \n",
       "8  42 \n",
       "9  29 \n",
       "10 31 "
      ]
     },
     "metadata": {},
     "output_type": "display_data"
    }
   ],
   "source": [
    "#filter out some columns\n",
    "mydata[, !c('origin', 'dep_time', 'dep_delay', 'arr_time', 'arr_delay')]"
   ]
  },
  {
   "cell_type": "code",
   "execution_count": 25,
   "metadata": {},
   "outputs": [
    {
     "data": {
      "text/html": [
       "<table>\n",
       "<thead><tr><th scope=col>dep_time</th><th scope=col>dep_delay</th></tr></thead>\n",
       "<tbody>\n",
       "\t<tr><td>1030</td><td> -5 </td></tr>\n",
       "\t<tr><td>1651</td><td>231 </td></tr>\n",
       "\t<tr><td>1905</td><td> 18 </td></tr>\n",
       "\t<tr><td>1607</td><td>  9 </td></tr>\n",
       "\t<tr><td>2336</td><td>101 </td></tr>\n",
       "\t<tr><td> 755</td><td> -1 </td></tr>\n",
       "\t<tr><td>1010</td><td>  1 </td></tr>\n",
       "\t<tr><td>1242</td><td> 73 </td></tr>\n",
       "\t<tr><td>1929</td><td> -1 </td></tr>\n",
       "\t<tr><td> 631</td><td> 31 </td></tr>\n",
       "</tbody>\n",
       "</table>\n"
      ],
      "text/latex": [
       "\\begin{tabular}{r|ll}\n",
       " dep\\_time & dep\\_delay\\\\\n",
       "\\hline\n",
       "\t 1030 &  -5 \\\\\n",
       "\t 1651 & 231 \\\\\n",
       "\t 1905 &  18 \\\\\n",
       "\t 1607 &   9 \\\\\n",
       "\t 2336 & 101 \\\\\n",
       "\t  755 &  -1 \\\\\n",
       "\t 1010 &   1 \\\\\n",
       "\t 1242 &  73 \\\\\n",
       "\t 1929 &  -1 \\\\\n",
       "\t  631 &  31 \\\\\n",
       "\\end{tabular}\n"
      ],
      "text/markdown": [
       "\n",
       "dep_time | dep_delay | \n",
       "|---|---|---|---|---|---|---|---|---|---|\n",
       "| 1030 |  -5  | \n",
       "| 1651 | 231  | \n",
       "| 1905 |  18  | \n",
       "| 1607 |   9  | \n",
       "| 2336 | 101  | \n",
       "|  755 |  -1  | \n",
       "| 1010 |   1  | \n",
       "| 1242 |  73  | \n",
       "| 1929 |  -1  | \n",
       "|  631 |  31  | \n",
       "\n",
       "\n"
      ],
      "text/plain": [
       "   dep_time dep_delay\n",
       "1  1030      -5      \n",
       "2  1651     231      \n",
       "3  1905      18      \n",
       "4  1607       9      \n",
       "5  2336     101      \n",
       "6   755      -1      \n",
       "7  1010       1      \n",
       "8  1242      73      \n",
       "9  1929      -1      \n",
       "10  631      31      "
      ]
     },
     "metadata": {},
     "output_type": "display_data"
    }
   ],
   "source": [
    "#selecto columns that contain 'dep'\n",
    "mydata[, names(mydata) %like% 'dep', with=FALSE]"
   ]
  },
  {
   "cell_type": "code",
   "execution_count": 29,
   "metadata": {},
   "outputs": [
    {
     "data": {
      "text/html": [
       "<table>\n",
       "<thead><tr><th scope=col>year</th><th scope=col>month</th><th scope=col>day</th><th scope=col>dep_time</th><th scope=col>dep_delay</th><th scope=col>arr_time</th><th scope=col>arr_delay</th><th scope=col>cancelled</th><th scope=col>carrier</th><th scope=col>tailnum</th><th scope=col>flight</th><th scope=col>origin</th><th scope=col>dest</th><th scope=col>air_time</th><th scope=col>distance</th><th scope=col>hour</th><th scope=col>min</th></tr></thead>\n",
       "<tbody>\n",
       "\t<tr><td>2014  </td><td>1     </td><td>1     </td><td>1651  </td><td>231   </td><td>1755  </td><td>221   </td><td>0     </td><td>B6    </td><td>N239JB</td><td>  34  </td><td>JFK   </td><td>BTV   </td><td> 48   </td><td> 266  </td><td>16    </td><td>51    </td></tr>\n",
       "\t<tr><td>2014  </td><td>1     </td><td>1     </td><td>1905  </td><td> 18   </td><td>2214  </td><td>  7   </td><td>0     </td><td>B6    </td><td>N593JB</td><td> 263  </td><td>JFK   </td><td>SEA   </td><td>346   </td><td>2422  </td><td>19    </td><td> 5    </td></tr>\n",
       "\t<tr><td>2014  </td><td>1     </td><td>2     </td><td>2336  </td><td>101   </td><td> 416  </td><td>210   </td><td>0     </td><td>B6    </td><td>N587JB</td><td>2053  </td><td>JFK   </td><td>PBI   </td><td>165   </td><td>1028  </td><td>23    </td><td>36    </td></tr>\n",
       "\t<tr><td>2014  </td><td>1     </td><td>1     </td><td>1242  </td><td> 73   </td><td>1531  </td><td> 45   </td><td>0     </td><td>UA    </td><td>N587UA</td><td> 785  </td><td>JFK   </td><td>LAX   </td><td>324   </td><td>2475  </td><td>12    </td><td>42    </td></tr>\n",
       "\t<tr><td>2014  </td><td>1     </td><td>1     </td><td>1929  </td><td> -1   </td><td>2107  </td><td> -8   </td><td>0     </td><td>MQ    </td><td>N532MQ</td><td>3535  </td><td>JFK   </td><td>CMH   </td><td> 78   </td><td> 483  </td><td>19    </td><td>29    </td></tr>\n",
       "</tbody>\n",
       "</table>\n"
      ],
      "text/latex": [
       "\\begin{tabular}{r|lllllllllllllllll}\n",
       " year & month & day & dep\\_time & dep\\_delay & arr\\_time & arr\\_delay & cancelled & carrier & tailnum & flight & origin & dest & air\\_time & distance & hour & min\\\\\n",
       "\\hline\n",
       "\t 2014   & 1      & 1      & 1651   & 231    & 1755   & 221    & 0      & B6     & N239JB &   34   & JFK    & BTV    &  48    &  266   & 16     & 51    \\\\\n",
       "\t 2014   & 1      & 1      & 1905   &  18    & 2214   &   7    & 0      & B6     & N593JB &  263   & JFK    & SEA    & 346    & 2422   & 19     &  5    \\\\\n",
       "\t 2014   & 1      & 2      & 2336   & 101    &  416   & 210    & 0      & B6     & N587JB & 2053   & JFK    & PBI    & 165    & 1028   & 23     & 36    \\\\\n",
       "\t 2014   & 1      & 1      & 1242   &  73    & 1531   &  45    & 0      & UA     & N587UA &  785   & JFK    & LAX    & 324    & 2475   & 12     & 42    \\\\\n",
       "\t 2014   & 1      & 1      & 1929   &  -1    & 2107   &  -8    & 0      & MQ     & N532MQ & 3535   & JFK    & CMH    &  78    &  483   & 19     & 29    \\\\\n",
       "\\end{tabular}\n"
      ],
      "text/markdown": [
       "\n",
       "year | month | day | dep_time | dep_delay | arr_time | arr_delay | cancelled | carrier | tailnum | flight | origin | dest | air_time | distance | hour | min | \n",
       "|---|---|---|---|---|\n",
       "| 2014   | 1      | 1      | 1651   | 231    | 1755   | 221    | 0      | B6     | N239JB |   34   | JFK    | BTV    |  48    |  266   | 16     | 51     | \n",
       "| 2014   | 1      | 1      | 1905   |  18    | 2214   |   7    | 0      | B6     | N593JB |  263   | JFK    | SEA    | 346    | 2422   | 19     |  5     | \n",
       "| 2014   | 1      | 2      | 2336   | 101    |  416   | 210    | 0      | B6     | N587JB | 2053   | JFK    | PBI    | 165    | 1028   | 23     | 36     | \n",
       "| 2014   | 1      | 1      | 1242   |  73    | 1531   |  45    | 0      | UA     | N587UA |  785   | JFK    | LAX    | 324    | 2475   | 12     | 42     | \n",
       "| 2014   | 1      | 1      | 1929   |  -1    | 2107   |  -8    | 0      | MQ     | N532MQ | 3535   | JFK    | CMH    |  78    |  483   | 19     | 29     | \n",
       "\n",
       "\n"
      ],
      "text/plain": [
       "  year month day dep_time dep_delay arr_time arr_delay cancelled carrier\n",
       "1 2014 1     1   1651     231       1755     221       0         B6     \n",
       "2 2014 1     1   1905      18       2214       7       0         B6     \n",
       "3 2014 1     2   2336     101        416     210       0         B6     \n",
       "4 2014 1     1   1242      73       1531      45       0         UA     \n",
       "5 2014 1     1   1929      -1       2107      -8       0         MQ     \n",
       "  tailnum flight origin dest air_time distance hour min\n",
       "1 N239JB    34   JFK    BTV   48       266     16   51 \n",
       "2 N593JB   263   JFK    SEA  346      2422     19    5 \n",
       "3 N587JB  2053   JFK    PBI  165      1028     23   36 \n",
       "4 N587UA   785   JFK    LAX  324      2475     12   42 \n",
       "5 N532MQ  3535   JFK    CMH   78       483     19   29 "
      ]
     },
     "metadata": {},
     "output_type": "display_data"
    }
   ],
   "source": [
    "#filter or subsetting data\n",
    "#select flignt that start from JFK\n",
    "mydata[origin == 'JFK']"
   ]
  },
  {
   "cell_type": "code",
   "execution_count": 31,
   "metadata": {},
   "outputs": [
    {
     "data": {
      "text/html": [
       "<table>\n",
       "<thead><tr><th scope=col>year</th><th scope=col>month</th><th scope=col>day</th><th scope=col>dep_time</th><th scope=col>dep_delay</th><th scope=col>arr_time</th><th scope=col>arr_delay</th><th scope=col>cancelled</th><th scope=col>carrier</th><th scope=col>tailnum</th><th scope=col>flight</th><th scope=col>origin</th><th scope=col>dest</th><th scope=col>air_time</th><th scope=col>distance</th><th scope=col>hour</th><th scope=col>min</th></tr></thead>\n",
       "<tbody>\n",
       "\t<tr><td>2014  </td><td>1     </td><td>1     </td><td>1905  </td><td>18    </td><td>2214  </td><td>7     </td><td>0     </td><td>B6    </td><td>N593JB</td><td>263   </td><td>JFK   </td><td>SEA   </td><td>346   </td><td>2422  </td><td>19    </td><td>5     </td></tr>\n",
       "</tbody>\n",
       "</table>\n"
      ],
      "text/latex": [
       "\\begin{tabular}{r|lllllllllllllllll}\n",
       " year & month & day & dep\\_time & dep\\_delay & arr\\_time & arr\\_delay & cancelled & carrier & tailnum & flight & origin & dest & air\\_time & distance & hour & min\\\\\n",
       "\\hline\n",
       "\t 2014   & 1      & 1      & 1905   & 18     & 2214   & 7      & 0      & B6     & N593JB & 263    & JFK    & SEA    & 346    & 2422   & 19     & 5     \\\\\n",
       "\\end{tabular}\n"
      ],
      "text/markdown": [
       "\n",
       "year | month | day | dep_time | dep_delay | arr_time | arr_delay | cancelled | carrier | tailnum | flight | origin | dest | air_time | distance | hour | min | \n",
       "|---|\n",
       "| 2014   | 1      | 1      | 1905   | 18     | 2214   | 7      | 0      | B6     | N593JB | 263    | JFK    | SEA    | 346    | 2422   | 19     | 5      | \n",
       "\n",
       "\n"
      ],
      "text/plain": [
       "  year month day dep_time dep_delay arr_time arr_delay cancelled carrier\n",
       "1 2014 1     1   1905     18        2214     7         0         B6     \n",
       "  tailnum flight origin dest air_time distance hour min\n",
       "1 N593JB  263    JFK    SEA  346      2422     19   5  "
      ]
     },
     "metadata": {},
     "output_type": "display_data"
    }
   ],
   "source": [
    "#select flights that depart from JFK and land on SEA\n",
    "mydata[origin == 'JFK' & dest == 'SEA']"
   ]
  },
  {
   "cell_type": "code",
   "execution_count": 32,
   "metadata": {},
   "outputs": [
    {
     "data": {
      "text/html": [
       "<table>\n",
       "<thead><tr><th scope=col>year</th><th scope=col>month</th><th scope=col>day</th><th scope=col>dep_time</th><th scope=col>dep_delay</th><th scope=col>arr_time</th><th scope=col>arr_delay</th><th scope=col>cancelled</th><th scope=col>carrier</th><th scope=col>tailnum</th><th scope=col>flight</th><th scope=col>origin</th><th scope=col>dest</th><th scope=col>air_time</th><th scope=col>distance</th><th scope=col>hour</th><th scope=col>min</th></tr></thead>\n",
       "<tbody>\n",
       "\t<tr><td>2014  </td><td>1     </td><td>1     </td><td>1607  </td><td>9     </td><td>1804  </td><td>33    </td><td>0     </td><td>UA    </td><td>N33284</td><td>1554  </td><td>EWR   </td><td>ORD   </td><td>139   </td><td>719   </td><td>16    </td><td>7     </td></tr>\n",
       "</tbody>\n",
       "</table>\n"
      ],
      "text/latex": [
       "\\begin{tabular}{r|lllllllllllllllll}\n",
       " year & month & day & dep\\_time & dep\\_delay & arr\\_time & arr\\_delay & cancelled & carrier & tailnum & flight & origin & dest & air\\_time & distance & hour & min\\\\\n",
       "\\hline\n",
       "\t 2014   & 1      & 1      & 1607   & 9      & 1804   & 33     & 0      & UA     & N33284 & 1554   & EWR    & ORD    & 139    & 719    & 16     & 7     \\\\\n",
       "\\end{tabular}\n"
      ],
      "text/markdown": [
       "\n",
       "year | month | day | dep_time | dep_delay | arr_time | arr_delay | cancelled | carrier | tailnum | flight | origin | dest | air_time | distance | hour | min | \n",
       "|---|\n",
       "| 2014   | 1      | 1      | 1607   | 9      | 1804   | 33     | 0      | UA     | N33284 | 1554   | EWR    | ORD    | 139    | 719    | 16     | 7      | \n",
       "\n",
       "\n"
      ],
      "text/plain": [
       "  year month day dep_time dep_delay arr_time arr_delay cancelled carrier\n",
       "1 2014 1     1   1607     9         1804     33        0         UA     \n",
       "  tailnum flight origin dest air_time distance hour min\n",
       "1 N33284  1554   EWR    ORD  139      719      16   7  "
      ]
     },
     "metadata": {},
     "output_type": "display_data"
    }
   ],
   "source": [
    "#apply not in subsetting\n",
    "\n",
    "#select fligns which not start from JFK or LGA\n",
    "mydata[!origin %in% c('JFK', 'LGA')]"
   ]
  },
  {
   "cell_type": "code",
   "execution_count": 34,
   "metadata": {},
   "outputs": [
    {
     "data": {},
     "metadata": {},
     "output_type": "display_data"
    },
    {
     "data": {
      "text/html": [
       "<table>\n",
       "<thead><tr><th scope=col>year</th><th scope=col>month</th><th scope=col>day</th><th scope=col>dep_time</th><th scope=col>dep_delay</th><th scope=col>arr_time</th><th scope=col>arr_delay</th><th scope=col>cancelled</th><th scope=col>carrier</th><th scope=col>tailnum</th><th scope=col>flight</th><th scope=col>origin</th><th scope=col>dest</th><th scope=col>air_time</th><th scope=col>distance</th><th scope=col>hour</th><th scope=col>min</th><th scope=col>isLongFlight</th></tr></thead>\n",
       "<tbody>\n",
       "\t<tr><td>2014  </td><td>1     </td><td>1     </td><td>1030  </td><td> -5   </td><td>1211  </td><td>-30   </td><td>0     </td><td>EV    </td><td>N604QX</td><td>5210  </td><td>LGA   </td><td>STL   </td><td>148   </td><td> 888  </td><td>10    </td><td>30    </td><td>FALSE </td></tr>\n",
       "\t<tr><td>2014  </td><td>1     </td><td>1     </td><td>1651  </td><td>231   </td><td>1755  </td><td>221   </td><td>0     </td><td>B6    </td><td>N239JB</td><td>  34  </td><td>JFK   </td><td>BTV   </td><td> 48   </td><td> 266  </td><td>16    </td><td>51    </td><td> TRUE </td></tr>\n",
       "\t<tr><td>2014  </td><td>1     </td><td>1     </td><td>1905  </td><td> 18   </td><td>2214  </td><td>  7   </td><td>0     </td><td>B6    </td><td>N593JB</td><td> 263  </td><td>JFK   </td><td>SEA   </td><td>346   </td><td>2422  </td><td>19    </td><td> 5    </td><td> TRUE </td></tr>\n",
       "\t<tr><td>2014  </td><td>1     </td><td>1     </td><td>1607  </td><td>  9   </td><td>1804  </td><td> 33   </td><td>0     </td><td>UA    </td><td>N33284</td><td>1554  </td><td>EWR   </td><td>ORD   </td><td>139   </td><td> 719  </td><td>16    </td><td> 7    </td><td> TRUE </td></tr>\n",
       "\t<tr><td>2014  </td><td>1     </td><td>2     </td><td>2336  </td><td>101   </td><td> 416  </td><td>210   </td><td>0     </td><td>B6    </td><td>N587JB</td><td>2053  </td><td>JFK   </td><td>PBI   </td><td>165   </td><td>1028  </td><td>23    </td><td>36    </td><td> TRUE </td></tr>\n",
       "\t<tr><td>2014  </td><td>1     </td><td>1     </td><td> 755  </td><td> -1   </td><td> 948  </td><td>-11   </td><td>0     </td><td>US    </td><td>N540UW</td><td>1733  </td><td>LGA   </td><td>CLT   </td><td> 88   </td><td> 544  </td><td> 7    </td><td>55    </td><td>FALSE </td></tr>\n",
       "\t<tr><td>2014  </td><td>1     </td><td>1     </td><td>1010  </td><td>  1   </td><td>1307  </td><td>-15   </td><td>0     </td><td>UA    </td><td>N475UA</td><td> 472  </td><td>LGA   </td><td>IAH   </td><td>216   </td><td>1416  </td><td>10    </td><td>10    </td><td>FALSE </td></tr>\n",
       "\t<tr><td>2014  </td><td>1     </td><td>1     </td><td>1242  </td><td> 73   </td><td>1531  </td><td> 45   </td><td>0     </td><td>UA    </td><td>N587UA</td><td> 785  </td><td>JFK   </td><td>LAX   </td><td>324   </td><td>2475  </td><td>12    </td><td>42    </td><td> TRUE </td></tr>\n",
       "\t<tr><td>2014  </td><td>1     </td><td>1     </td><td>1929  </td><td> -1   </td><td>2107  </td><td> -8   </td><td>0     </td><td>MQ    </td><td>N532MQ</td><td>3535  </td><td>JFK   </td><td>CMH   </td><td> 78   </td><td> 483  </td><td>19    </td><td>29    </td><td> TRUE </td></tr>\n",
       "\t<tr><td>2014  </td><td>1     </td><td>2     </td><td> 631  </td><td> 31   </td><td>1007  </td><td> 52   </td><td>0     </td><td>AA    </td><td>N3LBAA</td><td>1103  </td><td>LGA   </td><td>DFW   </td><td>244   </td><td>1389  </td><td> 6    </td><td>31    </td><td>FALSE </td></tr>\n",
       "</tbody>\n",
       "</table>\n"
      ],
      "text/latex": [
       "\\begin{tabular}{r|llllllllllllllllll}\n",
       " year & month & day & dep\\_time & dep\\_delay & arr\\_time & arr\\_delay & cancelled & carrier & tailnum & flight & origin & dest & air\\_time & distance & hour & min & isLongFlight\\\\\n",
       "\\hline\n",
       "\t 2014   & 1      & 1      & 1030   &  -5    & 1211   & -30    & 0      & EV     & N604QX & 5210   & LGA    & STL    & 148    &  888   & 10     & 30     & FALSE \\\\\n",
       "\t 2014   & 1      & 1      & 1651   & 231    & 1755   & 221    & 0      & B6     & N239JB &   34   & JFK    & BTV    &  48    &  266   & 16     & 51     &  TRUE \\\\\n",
       "\t 2014   & 1      & 1      & 1905   &  18    & 2214   &   7    & 0      & B6     & N593JB &  263   & JFK    & SEA    & 346    & 2422   & 19     &  5     &  TRUE \\\\\n",
       "\t 2014   & 1      & 1      & 1607   &   9    & 1804   &  33    & 0      & UA     & N33284 & 1554   & EWR    & ORD    & 139    &  719   & 16     &  7     &  TRUE \\\\\n",
       "\t 2014   & 1      & 2      & 2336   & 101    &  416   & 210    & 0      & B6     & N587JB & 2053   & JFK    & PBI    & 165    & 1028   & 23     & 36     &  TRUE \\\\\n",
       "\t 2014   & 1      & 1      &  755   &  -1    &  948   & -11    & 0      & US     & N540UW & 1733   & LGA    & CLT    &  88    &  544   &  7     & 55     & FALSE \\\\\n",
       "\t 2014   & 1      & 1      & 1010   &   1    & 1307   & -15    & 0      & UA     & N475UA &  472   & LGA    & IAH    & 216    & 1416   & 10     & 10     & FALSE \\\\\n",
       "\t 2014   & 1      & 1      & 1242   &  73    & 1531   &  45    & 0      & UA     & N587UA &  785   & JFK    & LAX    & 324    & 2475   & 12     & 42     &  TRUE \\\\\n",
       "\t 2014   & 1      & 1      & 1929   &  -1    & 2107   &  -8    & 0      & MQ     & N532MQ & 3535   & JFK    & CMH    &  78    &  483   & 19     & 29     &  TRUE \\\\\n",
       "\t 2014   & 1      & 2      &  631   &  31    & 1007   &  52    & 0      & AA     & N3LBAA & 1103   & LGA    & DFW    & 244    & 1389   &  6     & 31     & FALSE \\\\\n",
       "\\end{tabular}\n"
      ],
      "text/markdown": [
       "\n",
       "year | month | day | dep_time | dep_delay | arr_time | arr_delay | cancelled | carrier | tailnum | flight | origin | dest | air_time | distance | hour | min | isLongFlight | \n",
       "|---|---|---|---|---|---|---|---|---|---|\n",
       "| 2014   | 1      | 1      | 1030   |  -5    | 1211   | -30    | 0      | EV     | N604QX | 5210   | LGA    | STL    | 148    |  888   | 10     | 30     | FALSE  | \n",
       "| 2014   | 1      | 1      | 1651   | 231    | 1755   | 221    | 0      | B6     | N239JB |   34   | JFK    | BTV    |  48    |  266   | 16     | 51     |  TRUE  | \n",
       "| 2014   | 1      | 1      | 1905   |  18    | 2214   |   7    | 0      | B6     | N593JB |  263   | JFK    | SEA    | 346    | 2422   | 19     |  5     |  TRUE  | \n",
       "| 2014   | 1      | 1      | 1607   |   9    | 1804   |  33    | 0      | UA     | N33284 | 1554   | EWR    | ORD    | 139    |  719   | 16     |  7     |  TRUE  | \n",
       "| 2014   | 1      | 2      | 2336   | 101    |  416   | 210    | 0      | B6     | N587JB | 2053   | JFK    | PBI    | 165    | 1028   | 23     | 36     |  TRUE  | \n",
       "| 2014   | 1      | 1      |  755   |  -1    |  948   | -11    | 0      | US     | N540UW | 1733   | LGA    | CLT    |  88    |  544   |  7     | 55     | FALSE  | \n",
       "| 2014   | 1      | 1      | 1010   |   1    | 1307   | -15    | 0      | UA     | N475UA |  472   | LGA    | IAH    | 216    | 1416   | 10     | 10     | FALSE  | \n",
       "| 2014   | 1      | 1      | 1242   |  73    | 1531   |  45    | 0      | UA     | N587UA |  785   | JFK    | LAX    | 324    | 2475   | 12     | 42     |  TRUE  | \n",
       "| 2014   | 1      | 1      | 1929   |  -1    | 2107   |  -8    | 0      | MQ     | N532MQ | 3535   | JFK    | CMH    |  78    |  483   | 19     | 29     |  TRUE  | \n",
       "| 2014   | 1      | 2      |  631   |  31    | 1007   |  52    | 0      | AA     | N3LBAA | 1103   | LGA    | DFW    | 244    | 1389   |  6     | 31     | FALSE  | \n",
       "\n",
       "\n"
      ],
      "text/plain": [
       "   year month day dep_time dep_delay arr_time arr_delay cancelled carrier\n",
       "1  2014 1     1   1030      -5       1211     -30       0         EV     \n",
       "2  2014 1     1   1651     231       1755     221       0         B6     \n",
       "3  2014 1     1   1905      18       2214       7       0         B6     \n",
       "4  2014 1     1   1607       9       1804      33       0         UA     \n",
       "5  2014 1     2   2336     101        416     210       0         B6     \n",
       "6  2014 1     1    755      -1        948     -11       0         US     \n",
       "7  2014 1     1   1010       1       1307     -15       0         UA     \n",
       "8  2014 1     1   1242      73       1531      45       0         UA     \n",
       "9  2014 1     1   1929      -1       2107      -8       0         MQ     \n",
       "10 2014 1     2    631      31       1007      52       0         AA     \n",
       "   tailnum flight origin dest air_time distance hour min isLongFlight\n",
       "1  N604QX  5210   LGA    STL  148       888     10   30  FALSE       \n",
       "2  N239JB    34   JFK    BTV   48       266     16   51   TRUE       \n",
       "3  N593JB   263   JFK    SEA  346      2422     19    5   TRUE       \n",
       "4  N33284  1554   EWR    ORD  139       719     16    7   TRUE       \n",
       "5  N587JB  2053   JFK    PBI  165      1028     23   36   TRUE       \n",
       "6  N540UW  1733   LGA    CLT   88       544      7   55  FALSE       \n",
       "7  N475UA   472   LGA    IAH  216      1416     10   10  FALSE       \n",
       "8  N587UA   785   JFK    LAX  324      2475     12   42   TRUE       \n",
       "9  N532MQ  3535   JFK    CMH   78       483     19   29   TRUE       \n",
       "10 N3LBAA  1103   LGA    DFW  244      1389      6   31  FALSE       "
      ]
     },
     "metadata": {},
     "output_type": "display_data"
    }
   ],
   "source": [
    "#Adding column\n",
    "\n",
    "mydata[, isLongFlight := hour > 10]\n",
    "mydata"
   ]
  },
  {
   "cell_type": "code",
   "execution_count": 36,
   "metadata": {},
   "outputs": [
    {
     "data": {},
     "metadata": {},
     "output_type": "display_data"
    },
    {
     "data": {
      "text/html": [
       "<table>\n",
       "<thead><tr><th scope=col>year</th><th scope=col>month</th><th scope=col>day</th><th scope=col>dep_time</th><th scope=col>dep_delay</th><th scope=col>arr_time</th><th scope=col>arr_delay</th><th scope=col>cancelled</th><th scope=col>carrier</th><th scope=col>tailnum</th><th scope=col>flight</th><th scope=col>origin</th><th scope=col>dest</th><th scope=col>air_time</th><th scope=col>distance</th><th scope=col>hour</th><th scope=col>min</th><th scope=col>isLongFlight</th><th scope=col>dep_sch</th><th scope=col>arr_sch</th></tr></thead>\n",
       "<tbody>\n",
       "\t<tr><td>2014  </td><td>1     </td><td>1     </td><td>1030  </td><td> -5   </td><td>1211  </td><td>-30   </td><td>0     </td><td>EV    </td><td>N604QX</td><td>5210  </td><td>LGA   </td><td>STL   </td><td>148   </td><td> 888  </td><td>10    </td><td>30    </td><td>FALSE </td><td>1035  </td><td>1241  </td></tr>\n",
       "\t<tr><td>2014  </td><td>1     </td><td>1     </td><td>1651  </td><td>231   </td><td>1755  </td><td>221   </td><td>0     </td><td>B6    </td><td>N239JB</td><td>  34  </td><td>JFK   </td><td>BTV   </td><td> 48   </td><td> 266  </td><td>16    </td><td>51    </td><td> TRUE </td><td>1420  </td><td>1534  </td></tr>\n",
       "\t<tr><td>2014  </td><td>1     </td><td>1     </td><td>1905  </td><td> 18   </td><td>2214  </td><td>  7   </td><td>0     </td><td>B6    </td><td>N593JB</td><td> 263  </td><td>JFK   </td><td>SEA   </td><td>346   </td><td>2422  </td><td>19    </td><td> 5    </td><td> TRUE </td><td>1887  </td><td>2207  </td></tr>\n",
       "\t<tr><td>2014  </td><td>1     </td><td>1     </td><td>1607  </td><td>  9   </td><td>1804  </td><td> 33   </td><td>0     </td><td>UA    </td><td>N33284</td><td>1554  </td><td>EWR   </td><td>ORD   </td><td>139   </td><td> 719  </td><td>16    </td><td> 7    </td><td> TRUE </td><td>1598  </td><td>1771  </td></tr>\n",
       "\t<tr><td>2014  </td><td>1     </td><td>2     </td><td>2336  </td><td>101   </td><td> 416  </td><td>210   </td><td>0     </td><td>B6    </td><td>N587JB</td><td>2053  </td><td>JFK   </td><td>PBI   </td><td>165   </td><td>1028  </td><td>23    </td><td>36    </td><td> TRUE </td><td>2235  </td><td> 206  </td></tr>\n",
       "\t<tr><td>2014  </td><td>1     </td><td>1     </td><td> 755  </td><td> -1   </td><td> 948  </td><td>-11   </td><td>0     </td><td>US    </td><td>N540UW</td><td>1733  </td><td>LGA   </td><td>CLT   </td><td> 88   </td><td> 544  </td><td> 7    </td><td>55    </td><td>FALSE </td><td> 756  </td><td> 959  </td></tr>\n",
       "\t<tr><td>2014  </td><td>1     </td><td>1     </td><td>1010  </td><td>  1   </td><td>1307  </td><td>-15   </td><td>0     </td><td>UA    </td><td>N475UA</td><td> 472  </td><td>LGA   </td><td>IAH   </td><td>216   </td><td>1416  </td><td>10    </td><td>10    </td><td>FALSE </td><td>1009  </td><td>1322  </td></tr>\n",
       "\t<tr><td>2014  </td><td>1     </td><td>1     </td><td>1242  </td><td> 73   </td><td>1531  </td><td> 45   </td><td>0     </td><td>UA    </td><td>N587UA</td><td> 785  </td><td>JFK   </td><td>LAX   </td><td>324   </td><td>2475  </td><td>12    </td><td>42    </td><td> TRUE </td><td>1169  </td><td>1486  </td></tr>\n",
       "\t<tr><td>2014  </td><td>1     </td><td>1     </td><td>1929  </td><td> -1   </td><td>2107  </td><td> -8   </td><td>0     </td><td>MQ    </td><td>N532MQ</td><td>3535  </td><td>JFK   </td><td>CMH   </td><td> 78   </td><td> 483  </td><td>19    </td><td>29    </td><td> TRUE </td><td>1930  </td><td>2115  </td></tr>\n",
       "\t<tr><td>2014  </td><td>1     </td><td>2     </td><td> 631  </td><td> 31   </td><td>1007  </td><td> 52   </td><td>0     </td><td>AA    </td><td>N3LBAA</td><td>1103  </td><td>LGA   </td><td>DFW   </td><td>244   </td><td>1389  </td><td> 6    </td><td>31    </td><td>FALSE </td><td> 600  </td><td> 955  </td></tr>\n",
       "</tbody>\n",
       "</table>\n"
      ],
      "text/latex": [
       "\\begin{tabular}{r|llllllllllllllllllll}\n",
       " year & month & day & dep\\_time & dep\\_delay & arr\\_time & arr\\_delay & cancelled & carrier & tailnum & flight & origin & dest & air\\_time & distance & hour & min & isLongFlight & dep\\_sch & arr\\_sch\\\\\n",
       "\\hline\n",
       "\t 2014   & 1      & 1      & 1030   &  -5    & 1211   & -30    & 0      & EV     & N604QX & 5210   & LGA    & STL    & 148    &  888   & 10     & 30     & FALSE  & 1035   & 1241  \\\\\n",
       "\t 2014   & 1      & 1      & 1651   & 231    & 1755   & 221    & 0      & B6     & N239JB &   34   & JFK    & BTV    &  48    &  266   & 16     & 51     &  TRUE  & 1420   & 1534  \\\\\n",
       "\t 2014   & 1      & 1      & 1905   &  18    & 2214   &   7    & 0      & B6     & N593JB &  263   & JFK    & SEA    & 346    & 2422   & 19     &  5     &  TRUE  & 1887   & 2207  \\\\\n",
       "\t 2014   & 1      & 1      & 1607   &   9    & 1804   &  33    & 0      & UA     & N33284 & 1554   & EWR    & ORD    & 139    &  719   & 16     &  7     &  TRUE  & 1598   & 1771  \\\\\n",
       "\t 2014   & 1      & 2      & 2336   & 101    &  416   & 210    & 0      & B6     & N587JB & 2053   & JFK    & PBI    & 165    & 1028   & 23     & 36     &  TRUE  & 2235   &  206  \\\\\n",
       "\t 2014   & 1      & 1      &  755   &  -1    &  948   & -11    & 0      & US     & N540UW & 1733   & LGA    & CLT    &  88    &  544   &  7     & 55     & FALSE  &  756   &  959  \\\\\n",
       "\t 2014   & 1      & 1      & 1010   &   1    & 1307   & -15    & 0      & UA     & N475UA &  472   & LGA    & IAH    & 216    & 1416   & 10     & 10     & FALSE  & 1009   & 1322  \\\\\n",
       "\t 2014   & 1      & 1      & 1242   &  73    & 1531   &  45    & 0      & UA     & N587UA &  785   & JFK    & LAX    & 324    & 2475   & 12     & 42     &  TRUE  & 1169   & 1486  \\\\\n",
       "\t 2014   & 1      & 1      & 1929   &  -1    & 2107   &  -8    & 0      & MQ     & N532MQ & 3535   & JFK    & CMH    &  78    &  483   & 19     & 29     &  TRUE  & 1930   & 2115  \\\\\n",
       "\t 2014   & 1      & 2      &  631   &  31    & 1007   &  52    & 0      & AA     & N3LBAA & 1103   & LGA    & DFW    & 244    & 1389   &  6     & 31     & FALSE  &  600   &  955  \\\\\n",
       "\\end{tabular}\n"
      ],
      "text/markdown": [
       "\n",
       "year | month | day | dep_time | dep_delay | arr_time | arr_delay | cancelled | carrier | tailnum | flight | origin | dest | air_time | distance | hour | min | isLongFlight | dep_sch | arr_sch | \n",
       "|---|---|---|---|---|---|---|---|---|---|\n",
       "| 2014   | 1      | 1      | 1030   |  -5    | 1211   | -30    | 0      | EV     | N604QX | 5210   | LGA    | STL    | 148    |  888   | 10     | 30     | FALSE  | 1035   | 1241   | \n",
       "| 2014   | 1      | 1      | 1651   | 231    | 1755   | 221    | 0      | B6     | N239JB |   34   | JFK    | BTV    |  48    |  266   | 16     | 51     |  TRUE  | 1420   | 1534   | \n",
       "| 2014   | 1      | 1      | 1905   |  18    | 2214   |   7    | 0      | B6     | N593JB |  263   | JFK    | SEA    | 346    | 2422   | 19     |  5     |  TRUE  | 1887   | 2207   | \n",
       "| 2014   | 1      | 1      | 1607   |   9    | 1804   |  33    | 0      | UA     | N33284 | 1554   | EWR    | ORD    | 139    |  719   | 16     |  7     |  TRUE  | 1598   | 1771   | \n",
       "| 2014   | 1      | 2      | 2336   | 101    |  416   | 210    | 0      | B6     | N587JB | 2053   | JFK    | PBI    | 165    | 1028   | 23     | 36     |  TRUE  | 2235   |  206   | \n",
       "| 2014   | 1      | 1      |  755   |  -1    |  948   | -11    | 0      | US     | N540UW | 1733   | LGA    | CLT    |  88    |  544   |  7     | 55     | FALSE  |  756   |  959   | \n",
       "| 2014   | 1      | 1      | 1010   |   1    | 1307   | -15    | 0      | UA     | N475UA |  472   | LGA    | IAH    | 216    | 1416   | 10     | 10     | FALSE  | 1009   | 1322   | \n",
       "| 2014   | 1      | 1      | 1242   |  73    | 1531   |  45    | 0      | UA     | N587UA |  785   | JFK    | LAX    | 324    | 2475   | 12     | 42     |  TRUE  | 1169   | 1486   | \n",
       "| 2014   | 1      | 1      | 1929   |  -1    | 2107   |  -8    | 0      | MQ     | N532MQ | 3535   | JFK    | CMH    |  78    |  483   | 19     | 29     |  TRUE  | 1930   | 2115   | \n",
       "| 2014   | 1      | 2      |  631   |  31    | 1007   |  52    | 0      | AA     | N3LBAA | 1103   | LGA    | DFW    | 244    | 1389   |  6     | 31     | FALSE  |  600   |  955   | \n",
       "\n",
       "\n"
      ],
      "text/plain": [
       "   year month day dep_time dep_delay arr_time arr_delay cancelled carrier\n",
       "1  2014 1     1   1030      -5       1211     -30       0         EV     \n",
       "2  2014 1     1   1651     231       1755     221       0         B6     \n",
       "3  2014 1     1   1905      18       2214       7       0         B6     \n",
       "4  2014 1     1   1607       9       1804      33       0         UA     \n",
       "5  2014 1     2   2336     101        416     210       0         B6     \n",
       "6  2014 1     1    755      -1        948     -11       0         US     \n",
       "7  2014 1     1   1010       1       1307     -15       0         UA     \n",
       "8  2014 1     1   1242      73       1531      45       0         UA     \n",
       "9  2014 1     1   1929      -1       2107      -8       0         MQ     \n",
       "10 2014 1     2    631      31       1007      52       0         AA     \n",
       "   tailnum flight origin dest air_time distance hour min isLongFlight dep_sch\n",
       "1  N604QX  5210   LGA    STL  148       888     10   30  FALSE        1035   \n",
       "2  N239JB    34   JFK    BTV   48       266     16   51   TRUE        1420   \n",
       "3  N593JB   263   JFK    SEA  346      2422     19    5   TRUE        1887   \n",
       "4  N33284  1554   EWR    ORD  139       719     16    7   TRUE        1598   \n",
       "5  N587JB  2053   JFK    PBI  165      1028     23   36   TRUE        2235   \n",
       "6  N540UW  1733   LGA    CLT   88       544      7   55  FALSE         756   \n",
       "7  N475UA   472   LGA    IAH  216      1416     10   10  FALSE        1009   \n",
       "8  N587UA   785   JFK    LAX  324      2475     12   42   TRUE        1169   \n",
       "9  N532MQ  3535   JFK    CMH   78       483     19   29   TRUE        1930   \n",
       "10 N3LBAA  1103   LGA    DFW  244      1389      6   31  FALSE         600   \n",
       "   arr_sch\n",
       "1  1241   \n",
       "2  1534   \n",
       "3  2207   \n",
       "4  1771   \n",
       "5   206   \n",
       "6   959   \n",
       "7  1322   \n",
       "8  1486   \n",
       "9  2115   \n",
       "10  955   "
      ]
     },
     "metadata": {},
     "output_type": "display_data"
    }
   ],
   "source": [
    "#add multiple columns\n",
    "mydata[, c('dep_sch', 'arr_sch') := list(dep_time - dep_delay, arr_time - arr_delay)]\n",
    "mydata"
   ]
  },
  {
   "cell_type": "code",
   "execution_count": 41,
   "metadata": {},
   "outputs": [
    {
     "data": {
      "text/html": [
       "<table>\n",
       "<thead><tr><th scope=col>mean</th><th scope=col>median</th></tr></thead>\n",
       "<tbody>\n",
       "\t<tr><td>45.7</td><td>13.5</td></tr>\n",
       "</tbody>\n",
       "</table>\n"
      ],
      "text/latex": [
       "\\begin{tabular}{r|ll}\n",
       " mean & median\\\\\n",
       "\\hline\n",
       "\t 45.7 & 13.5\\\\\n",
       "\\end{tabular}\n"
      ],
      "text/markdown": [
       "\n",
       "mean | median | \n",
       "|---|\n",
       "| 45.7 | 13.5 | \n",
       "\n",
       "\n"
      ],
      "text/plain": [
       "  mean median\n",
       "1 45.7 13.5  "
      ]
     },
     "metadata": {},
     "output_type": "display_data"
    }
   ],
   "source": [
    "#Summary dataset\n",
    "mydata[, .(\n",
    "    mean = mean(dep_delay, na.rm = TRUE),\n",
    "    median = median(dep_delay, na.rm = TRUE)\n",
    ")]"
   ]
  },
  {
   "cell_type": "code",
   "execution_count": 42,
   "metadata": {},
   "outputs": [
    {
     "data": {
      "text/html": [
       "<table>\n",
       "<thead><tr><th scope=col>dep_delay</th><th scope=col>dep_time</th><th scope=col>arr_delay</th><th scope=col>arr_time</th></tr></thead>\n",
       "<tbody>\n",
       "\t<tr><td>45.7  </td><td>1409.6</td><td>50.4  </td><td>1430  </td></tr>\n",
       "</tbody>\n",
       "</table>\n"
      ],
      "text/latex": [
       "\\begin{tabular}{r|llll}\n",
       " dep\\_delay & dep\\_time & arr\\_delay & arr\\_time\\\\\n",
       "\\hline\n",
       "\t 45.7   & 1409.6 & 50.4   & 1430  \\\\\n",
       "\\end{tabular}\n"
      ],
      "text/markdown": [
       "\n",
       "dep_delay | dep_time | arr_delay | arr_time | \n",
       "|---|\n",
       "| 45.7   | 1409.6 | 50.4   | 1430   | \n",
       "\n",
       "\n"
      ],
      "text/plain": [
       "  dep_delay dep_time arr_delay arr_time\n",
       "1 45.7      1409.6   50.4      1430    "
      ]
     },
     "metadata": {},
     "output_type": "display_data"
    }
   ],
   "source": [
    "#summarize multiple columns\n",
    "mydata[, lapply(.SD, mean), .SDcols = c('dep_delay', 'dep_time', 'arr_delay', 'arr_time')]"
   ]
  },
  {
   "cell_type": "code",
   "execution_count": 43,
   "metadata": {},
   "outputs": [
    {
     "name": "stderr",
     "output_type": "stream",
     "text": [
      "Warning message in mean.default(X[[i]], ...):\n",
      "“argument is not numeric or logical: returning NA”Warning message in mean.default(X[[i]], ...):\n",
      "“argument is not numeric or logical: returning NA”Warning message in mean.default(X[[i]], ...):\n",
      "“argument is not numeric or logical: returning NA”Warning message in mean.default(X[[i]], ...):\n",
      "“argument is not numeric or logical: returning NA”"
     ]
    },
    {
     "data": {
      "text/html": [
       "<table>\n",
       "<thead><tr><th scope=col>year</th><th scope=col>month</th><th scope=col>day</th><th scope=col>dep_time</th><th scope=col>dep_delay</th><th scope=col>arr_time</th><th scope=col>arr_delay</th><th scope=col>cancelled</th><th scope=col>carrier</th><th scope=col>tailnum</th><th scope=col>flight</th><th scope=col>origin</th><th scope=col>dest</th><th scope=col>air_time</th><th scope=col>distance</th><th scope=col>hour</th><th scope=col>min</th><th scope=col>isLongFlight</th><th scope=col>dep_sch</th><th scope=col>arr_sch</th></tr></thead>\n",
       "<tbody>\n",
       "\t<tr><td>2014  </td><td>1     </td><td>1.2   </td><td>1409.6</td><td>45.7  </td><td>1430  </td><td>50.4  </td><td>0     </td><td>NA    </td><td>NA    </td><td>1674.2</td><td>NA    </td><td>NA    </td><td>179.6 </td><td>1163  </td><td>13.8  </td><td>29.6  </td><td>0.6   </td><td>1363.9</td><td>1379.6</td></tr>\n",
       "</tbody>\n",
       "</table>\n"
      ],
      "text/latex": [
       "\\begin{tabular}{r|llllllllllllllllllll}\n",
       " year & month & day & dep\\_time & dep\\_delay & arr\\_time & arr\\_delay & cancelled & carrier & tailnum & flight & origin & dest & air\\_time & distance & hour & min & isLongFlight & dep\\_sch & arr\\_sch\\\\\n",
       "\\hline\n",
       "\t 2014   & 1      & 1.2    & 1409.6 & 45.7   & 1430   & 50.4   & 0      & NA     & NA     & 1674.2 & NA     & NA     & 179.6  & 1163   & 13.8   & 29.6   & 0.6    & 1363.9 & 1379.6\\\\\n",
       "\\end{tabular}\n"
      ],
      "text/markdown": [
       "\n",
       "year | month | day | dep_time | dep_delay | arr_time | arr_delay | cancelled | carrier | tailnum | flight | origin | dest | air_time | distance | hour | min | isLongFlight | dep_sch | arr_sch | \n",
       "|---|\n",
       "| 2014   | 1      | 1.2    | 1409.6 | 45.7   | 1430   | 50.4   | 0      | NA     | NA     | 1674.2 | NA     | NA     | 179.6  | 1163   | 13.8   | 29.6   | 0.6    | 1363.9 | 1379.6 | \n",
       "\n",
       "\n"
      ],
      "text/plain": [
       "  year month day dep_time dep_delay arr_time arr_delay cancelled carrier\n",
       "1 2014 1     1.2 1409.6   45.7      1430     50.4      0         NA     \n",
       "  tailnum flight origin dest air_time distance hour min  isLongFlight dep_sch\n",
       "1 NA      1674.2 NA     NA   179.6    1163     13.8 29.6 0.6          1363.9 \n",
       "  arr_sch\n",
       "1 1379.6 "
      ]
     },
     "metadata": {},
     "output_type": "display_data"
    }
   ],
   "source": [
    "mydata[, lapply(.SD, mean), .SDCols = c('dep_delay', 'dep_time')]"
   ]
  },
  {
   "cell_type": "code",
   "execution_count": null,
   "metadata": {},
   "outputs": [],
   "source": []
  }
 ],
 "metadata": {
  "kernelspec": {
   "display_name": "R",
   "language": "R",
   "name": "ir"
  },
  "language_info": {
   "codemirror_mode": "r",
   "file_extension": ".r",
   "mimetype": "text/x-r-source",
   "name": "R",
   "pygments_lexer": "r",
   "version": "3.5.0"
  }
 },
 "nbformat": 4,
 "nbformat_minor": 2
}
